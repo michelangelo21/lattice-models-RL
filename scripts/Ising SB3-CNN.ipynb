{
 "cells": [
  {
   "cell_type": "code",
   "execution_count": 1,
   "metadata": {},
   "outputs": [],
   "source": [
    "import gym\n",
    "from stable_baselines3 import PPO, DQN\n",
    "from datetime import datetime\n",
    "from gym.wrappers import TimeLimit\n"
   ]
  },
  {
   "cell_type": "code",
   "execution_count": 2,
   "metadata": {},
   "outputs": [
    {
     "name": "stderr",
     "output_type": "stream",
     "text": [
      "/home/michelangelo/Documents/spin-lattice-RL/gym-xymodel/gym_xymodel/envs/isingmodel_env.py:38: RuntimeWarning: overflow encountered in ubyte_scalars\n",
      "  lattice[i, j] * (lattice[i - 1, j] + lattice[i, j - 1])\n",
      "/home/michelangelo/miniconda3/envs/spinlatrl/lib/python3.9/site-packages/stable_baselines3/common/env_checker.py:34: UserWarning: It seems that your observation space  is an image but the upper and lower bounds are not in [0, 255]. Because the CNN policy normalize automatically the observation you may encounter issue if the values are not in that range.\n",
      "  warnings.warn(\n",
      "/home/michelangelo/miniconda3/envs/spinlatrl/lib/python3.9/site-packages/stable_baselines3/common/env_checker.py:47: UserWarning: The minimal resolution for an image is 36x36 for the default `CnnPolicy`. You might need to use a custom feature extractor cf. https://stable-baselines3.readthedocs.io/en/master/guide/custom_policy.html\n",
      "  warnings.warn(\n"
     ]
    },
    {
     "ename": "IndexError",
     "evalue": "index 13 is out of bounds for axis 0 with size 1",
     "output_type": "error",
     "traceback": [
      "\u001b[0;31m---------------------------------------------------------------------------\u001b[0m",
      "\u001b[0;31mIndexError\u001b[0m                                Traceback (most recent call last)",
      "\u001b[1;32m/home/michelangelo/Documents/spin-lattice-RL/scripts/Ising SB3-CNN.ipynb Cell 2'\u001b[0m in \u001b[0;36m<module>\u001b[0;34m\u001b[0m\n\u001b[1;32m      <a href='vscode-notebook-cell://wsl%2Bubuntu/home/michelangelo/Documents/spin-lattice-RL/scripts/Ising%20SB3-CNN.ipynb#ch0000001vscode-remote?line=2'>3</a>\u001b[0m env \u001b[39m=\u001b[39m TimeLimit(env, max_episode_steps\u001b[39m=\u001b[39m\u001b[39m100\u001b[39m)\n\u001b[1;32m      <a href='vscode-notebook-cell://wsl%2Bubuntu/home/michelangelo/Documents/spin-lattice-RL/scripts/Ising%20SB3-CNN.ipynb#ch0000001vscode-remote?line=3'>4</a>\u001b[0m \u001b[39mfrom\u001b[39;00m \u001b[39mstable_baselines3\u001b[39;00m\u001b[39m.\u001b[39;00m\u001b[39mcommon\u001b[39;00m\u001b[39m.\u001b[39;00m\u001b[39menv_checker\u001b[39;00m \u001b[39mimport\u001b[39;00m check_env\n\u001b[0;32m----> <a href='vscode-notebook-cell://wsl%2Bubuntu/home/michelangelo/Documents/spin-lattice-RL/scripts/Ising%20SB3-CNN.ipynb#ch0000001vscode-remote?line=4'>5</a>\u001b[0m check_env(env)\n",
      "File \u001b[0;32m~/miniconda3/envs/spinlatrl/lib/python3.9/site-packages/stable_baselines3/common/env_checker.py:283\u001b[0m, in \u001b[0;36mcheck_env\u001b[0;34m(env, warn, skip_render_check)\u001b[0m\n\u001b[1;32m    <a href='file:///home/michelangelo/miniconda3/envs/spinlatrl/lib/python3.9/site-packages/stable_baselines3/common/env_checker.py?line=277'>278</a>\u001b[0m         warnings\u001b[39m.\u001b[39mwarn(\n\u001b[1;32m    <a href='file:///home/michelangelo/miniconda3/envs/spinlatrl/lib/python3.9/site-packages/stable_baselines3/common/env_checker.py?line=278'>279</a>\u001b[0m             \u001b[39mf\u001b[39m\u001b[39m\"\u001b[39m\u001b[39mYour action space has dtype \u001b[39m\u001b[39m{\u001b[39;00maction_space\u001b[39m.\u001b[39mdtype\u001b[39m}\u001b[39;00m\u001b[39m, we recommend using np.float32 to avoid cast errors.\u001b[39m\u001b[39m\"\u001b[39m\n\u001b[1;32m    <a href='file:///home/michelangelo/miniconda3/envs/spinlatrl/lib/python3.9/site-packages/stable_baselines3/common/env_checker.py?line=279'>280</a>\u001b[0m         )\n\u001b[1;32m    <a href='file:///home/michelangelo/miniconda3/envs/spinlatrl/lib/python3.9/site-packages/stable_baselines3/common/env_checker.py?line=281'>282</a>\u001b[0m \u001b[39m# ============ Check the returned values ===============\u001b[39;00m\n\u001b[0;32m--> <a href='file:///home/michelangelo/miniconda3/envs/spinlatrl/lib/python3.9/site-packages/stable_baselines3/common/env_checker.py?line=282'>283</a>\u001b[0m _check_returned_values(env, observation_space, action_space)\n\u001b[1;32m    <a href='file:///home/michelangelo/miniconda3/envs/spinlatrl/lib/python3.9/site-packages/stable_baselines3/common/env_checker.py?line=284'>285</a>\u001b[0m \u001b[39m# ==== Check the render method and the declared render modes ====\u001b[39;00m\n\u001b[1;32m    <a href='file:///home/michelangelo/miniconda3/envs/spinlatrl/lib/python3.9/site-packages/stable_baselines3/common/env_checker.py?line=285'>286</a>\u001b[0m \u001b[39mif\u001b[39;00m \u001b[39mnot\u001b[39;00m skip_render_check:\n",
      "File \u001b[0;32m~/miniconda3/envs/spinlatrl/lib/python3.9/site-packages/stable_baselines3/common/env_checker.py:156\u001b[0m, in \u001b[0;36m_check_returned_values\u001b[0;34m(env, observation_space, action_space)\u001b[0m\n\u001b[1;32m    <a href='file:///home/michelangelo/miniconda3/envs/spinlatrl/lib/python3.9/site-packages/stable_baselines3/common/env_checker.py?line=153'>154</a>\u001b[0m \u001b[39m# Sample a random action\u001b[39;00m\n\u001b[1;32m    <a href='file:///home/michelangelo/miniconda3/envs/spinlatrl/lib/python3.9/site-packages/stable_baselines3/common/env_checker.py?line=154'>155</a>\u001b[0m action \u001b[39m=\u001b[39m action_space\u001b[39m.\u001b[39msample()\n\u001b[0;32m--> <a href='file:///home/michelangelo/miniconda3/envs/spinlatrl/lib/python3.9/site-packages/stable_baselines3/common/env_checker.py?line=155'>156</a>\u001b[0m data \u001b[39m=\u001b[39m env\u001b[39m.\u001b[39;49mstep(action)\n\u001b[1;32m    <a href='file:///home/michelangelo/miniconda3/envs/spinlatrl/lib/python3.9/site-packages/stable_baselines3/common/env_checker.py?line=157'>158</a>\u001b[0m \u001b[39massert\u001b[39;00m \u001b[39mlen\u001b[39m(data) \u001b[39m==\u001b[39m \u001b[39m4\u001b[39m, \u001b[39m\"\u001b[39m\u001b[39mThe `step()` method must return four values: obs, reward, done, info\u001b[39m\u001b[39m\"\u001b[39m\n\u001b[1;32m    <a href='file:///home/michelangelo/miniconda3/envs/spinlatrl/lib/python3.9/site-packages/stable_baselines3/common/env_checker.py?line=159'>160</a>\u001b[0m \u001b[39m# Unpack\u001b[39;00m\n",
      "File \u001b[0;32m~/miniconda3/envs/spinlatrl/lib/python3.9/site-packages/gym/wrappers/time_limit.py:18\u001b[0m, in \u001b[0;36mTimeLimit.step\u001b[0;34m(self, action)\u001b[0m\n\u001b[1;32m     <a href='file:///home/michelangelo/miniconda3/envs/spinlatrl/lib/python3.9/site-packages/gym/wrappers/time_limit.py?line=13'>14</a>\u001b[0m \u001b[39mdef\u001b[39;00m \u001b[39mstep\u001b[39m(\u001b[39mself\u001b[39m, action):\n\u001b[1;32m     <a href='file:///home/michelangelo/miniconda3/envs/spinlatrl/lib/python3.9/site-packages/gym/wrappers/time_limit.py?line=14'>15</a>\u001b[0m     \u001b[39massert\u001b[39;00m (\n\u001b[1;32m     <a href='file:///home/michelangelo/miniconda3/envs/spinlatrl/lib/python3.9/site-packages/gym/wrappers/time_limit.py?line=15'>16</a>\u001b[0m         \u001b[39mself\u001b[39m\u001b[39m.\u001b[39m_elapsed_steps \u001b[39mis\u001b[39;00m \u001b[39mnot\u001b[39;00m \u001b[39mNone\u001b[39;00m\n\u001b[1;32m     <a href='file:///home/michelangelo/miniconda3/envs/spinlatrl/lib/python3.9/site-packages/gym/wrappers/time_limit.py?line=16'>17</a>\u001b[0m     ), \u001b[39m\"\u001b[39m\u001b[39mCannot call env.step() before calling reset()\u001b[39m\u001b[39m\"\u001b[39m\n\u001b[0;32m---> <a href='file:///home/michelangelo/miniconda3/envs/spinlatrl/lib/python3.9/site-packages/gym/wrappers/time_limit.py?line=17'>18</a>\u001b[0m     observation, reward, done, info \u001b[39m=\u001b[39m \u001b[39mself\u001b[39;49m\u001b[39m.\u001b[39;49menv\u001b[39m.\u001b[39;49mstep(action)\n\u001b[1;32m     <a href='file:///home/michelangelo/miniconda3/envs/spinlatrl/lib/python3.9/site-packages/gym/wrappers/time_limit.py?line=18'>19</a>\u001b[0m     \u001b[39mself\u001b[39m\u001b[39m.\u001b[39m_elapsed_steps \u001b[39m+\u001b[39m\u001b[39m=\u001b[39m \u001b[39m1\u001b[39m\n\u001b[1;32m     <a href='file:///home/michelangelo/miniconda3/envs/spinlatrl/lib/python3.9/site-packages/gym/wrappers/time_limit.py?line=19'>20</a>\u001b[0m     \u001b[39mif\u001b[39;00m \u001b[39mself\u001b[39m\u001b[39m.\u001b[39m_elapsed_steps \u001b[39m>\u001b[39m\u001b[39m=\u001b[39m \u001b[39mself\u001b[39m\u001b[39m.\u001b[39m_max_episode_steps:\n",
      "File \u001b[0;32m~/Documents/spin-lattice-RL/gym-xymodel/gym_xymodel/envs/isingmodel_env.py:54\u001b[0m, in \u001b[0;36mIsingModelEnv.step\u001b[0;34m(self, action)\u001b[0m\n\u001b[1;32m     <a href='file:///home/michelangelo/Documents/spin-lattice-RL/gym-xymodel/gym_xymodel/envs/isingmodel_env.py?line=52'>53</a>\u001b[0m \u001b[39mdef\u001b[39;00m \u001b[39mstep\u001b[39m(\u001b[39mself\u001b[39m, action):\n\u001b[0;32m---> <a href='file:///home/michelangelo/Documents/spin-lattice-RL/gym-xymodel/gym_xymodel/envs/isingmodel_env.py?line=53'>54</a>\u001b[0m     \u001b[39mself\u001b[39m\u001b[39m.\u001b[39mstate[action] \u001b[39m=\u001b[39m \u001b[39m1\u001b[39m \u001b[39mif\u001b[39;00m \u001b[39mself\u001b[39;49m\u001b[39m.\u001b[39;49mstate[action] \u001b[39m==\u001b[39m \u001b[39m0\u001b[39m \u001b[39melse\u001b[39;00m \u001b[39m0\u001b[39m\n\u001b[1;32m     <a href='file:///home/michelangelo/Documents/spin-lattice-RL/gym-xymodel/gym_xymodel/envs/isingmodel_env.py?line=54'>55</a>\u001b[0m     new_energy \u001b[39m=\u001b[39m \u001b[39mself\u001b[39m\u001b[39m.\u001b[39mcompute_energy()\n\u001b[1;32m     <a href='file:///home/michelangelo/Documents/spin-lattice-RL/gym-xymodel/gym_xymodel/envs/isingmodel_env.py?line=55'>56</a>\u001b[0m     \u001b[39m# finding minimal energy state, reward is difference between old and new energy\u001b[39;00m\n",
      "\u001b[0;31mIndexError\u001b[0m: index 13 is out of bounds for axis 0 with size 1"
     ]
    }
   ],
   "source": [
    "side_length = 4\n",
    "env = gym.make(\"gym_xymodel:isingmodel-v0\", side_len=side_length)\n",
    "env = TimeLimit(env, max_episode_steps=100)\n",
    "from stable_baselines3.common.env_checker import check_env\n",
    "check_env(env)\n",
    "# env = gym.make('CartPole-v1')"
   ]
  },
  {
   "cell_type": "code",
   "execution_count": 3,
   "metadata": {},
   "outputs": [],
   "source": [
    "import gym\n",
    "import torch as th\n",
    "import torch.nn as nn\n",
    "\n",
    "from stable_baselines3.common.torch_layers import BaseFeaturesExtractor\n",
    "\n",
    "\n",
    "class CustomCNN(BaseFeaturesExtractor):\n",
    "    \"\"\"\n",
    "    :param observation_space: (gym.Space)\n",
    "    :param features_dim: (int) Number of features extracted.\n",
    "        This corresponds to the number of unit for the last layer.\n",
    "    \"\"\"\n",
    "\n",
    "    def __init__(self, observation_space: gym.spaces.Box, features_dim: int = 256):\n",
    "        super(CustomCNN, self).__init__(observation_space, features_dim)\n",
    "        # We assume CxHxW images (channels first)\n",
    "        # Re-ordering will be done by pre-preprocessing or wrapper\n",
    "        n_input_channels = observation_space.shape[0]\n",
    "        self.cnn = nn.Sequential(\n",
    "            nn.Conv2d(n_input_channels, 32, kernel_size=8, stride=4, padding=0),\n",
    "            nn.ReLU(),\n",
    "            nn.Conv2d(32, 64, kernel_size=4, stride=2, padding=0),\n",
    "            nn.ReLU(),\n",
    "            nn.Flatten(),\n",
    "        )\n",
    "\n",
    "        # Compute shape by doing one forward pass\n",
    "        with th.no_grad():\n",
    "            n_flatten = self.cnn(\n",
    "                th.as_tensor(observation_space.sample()[None]).float()\n",
    "            ).shape[1]\n",
    "\n",
    "        self.linear = nn.Sequential(nn.Linear(n_flatten, features_dim), nn.ReLU())\n",
    "\n",
    "    def forward(self, observations: th.Tensor) -> th.Tensor:\n",
    "        return self.linear(self.cnn(observations))\n",
    "\n",
    "policy_kwargs = dict(\n",
    "    features_extractor_class=CustomCNN,\n",
    "    features_extractor_kwargs=dict(features_dim=128),\n",
    ")   "
   ]
  },
  {
   "cell_type": "code",
   "execution_count": 4,
   "metadata": {},
   "outputs": [
    {
     "name": "stdout",
     "output_type": "stream",
     "text": [
      "Using cuda device\n",
      "Wrapping the env with a `Monitor` wrapper\n",
      "Wrapping the env in a DummyVecEnv.\n"
     ]
    },
    {
     "ename": "RuntimeError",
     "evalue": "Expected 4-dimensional input for 4-dimensional weight [32, 16, 8, 8], but got 2-dimensional input of size [1, 16] instead",
     "output_type": "error",
     "traceback": [
      "\u001b[0;31m---------------------------------------------------------------------------\u001b[0m",
      "\u001b[0;31mRuntimeError\u001b[0m                              Traceback (most recent call last)",
      "\u001b[1;32m/home/michelangelo/Documents/spin-lattice-RL/scripts/Ising SB3-CNN.ipynb Cell 4'\u001b[0m in \u001b[0;36m<module>\u001b[0;34m\u001b[0m\n\u001b[1;32m      <a href='vscode-notebook-cell://wsl%2Bubuntu/home/michelangelo/Documents/spin-lattice-RL/scripts/Ising%20SB3-CNN.ipynb#ch0000002vscode-remote?line=1'>2</a>\u001b[0m folder_path \u001b[39m=\u001b[39m \u001b[39mf\u001b[39m\u001b[39m\"\u001b[39m\u001b[39m../results/ising/\u001b[39m\u001b[39m{\u001b[39;00mdate\u001b[39m}\u001b[39;00m\u001b[39m_\u001b[39m\u001b[39m{\u001b[39;00mside_length\u001b[39m}\u001b[39;00m\u001b[39mx\u001b[39m\u001b[39m{\u001b[39;00mside_length\u001b[39m}\u001b[39;00m\u001b[39m\"\u001b[39m\n\u001b[1;32m      <a href='vscode-notebook-cell://wsl%2Bubuntu/home/michelangelo/Documents/spin-lattice-RL/scripts/Ising%20SB3-CNN.ipynb#ch0000002vscode-remote?line=2'>3</a>\u001b[0m \u001b[39m# model = PPO(\"MlpPolicy\", env, tensorboard_log=folder_path)\u001b[39;00m\n\u001b[0;32m----> <a href='vscode-notebook-cell://wsl%2Bubuntu/home/michelangelo/Documents/spin-lattice-RL/scripts/Ising%20SB3-CNN.ipynb#ch0000002vscode-remote?line=3'>4</a>\u001b[0m model \u001b[39m=\u001b[39m PPO(\u001b[39m\"\u001b[39;49m\u001b[39mCnnPolicy\u001b[39;49m\u001b[39m\"\u001b[39;49m, env, policy_kwargs\u001b[39m=\u001b[39;49mpolicy_kwargs, tensorboard_log\u001b[39m=\u001b[39;49mfolder_path, verbose\u001b[39m=\u001b[39;49m\u001b[39m1\u001b[39;49m)\n\u001b[1;32m      <a href='vscode-notebook-cell://wsl%2Bubuntu/home/michelangelo/Documents/spin-lattice-RL/scripts/Ising%20SB3-CNN.ipynb#ch0000002vscode-remote?line=4'>5</a>\u001b[0m model\u001b[39m.\u001b[39mlearn(total_timesteps\u001b[39m=\u001b[39m\u001b[39m1000\u001b[39m)\n",
      "File \u001b[0;32m~/miniconda3/envs/spinlatrl/lib/python3.9/site-packages/stable_baselines3/ppo/ppo.py:152\u001b[0m, in \u001b[0;36mPPO.__init__\u001b[0;34m(self, policy, env, learning_rate, n_steps, batch_size, n_epochs, gamma, gae_lambda, clip_range, clip_range_vf, ent_coef, vf_coef, max_grad_norm, use_sde, sde_sample_freq, target_kl, tensorboard_log, create_eval_env, policy_kwargs, verbose, seed, device, _init_setup_model)\u001b[0m\n\u001b[1;32m    <a href='file:///home/michelangelo/miniconda3/envs/spinlatrl/lib/python3.9/site-packages/stable_baselines3/ppo/ppo.py?line=148'>149</a>\u001b[0m \u001b[39mself\u001b[39m\u001b[39m.\u001b[39mtarget_kl \u001b[39m=\u001b[39m target_kl\n\u001b[1;32m    <a href='file:///home/michelangelo/miniconda3/envs/spinlatrl/lib/python3.9/site-packages/stable_baselines3/ppo/ppo.py?line=150'>151</a>\u001b[0m \u001b[39mif\u001b[39;00m _init_setup_model:\n\u001b[0;32m--> <a href='file:///home/michelangelo/miniconda3/envs/spinlatrl/lib/python3.9/site-packages/stable_baselines3/ppo/ppo.py?line=151'>152</a>\u001b[0m     \u001b[39mself\u001b[39;49m\u001b[39m.\u001b[39;49m_setup_model()\n",
      "File \u001b[0;32m~/miniconda3/envs/spinlatrl/lib/python3.9/site-packages/stable_baselines3/ppo/ppo.py:155\u001b[0m, in \u001b[0;36mPPO._setup_model\u001b[0;34m(self)\u001b[0m\n\u001b[1;32m    <a href='file:///home/michelangelo/miniconda3/envs/spinlatrl/lib/python3.9/site-packages/stable_baselines3/ppo/ppo.py?line=153'>154</a>\u001b[0m \u001b[39mdef\u001b[39;00m \u001b[39m_setup_model\u001b[39m(\u001b[39mself\u001b[39m) \u001b[39m-\u001b[39m\u001b[39m>\u001b[39m \u001b[39mNone\u001b[39;00m:\n\u001b[0;32m--> <a href='file:///home/michelangelo/miniconda3/envs/spinlatrl/lib/python3.9/site-packages/stable_baselines3/ppo/ppo.py?line=154'>155</a>\u001b[0m     \u001b[39msuper\u001b[39;49m(PPO, \u001b[39mself\u001b[39;49m)\u001b[39m.\u001b[39;49m_setup_model()\n\u001b[1;32m    <a href='file:///home/michelangelo/miniconda3/envs/spinlatrl/lib/python3.9/site-packages/stable_baselines3/ppo/ppo.py?line=156'>157</a>\u001b[0m     \u001b[39m# Initialize schedules for policy/value clipping\u001b[39;00m\n\u001b[1;32m    <a href='file:///home/michelangelo/miniconda3/envs/spinlatrl/lib/python3.9/site-packages/stable_baselines3/ppo/ppo.py?line=157'>158</a>\u001b[0m     \u001b[39mself\u001b[39m\u001b[39m.\u001b[39mclip_range \u001b[39m=\u001b[39m get_schedule_fn(\u001b[39mself\u001b[39m\u001b[39m.\u001b[39mclip_range)\n",
      "File \u001b[0;32m~/miniconda3/envs/spinlatrl/lib/python3.9/site-packages/stable_baselines3/common/on_policy_algorithm.py:120\u001b[0m, in \u001b[0;36mOnPolicyAlgorithm._setup_model\u001b[0;34m(self)\u001b[0m\n\u001b[1;32m    <a href='file:///home/michelangelo/miniconda3/envs/spinlatrl/lib/python3.9/site-packages/stable_baselines3/common/on_policy_algorithm.py?line=108'>109</a>\u001b[0m buffer_cls \u001b[39m=\u001b[39m DictRolloutBuffer \u001b[39mif\u001b[39;00m \u001b[39misinstance\u001b[39m(\u001b[39mself\u001b[39m\u001b[39m.\u001b[39mobservation_space, gym\u001b[39m.\u001b[39mspaces\u001b[39m.\u001b[39mDict) \u001b[39melse\u001b[39;00m RolloutBuffer\n\u001b[1;32m    <a href='file:///home/michelangelo/miniconda3/envs/spinlatrl/lib/python3.9/site-packages/stable_baselines3/common/on_policy_algorithm.py?line=110'>111</a>\u001b[0m \u001b[39mself\u001b[39m\u001b[39m.\u001b[39mrollout_buffer \u001b[39m=\u001b[39m buffer_cls(\n\u001b[1;32m    <a href='file:///home/michelangelo/miniconda3/envs/spinlatrl/lib/python3.9/site-packages/stable_baselines3/common/on_policy_algorithm.py?line=111'>112</a>\u001b[0m     \u001b[39mself\u001b[39m\u001b[39m.\u001b[39mn_steps,\n\u001b[1;32m    <a href='file:///home/michelangelo/miniconda3/envs/spinlatrl/lib/python3.9/site-packages/stable_baselines3/common/on_policy_algorithm.py?line=112'>113</a>\u001b[0m     \u001b[39mself\u001b[39m\u001b[39m.\u001b[39mobservation_space,\n\u001b[0;32m   (...)\u001b[0m\n\u001b[1;32m    <a href='file:///home/michelangelo/miniconda3/envs/spinlatrl/lib/python3.9/site-packages/stable_baselines3/common/on_policy_algorithm.py?line=117'>118</a>\u001b[0m     n_envs\u001b[39m=\u001b[39m\u001b[39mself\u001b[39m\u001b[39m.\u001b[39mn_envs,\n\u001b[1;32m    <a href='file:///home/michelangelo/miniconda3/envs/spinlatrl/lib/python3.9/site-packages/stable_baselines3/common/on_policy_algorithm.py?line=118'>119</a>\u001b[0m )\n\u001b[0;32m--> <a href='file:///home/michelangelo/miniconda3/envs/spinlatrl/lib/python3.9/site-packages/stable_baselines3/common/on_policy_algorithm.py?line=119'>120</a>\u001b[0m \u001b[39mself\u001b[39m\u001b[39m.\u001b[39mpolicy \u001b[39m=\u001b[39m \u001b[39mself\u001b[39;49m\u001b[39m.\u001b[39;49mpolicy_class(  \u001b[39m# pytype:disable=not-instantiable\u001b[39;49;00m\n\u001b[1;32m    <a href='file:///home/michelangelo/miniconda3/envs/spinlatrl/lib/python3.9/site-packages/stable_baselines3/common/on_policy_algorithm.py?line=120'>121</a>\u001b[0m     \u001b[39mself\u001b[39;49m\u001b[39m.\u001b[39;49mobservation_space,\n\u001b[1;32m    <a href='file:///home/michelangelo/miniconda3/envs/spinlatrl/lib/python3.9/site-packages/stable_baselines3/common/on_policy_algorithm.py?line=121'>122</a>\u001b[0m     \u001b[39mself\u001b[39;49m\u001b[39m.\u001b[39;49maction_space,\n\u001b[1;32m    <a href='file:///home/michelangelo/miniconda3/envs/spinlatrl/lib/python3.9/site-packages/stable_baselines3/common/on_policy_algorithm.py?line=122'>123</a>\u001b[0m     \u001b[39mself\u001b[39;49m\u001b[39m.\u001b[39;49mlr_schedule,\n\u001b[1;32m    <a href='file:///home/michelangelo/miniconda3/envs/spinlatrl/lib/python3.9/site-packages/stable_baselines3/common/on_policy_algorithm.py?line=123'>124</a>\u001b[0m     use_sde\u001b[39m=\u001b[39;49m\u001b[39mself\u001b[39;49m\u001b[39m.\u001b[39;49muse_sde,\n\u001b[1;32m    <a href='file:///home/michelangelo/miniconda3/envs/spinlatrl/lib/python3.9/site-packages/stable_baselines3/common/on_policy_algorithm.py?line=124'>125</a>\u001b[0m     \u001b[39m*\u001b[39;49m\u001b[39m*\u001b[39;49m\u001b[39mself\u001b[39;49m\u001b[39m.\u001b[39;49mpolicy_kwargs  \u001b[39m# pytype:disable=not-instantiable\u001b[39;49;00m\n\u001b[1;32m    <a href='file:///home/michelangelo/miniconda3/envs/spinlatrl/lib/python3.9/site-packages/stable_baselines3/common/on_policy_algorithm.py?line=125'>126</a>\u001b[0m )\n\u001b[1;32m    <a href='file:///home/michelangelo/miniconda3/envs/spinlatrl/lib/python3.9/site-packages/stable_baselines3/common/on_policy_algorithm.py?line=126'>127</a>\u001b[0m \u001b[39mself\u001b[39m\u001b[39m.\u001b[39mpolicy \u001b[39m=\u001b[39m \u001b[39mself\u001b[39m\u001b[39m.\u001b[39mpolicy\u001b[39m.\u001b[39mto(\u001b[39mself\u001b[39m\u001b[39m.\u001b[39mdevice)\n",
      "File \u001b[0;32m~/miniconda3/envs/spinlatrl/lib/python3.9/site-packages/stable_baselines3/common/policies.py:727\u001b[0m, in \u001b[0;36mActorCriticCnnPolicy.__init__\u001b[0;34m(self, observation_space, action_space, lr_schedule, net_arch, activation_fn, ortho_init, use_sde, log_std_init, full_std, sde_net_arch, use_expln, squash_output, features_extractor_class, features_extractor_kwargs, normalize_images, optimizer_class, optimizer_kwargs)\u001b[0m\n\u001b[1;32m    <a href='file:///home/michelangelo/miniconda3/envs/spinlatrl/lib/python3.9/site-packages/stable_baselines3/common/policies.py?line=706'>707</a>\u001b[0m \u001b[39mdef\u001b[39;00m \u001b[39m__init__\u001b[39m(\n\u001b[1;32m    <a href='file:///home/michelangelo/miniconda3/envs/spinlatrl/lib/python3.9/site-packages/stable_baselines3/common/policies.py?line=707'>708</a>\u001b[0m     \u001b[39mself\u001b[39m,\n\u001b[1;32m    <a href='file:///home/michelangelo/miniconda3/envs/spinlatrl/lib/python3.9/site-packages/stable_baselines3/common/policies.py?line=708'>709</a>\u001b[0m     observation_space: gym\u001b[39m.\u001b[39mspaces\u001b[39m.\u001b[39mSpace,\n\u001b[0;32m   (...)\u001b[0m\n\u001b[1;32m    <a href='file:///home/michelangelo/miniconda3/envs/spinlatrl/lib/python3.9/site-packages/stable_baselines3/common/policies.py?line=724'>725</a>\u001b[0m     optimizer_kwargs: Optional[Dict[\u001b[39mstr\u001b[39m, Any]] \u001b[39m=\u001b[39m \u001b[39mNone\u001b[39;00m,\n\u001b[1;32m    <a href='file:///home/michelangelo/miniconda3/envs/spinlatrl/lib/python3.9/site-packages/stable_baselines3/common/policies.py?line=725'>726</a>\u001b[0m ):\n\u001b[0;32m--> <a href='file:///home/michelangelo/miniconda3/envs/spinlatrl/lib/python3.9/site-packages/stable_baselines3/common/policies.py?line=726'>727</a>\u001b[0m     \u001b[39msuper\u001b[39;49m(ActorCriticCnnPolicy, \u001b[39mself\u001b[39;49m)\u001b[39m.\u001b[39;49m\u001b[39m__init__\u001b[39;49m(\n\u001b[1;32m    <a href='file:///home/michelangelo/miniconda3/envs/spinlatrl/lib/python3.9/site-packages/stable_baselines3/common/policies.py?line=727'>728</a>\u001b[0m         observation_space,\n\u001b[1;32m    <a href='file:///home/michelangelo/miniconda3/envs/spinlatrl/lib/python3.9/site-packages/stable_baselines3/common/policies.py?line=728'>729</a>\u001b[0m         action_space,\n\u001b[1;32m    <a href='file:///home/michelangelo/miniconda3/envs/spinlatrl/lib/python3.9/site-packages/stable_baselines3/common/policies.py?line=729'>730</a>\u001b[0m         lr_schedule,\n\u001b[1;32m    <a href='file:///home/michelangelo/miniconda3/envs/spinlatrl/lib/python3.9/site-packages/stable_baselines3/common/policies.py?line=730'>731</a>\u001b[0m         net_arch,\n\u001b[1;32m    <a href='file:///home/michelangelo/miniconda3/envs/spinlatrl/lib/python3.9/site-packages/stable_baselines3/common/policies.py?line=731'>732</a>\u001b[0m         activation_fn,\n\u001b[1;32m    <a href='file:///home/michelangelo/miniconda3/envs/spinlatrl/lib/python3.9/site-packages/stable_baselines3/common/policies.py?line=732'>733</a>\u001b[0m         ortho_init,\n\u001b[1;32m    <a href='file:///home/michelangelo/miniconda3/envs/spinlatrl/lib/python3.9/site-packages/stable_baselines3/common/policies.py?line=733'>734</a>\u001b[0m         use_sde,\n\u001b[1;32m    <a href='file:///home/michelangelo/miniconda3/envs/spinlatrl/lib/python3.9/site-packages/stable_baselines3/common/policies.py?line=734'>735</a>\u001b[0m         log_std_init,\n\u001b[1;32m    <a href='file:///home/michelangelo/miniconda3/envs/spinlatrl/lib/python3.9/site-packages/stable_baselines3/common/policies.py?line=735'>736</a>\u001b[0m         full_std,\n\u001b[1;32m    <a href='file:///home/michelangelo/miniconda3/envs/spinlatrl/lib/python3.9/site-packages/stable_baselines3/common/policies.py?line=736'>737</a>\u001b[0m         sde_net_arch,\n\u001b[1;32m    <a href='file:///home/michelangelo/miniconda3/envs/spinlatrl/lib/python3.9/site-packages/stable_baselines3/common/policies.py?line=737'>738</a>\u001b[0m         use_expln,\n\u001b[1;32m    <a href='file:///home/michelangelo/miniconda3/envs/spinlatrl/lib/python3.9/site-packages/stable_baselines3/common/policies.py?line=738'>739</a>\u001b[0m         squash_output,\n\u001b[1;32m    <a href='file:///home/michelangelo/miniconda3/envs/spinlatrl/lib/python3.9/site-packages/stable_baselines3/common/policies.py?line=739'>740</a>\u001b[0m         features_extractor_class,\n\u001b[1;32m    <a href='file:///home/michelangelo/miniconda3/envs/spinlatrl/lib/python3.9/site-packages/stable_baselines3/common/policies.py?line=740'>741</a>\u001b[0m         features_extractor_kwargs,\n\u001b[1;32m    <a href='file:///home/michelangelo/miniconda3/envs/spinlatrl/lib/python3.9/site-packages/stable_baselines3/common/policies.py?line=741'>742</a>\u001b[0m         normalize_images,\n\u001b[1;32m    <a href='file:///home/michelangelo/miniconda3/envs/spinlatrl/lib/python3.9/site-packages/stable_baselines3/common/policies.py?line=742'>743</a>\u001b[0m         optimizer_class,\n\u001b[1;32m    <a href='file:///home/michelangelo/miniconda3/envs/spinlatrl/lib/python3.9/site-packages/stable_baselines3/common/policies.py?line=743'>744</a>\u001b[0m         optimizer_kwargs,\n\u001b[1;32m    <a href='file:///home/michelangelo/miniconda3/envs/spinlatrl/lib/python3.9/site-packages/stable_baselines3/common/policies.py?line=744'>745</a>\u001b[0m     )\n",
      "File \u001b[0;32m~/miniconda3/envs/spinlatrl/lib/python3.9/site-packages/stable_baselines3/common/policies.py:461\u001b[0m, in \u001b[0;36mActorCriticPolicy.__init__\u001b[0;34m(self, observation_space, action_space, lr_schedule, net_arch, activation_fn, ortho_init, use_sde, log_std_init, full_std, sde_net_arch, use_expln, squash_output, features_extractor_class, features_extractor_kwargs, normalize_images, optimizer_class, optimizer_kwargs)\u001b[0m\n\u001b[1;32m    <a href='file:///home/michelangelo/miniconda3/envs/spinlatrl/lib/python3.9/site-packages/stable_baselines3/common/policies.py?line=457'>458</a>\u001b[0m \u001b[39mself\u001b[39m\u001b[39m.\u001b[39mactivation_fn \u001b[39m=\u001b[39m activation_fn\n\u001b[1;32m    <a href='file:///home/michelangelo/miniconda3/envs/spinlatrl/lib/python3.9/site-packages/stable_baselines3/common/policies.py?line=458'>459</a>\u001b[0m \u001b[39mself\u001b[39m\u001b[39m.\u001b[39mortho_init \u001b[39m=\u001b[39m ortho_init\n\u001b[0;32m--> <a href='file:///home/michelangelo/miniconda3/envs/spinlatrl/lib/python3.9/site-packages/stable_baselines3/common/policies.py?line=460'>461</a>\u001b[0m \u001b[39mself\u001b[39m\u001b[39m.\u001b[39mfeatures_extractor \u001b[39m=\u001b[39m features_extractor_class(\u001b[39mself\u001b[39;49m\u001b[39m.\u001b[39;49mobservation_space, \u001b[39m*\u001b[39;49m\u001b[39m*\u001b[39;49m\u001b[39mself\u001b[39;49m\u001b[39m.\u001b[39;49mfeatures_extractor_kwargs)\n\u001b[1;32m    <a href='file:///home/michelangelo/miniconda3/envs/spinlatrl/lib/python3.9/site-packages/stable_baselines3/common/policies.py?line=461'>462</a>\u001b[0m \u001b[39mself\u001b[39m\u001b[39m.\u001b[39mfeatures_dim \u001b[39m=\u001b[39m \u001b[39mself\u001b[39m\u001b[39m.\u001b[39mfeatures_extractor\u001b[39m.\u001b[39mfeatures_dim\n\u001b[1;32m    <a href='file:///home/michelangelo/miniconda3/envs/spinlatrl/lib/python3.9/site-packages/stable_baselines3/common/policies.py?line=463'>464</a>\u001b[0m \u001b[39mself\u001b[39m\u001b[39m.\u001b[39mnormalize_images \u001b[39m=\u001b[39m normalize_images\n",
      "\u001b[1;32m/home/michelangelo/Documents/spin-lattice-RL/scripts/Ising SB3-CNN.ipynb Cell 3'\u001b[0m in \u001b[0;36mCustomCNN.__init__\u001b[0;34m(self, observation_space, features_dim)\u001b[0m\n\u001b[1;32m     <a href='vscode-notebook-cell://wsl%2Bubuntu/home/michelangelo/Documents/spin-lattice-RL/scripts/Ising%20SB3-CNN.ipynb#ch0000006vscode-remote?line=27'>28</a>\u001b[0m \u001b[39m# Compute shape by doing one forward pass\u001b[39;00m\n\u001b[1;32m     <a href='vscode-notebook-cell://wsl%2Bubuntu/home/michelangelo/Documents/spin-lattice-RL/scripts/Ising%20SB3-CNN.ipynb#ch0000006vscode-remote?line=28'>29</a>\u001b[0m \u001b[39mwith\u001b[39;00m th\u001b[39m.\u001b[39mno_grad():\n\u001b[0;32m---> <a href='vscode-notebook-cell://wsl%2Bubuntu/home/michelangelo/Documents/spin-lattice-RL/scripts/Ising%20SB3-CNN.ipynb#ch0000006vscode-remote?line=29'>30</a>\u001b[0m     n_flatten \u001b[39m=\u001b[39m \u001b[39mself\u001b[39;49m\u001b[39m.\u001b[39;49mcnn(\n\u001b[1;32m     <a href='vscode-notebook-cell://wsl%2Bubuntu/home/michelangelo/Documents/spin-lattice-RL/scripts/Ising%20SB3-CNN.ipynb#ch0000006vscode-remote?line=30'>31</a>\u001b[0m         th\u001b[39m.\u001b[39;49mas_tensor(observation_space\u001b[39m.\u001b[39;49msample()[\u001b[39mNone\u001b[39;49;00m])\u001b[39m.\u001b[39;49mfloat()\n\u001b[1;32m     <a href='vscode-notebook-cell://wsl%2Bubuntu/home/michelangelo/Documents/spin-lattice-RL/scripts/Ising%20SB3-CNN.ipynb#ch0000006vscode-remote?line=31'>32</a>\u001b[0m     )\u001b[39m.\u001b[39mshape[\u001b[39m1\u001b[39m]\n\u001b[1;32m     <a href='vscode-notebook-cell://wsl%2Bubuntu/home/michelangelo/Documents/spin-lattice-RL/scripts/Ising%20SB3-CNN.ipynb#ch0000006vscode-remote?line=33'>34</a>\u001b[0m \u001b[39mself\u001b[39m\u001b[39m.\u001b[39mlinear \u001b[39m=\u001b[39m nn\u001b[39m.\u001b[39mSequential(nn\u001b[39m.\u001b[39mLinear(n_flatten, features_dim), nn\u001b[39m.\u001b[39mReLU())\n",
      "File \u001b[0;32m~/miniconda3/envs/spinlatrl/lib/python3.9/site-packages/torch/nn/modules/module.py:1102\u001b[0m, in \u001b[0;36mModule._call_impl\u001b[0;34m(self, *input, **kwargs)\u001b[0m\n\u001b[1;32m   <a href='file:///home/michelangelo/miniconda3/envs/spinlatrl/lib/python3.9/site-packages/torch/nn/modules/module.py?line=1097'>1098</a>\u001b[0m \u001b[39m# If we don't have any hooks, we want to skip the rest of the logic in\u001b[39;00m\n\u001b[1;32m   <a href='file:///home/michelangelo/miniconda3/envs/spinlatrl/lib/python3.9/site-packages/torch/nn/modules/module.py?line=1098'>1099</a>\u001b[0m \u001b[39m# this function, and just call forward.\u001b[39;00m\n\u001b[1;32m   <a href='file:///home/michelangelo/miniconda3/envs/spinlatrl/lib/python3.9/site-packages/torch/nn/modules/module.py?line=1099'>1100</a>\u001b[0m \u001b[39mif\u001b[39;00m \u001b[39mnot\u001b[39;00m (\u001b[39mself\u001b[39m\u001b[39m.\u001b[39m_backward_hooks \u001b[39mor\u001b[39;00m \u001b[39mself\u001b[39m\u001b[39m.\u001b[39m_forward_hooks \u001b[39mor\u001b[39;00m \u001b[39mself\u001b[39m\u001b[39m.\u001b[39m_forward_pre_hooks \u001b[39mor\u001b[39;00m _global_backward_hooks\n\u001b[1;32m   <a href='file:///home/michelangelo/miniconda3/envs/spinlatrl/lib/python3.9/site-packages/torch/nn/modules/module.py?line=1100'>1101</a>\u001b[0m         \u001b[39mor\u001b[39;00m _global_forward_hooks \u001b[39mor\u001b[39;00m _global_forward_pre_hooks):\n\u001b[0;32m-> <a href='file:///home/michelangelo/miniconda3/envs/spinlatrl/lib/python3.9/site-packages/torch/nn/modules/module.py?line=1101'>1102</a>\u001b[0m     \u001b[39mreturn\u001b[39;00m forward_call(\u001b[39m*\u001b[39;49m\u001b[39minput\u001b[39;49m, \u001b[39m*\u001b[39;49m\u001b[39m*\u001b[39;49mkwargs)\n\u001b[1;32m   <a href='file:///home/michelangelo/miniconda3/envs/spinlatrl/lib/python3.9/site-packages/torch/nn/modules/module.py?line=1102'>1103</a>\u001b[0m \u001b[39m# Do not call functions when jit is used\u001b[39;00m\n\u001b[1;32m   <a href='file:///home/michelangelo/miniconda3/envs/spinlatrl/lib/python3.9/site-packages/torch/nn/modules/module.py?line=1103'>1104</a>\u001b[0m full_backward_hooks, non_full_backward_hooks \u001b[39m=\u001b[39m [], []\n",
      "File \u001b[0;32m~/miniconda3/envs/spinlatrl/lib/python3.9/site-packages/torch/nn/modules/container.py:141\u001b[0m, in \u001b[0;36mSequential.forward\u001b[0;34m(self, input)\u001b[0m\n\u001b[1;32m    <a href='file:///home/michelangelo/miniconda3/envs/spinlatrl/lib/python3.9/site-packages/torch/nn/modules/container.py?line=138'>139</a>\u001b[0m \u001b[39mdef\u001b[39;00m \u001b[39mforward\u001b[39m(\u001b[39mself\u001b[39m, \u001b[39minput\u001b[39m):\n\u001b[1;32m    <a href='file:///home/michelangelo/miniconda3/envs/spinlatrl/lib/python3.9/site-packages/torch/nn/modules/container.py?line=139'>140</a>\u001b[0m     \u001b[39mfor\u001b[39;00m module \u001b[39min\u001b[39;00m \u001b[39mself\u001b[39m:\n\u001b[0;32m--> <a href='file:///home/michelangelo/miniconda3/envs/spinlatrl/lib/python3.9/site-packages/torch/nn/modules/container.py?line=140'>141</a>\u001b[0m         \u001b[39minput\u001b[39m \u001b[39m=\u001b[39m module(\u001b[39minput\u001b[39;49m)\n\u001b[1;32m    <a href='file:///home/michelangelo/miniconda3/envs/spinlatrl/lib/python3.9/site-packages/torch/nn/modules/container.py?line=141'>142</a>\u001b[0m     \u001b[39mreturn\u001b[39;00m \u001b[39minput\u001b[39m\n",
      "File \u001b[0;32m~/miniconda3/envs/spinlatrl/lib/python3.9/site-packages/torch/nn/modules/module.py:1102\u001b[0m, in \u001b[0;36mModule._call_impl\u001b[0;34m(self, *input, **kwargs)\u001b[0m\n\u001b[1;32m   <a href='file:///home/michelangelo/miniconda3/envs/spinlatrl/lib/python3.9/site-packages/torch/nn/modules/module.py?line=1097'>1098</a>\u001b[0m \u001b[39m# If we don't have any hooks, we want to skip the rest of the logic in\u001b[39;00m\n\u001b[1;32m   <a href='file:///home/michelangelo/miniconda3/envs/spinlatrl/lib/python3.9/site-packages/torch/nn/modules/module.py?line=1098'>1099</a>\u001b[0m \u001b[39m# this function, and just call forward.\u001b[39;00m\n\u001b[1;32m   <a href='file:///home/michelangelo/miniconda3/envs/spinlatrl/lib/python3.9/site-packages/torch/nn/modules/module.py?line=1099'>1100</a>\u001b[0m \u001b[39mif\u001b[39;00m \u001b[39mnot\u001b[39;00m (\u001b[39mself\u001b[39m\u001b[39m.\u001b[39m_backward_hooks \u001b[39mor\u001b[39;00m \u001b[39mself\u001b[39m\u001b[39m.\u001b[39m_forward_hooks \u001b[39mor\u001b[39;00m \u001b[39mself\u001b[39m\u001b[39m.\u001b[39m_forward_pre_hooks \u001b[39mor\u001b[39;00m _global_backward_hooks\n\u001b[1;32m   <a href='file:///home/michelangelo/miniconda3/envs/spinlatrl/lib/python3.9/site-packages/torch/nn/modules/module.py?line=1100'>1101</a>\u001b[0m         \u001b[39mor\u001b[39;00m _global_forward_hooks \u001b[39mor\u001b[39;00m _global_forward_pre_hooks):\n\u001b[0;32m-> <a href='file:///home/michelangelo/miniconda3/envs/spinlatrl/lib/python3.9/site-packages/torch/nn/modules/module.py?line=1101'>1102</a>\u001b[0m     \u001b[39mreturn\u001b[39;00m forward_call(\u001b[39m*\u001b[39;49m\u001b[39minput\u001b[39;49m, \u001b[39m*\u001b[39;49m\u001b[39m*\u001b[39;49mkwargs)\n\u001b[1;32m   <a href='file:///home/michelangelo/miniconda3/envs/spinlatrl/lib/python3.9/site-packages/torch/nn/modules/module.py?line=1102'>1103</a>\u001b[0m \u001b[39m# Do not call functions when jit is used\u001b[39;00m\n\u001b[1;32m   <a href='file:///home/michelangelo/miniconda3/envs/spinlatrl/lib/python3.9/site-packages/torch/nn/modules/module.py?line=1103'>1104</a>\u001b[0m full_backward_hooks, non_full_backward_hooks \u001b[39m=\u001b[39m [], []\n",
      "File \u001b[0;32m~/miniconda3/envs/spinlatrl/lib/python3.9/site-packages/torch/nn/modules/conv.py:446\u001b[0m, in \u001b[0;36mConv2d.forward\u001b[0;34m(self, input)\u001b[0m\n\u001b[1;32m    <a href='file:///home/michelangelo/miniconda3/envs/spinlatrl/lib/python3.9/site-packages/torch/nn/modules/conv.py?line=444'>445</a>\u001b[0m \u001b[39mdef\u001b[39;00m \u001b[39mforward\u001b[39m(\u001b[39mself\u001b[39m, \u001b[39minput\u001b[39m: Tensor) \u001b[39m-\u001b[39m\u001b[39m>\u001b[39m Tensor:\n\u001b[0;32m--> <a href='file:///home/michelangelo/miniconda3/envs/spinlatrl/lib/python3.9/site-packages/torch/nn/modules/conv.py?line=445'>446</a>\u001b[0m     \u001b[39mreturn\u001b[39;00m \u001b[39mself\u001b[39;49m\u001b[39m.\u001b[39;49m_conv_forward(\u001b[39minput\u001b[39;49m, \u001b[39mself\u001b[39;49m\u001b[39m.\u001b[39;49mweight, \u001b[39mself\u001b[39;49m\u001b[39m.\u001b[39;49mbias)\n",
      "File \u001b[0;32m~/miniconda3/envs/spinlatrl/lib/python3.9/site-packages/torch/nn/modules/conv.py:442\u001b[0m, in \u001b[0;36mConv2d._conv_forward\u001b[0;34m(self, input, weight, bias)\u001b[0m\n\u001b[1;32m    <a href='file:///home/michelangelo/miniconda3/envs/spinlatrl/lib/python3.9/site-packages/torch/nn/modules/conv.py?line=437'>438</a>\u001b[0m \u001b[39mif\u001b[39;00m \u001b[39mself\u001b[39m\u001b[39m.\u001b[39mpadding_mode \u001b[39m!=\u001b[39m \u001b[39m'\u001b[39m\u001b[39mzeros\u001b[39m\u001b[39m'\u001b[39m:\n\u001b[1;32m    <a href='file:///home/michelangelo/miniconda3/envs/spinlatrl/lib/python3.9/site-packages/torch/nn/modules/conv.py?line=438'>439</a>\u001b[0m     \u001b[39mreturn\u001b[39;00m F\u001b[39m.\u001b[39mconv2d(F\u001b[39m.\u001b[39mpad(\u001b[39minput\u001b[39m, \u001b[39mself\u001b[39m\u001b[39m.\u001b[39m_reversed_padding_repeated_twice, mode\u001b[39m=\u001b[39m\u001b[39mself\u001b[39m\u001b[39m.\u001b[39mpadding_mode),\n\u001b[1;32m    <a href='file:///home/michelangelo/miniconda3/envs/spinlatrl/lib/python3.9/site-packages/torch/nn/modules/conv.py?line=439'>440</a>\u001b[0m                     weight, bias, \u001b[39mself\u001b[39m\u001b[39m.\u001b[39mstride,\n\u001b[1;32m    <a href='file:///home/michelangelo/miniconda3/envs/spinlatrl/lib/python3.9/site-packages/torch/nn/modules/conv.py?line=440'>441</a>\u001b[0m                     _pair(\u001b[39m0\u001b[39m), \u001b[39mself\u001b[39m\u001b[39m.\u001b[39mdilation, \u001b[39mself\u001b[39m\u001b[39m.\u001b[39mgroups)\n\u001b[0;32m--> <a href='file:///home/michelangelo/miniconda3/envs/spinlatrl/lib/python3.9/site-packages/torch/nn/modules/conv.py?line=441'>442</a>\u001b[0m \u001b[39mreturn\u001b[39;00m F\u001b[39m.\u001b[39;49mconv2d(\u001b[39minput\u001b[39;49m, weight, bias, \u001b[39mself\u001b[39;49m\u001b[39m.\u001b[39;49mstride,\n\u001b[1;32m    <a href='file:///home/michelangelo/miniconda3/envs/spinlatrl/lib/python3.9/site-packages/torch/nn/modules/conv.py?line=442'>443</a>\u001b[0m                 \u001b[39mself\u001b[39;49m\u001b[39m.\u001b[39;49mpadding, \u001b[39mself\u001b[39;49m\u001b[39m.\u001b[39;49mdilation, \u001b[39mself\u001b[39;49m\u001b[39m.\u001b[39;49mgroups)\n",
      "\u001b[0;31mRuntimeError\u001b[0m: Expected 4-dimensional input for 4-dimensional weight [32, 16, 8, 8], but got 2-dimensional input of size [1, 16] instead"
     ]
    }
   ],
   "source": [
    "date = datetime.now().strftime(\"%Y-%m-%d_%H-%M-%S\")\n",
    "folder_path = f\"../results/ising/{date}_{side_length}x{side_length}\"\n",
    "# model = PPO(\"MlpPolicy\", env, tensorboard_log=folder_path)\n",
    "model = PPO(\"CnnPolicy\", env, policy_kwargs=policy_kwargs, tensorboard_log=folder_path, verbose=1)\n",
    "model.learn(total_timesteps=1000)\n",
    "# model.save(f\"{folder_path}/model\")"
   ]
  },
  {
   "cell_type": "code",
   "execution_count": null,
   "metadata": {},
   "outputs": [],
   "source": [
    "model = PPO.load(\"results/2022-02-20_00-02-28_isingmodelSB_3x3\")"
   ]
  },
  {
   "cell_type": "code",
   "execution_count": 13,
   "metadata": {},
   "outputs": [
    {
     "name": "stdout",
     "output_type": "stream",
     "text": [
      "reward=0\n",
      "[[ 1  1 -1 -1 -1  1 -1]\n",
      " [-1 -1 -1 -1  1  1  1]\n",
      " [-1 -1 -1  1  1 -1  1]\n",
      " [-1  1 -1 -1  1 -1 -1]\n",
      " [-1 -1  1 -1 -1  1  1]\n",
      " [ 1  1  1 -1 -1  1  1]\n",
      " [-1  1 -1  1 -1  1 -1]]\n"
     ]
    },
    {
     "data": {
      "text/plain": [
       "[<matplotlib.lines.Line2D at 0x7f887f49ce80>]"
      ]
     },
     "execution_count": 13,
     "metadata": {},
     "output_type": "execute_result"
    },
    {
     "data": {
      "image/png": "[encoded data removed]",
      "text/plain": [
       "<Figure size 432x288 with 1 Axes>"
      ]
     },
     "metadata": {
      "needs_background": "light"
     },
     "output_type": "display_data"
    }
   ],
   "source": [
    "energies = []\n",
    "obs = env.reset()\n",
    "for i in range(200):\n",
    "    action, _state = model.predict(obs, deterministic=True)\n",
    "    obs, reward, done, info = env.step(action)\n",
    "    energies.append(info[\"energy\"])\n",
    "    if done:\n",
    "      print(f\"{reward=}\")\n",
    "      env.render()\n",
    "      break\n",
    "      # env.reset()\n",
    "    # if i % 100 == 0:\n",
    "    #   print(f\"{i=}, {reward=}\")\n",
    "    #   env.render()\n",
    "\n",
    "import matplotlib.pyplot as plt\n",
    "plt.plot(range(len(energies)),energies)"
   ]
  },
  {
   "cell_type": "code",
   "execution_count": null,
   "metadata": {},
   "outputs": [
    {
     "name": "stdout",
     "output_type": "stream",
     "text": [
      "[[ 1  1 -1 -1  1]\n",
      " [ 1 -1 -1 -1  1]\n",
      " [-1 -1 -1  1  1]\n",
      " [ 1  1  1  1 -1]\n",
      " [ 1  1  1 -1 -1]]\n",
      "i=0, action=2 reward=-40, env.compute_energy()=-10\n",
      "[[ 1  1  1 -1  1]\n",
      " [ 1 -1 -1 -1  1]\n",
      " [-1 -1 -1  1  1]\n",
      " [ 1  1  1  1 -1]\n",
      " [ 1  1  1 -1 -1]]\n",
      "i=1, action=23 reward=0, env.compute_energy()=-10\n",
      "[[ 1  1  1 -1  1]\n",
      " [ 1 -1 -1 -1  1]\n",
      " [-1 -1 -1  1  1]\n",
      " [ 1  1  1  1 -1]\n",
      " [ 1  1  1  1 -1]]\n",
      "i=2, action=19 reward=4, env.compute_energy()=-14\n",
      "[[ 1  1  1 -1  1]\n",
      " [ 1 -1 -1 -1  1]\n",
      " [-1 -1 -1  1  1]\n",
      " [ 1  1  1  1  1]\n",
      " [ 1  1  1  1 -1]]\n",
      "i=3, action=24 reward=8, env.compute_energy()=-22\n",
      "[[ 1  1  1 -1  1]\n",
      " [ 1 -1 -1 -1  1]\n",
      " [-1 -1 -1  1  1]\n",
      " [ 1  1  1  1  1]\n",
      " [ 1  1  1  1  1]]\n",
      "i=4, action=10 reward=4, env.compute_energy()=-26\n",
      "[[ 1  1  1 -1  1]\n",
      " [ 1 -1 -1 -1  1]\n",
      " [ 1 -1 -1  1  1]\n",
      " [ 1  1  1  1  1]\n",
      " [ 1  1  1  1  1]]\n",
      "i=5, action=8 reward=0, env.compute_energy()=-26\n",
      "[[ 1  1  1 -1  1]\n",
      " [ 1 -1 -1  1  1]\n",
      " [ 1 -1 -1  1  1]\n",
      " [ 1  1  1  1  1]\n",
      " [ 1  1  1  1  1]]\n",
      "i=6, action=3 reward=8, env.compute_energy()=-34\n",
      "[[ 1  1  1  1  1]\n",
      " [ 1 -1 -1  1  1]\n",
      " [ 1 -1 -1  1  1]\n",
      " [ 1  1  1  1  1]\n",
      " [ 1  1  1  1  1]]\n",
      "i=7, action=6 reward=0, env.compute_energy()=-34\n",
      "[[ 1  1  1  1  1]\n",
      " [ 1  1 -1  1  1]\n",
      " [ 1 -1 -1  1  1]\n",
      " [ 1  1  1  1  1]\n",
      " [ 1  1  1  1  1]]\n",
      "i=8, action=7 reward=4, env.compute_energy()=-38\n",
      "[[ 1  1  1  1  1]\n",
      " [ 1  1  1  1  1]\n",
      " [ 1 -1 -1  1  1]\n",
      " [ 1  1  1  1  1]\n",
      " [ 1  1  1  1  1]]\n",
      "i=9, action=12 reward=4, env.compute_energy()=-42\n",
      "[[ 1  1  1  1  1]\n",
      " [ 1  1  1  1  1]\n",
      " [ 1 -1  1  1  1]\n",
      " [ 1  1  1  1  1]\n",
      " [ 1  1  1  1  1]]\n",
      "10001\n"
     ]
    }
   ],
   "source": [
    "obs = env.reset()\n",
    "env.render()\n",
    "for i in range(10):\n",
    "    action, _state = model.predict(obs, deterministic=True)\n",
    "    obs, reward, done, info = env.step(action)\n",
    "    print(f\"{i=}, {action=} {reward=}, {env.compute_energy()=}\")\n",
    "    env.render()"
   ]
  }
 ],
 "metadata": {
  "interpreter": {
   "hash": "f966a718a559d3b7d69daf8b0fd8acabc25ec12405d3d34fbd7cdd12cf867495"
  },
  "kernelspec": {
   "display_name": "Python 3.9.10 ('spinlatrl')",
   "language": "python",
   "name": "python3"
  },
  "language_info": {
   "codemirror_mode": {
    "name": "ipython",
    "version": 3
   },
   "file_extension": ".py",
   "mimetype": "text/x-python",
   "name": "python",
   "nbconvert_exporter": "python",
   "pygments_lexer": "ipython3",
   "version": "3.9.12"
  },
  "orig_nbformat": 4
 },
 "nbformat": 4,
 "nbformat_minor": 2
}
