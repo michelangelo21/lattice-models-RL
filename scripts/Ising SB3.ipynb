{
 "cells": [
  {
   "cell_type": "code",
   "execution_count": 1,
   "metadata": {},
   "outputs": [],
   "source": [
    "import gym\n",
    "from stable_baselines3 import PPO, DQN\n",
    "from datetime import datetime\n",
    "from gym.wrappers import TimeLimit\n"
   ]
  },
  {
   "cell_type": "code",
   "execution_count": 2,
   "metadata": {},
   "outputs": [],
   "source": [
    "side_length = 4\n",
    "env = gym.make(\"gym_xymodel:isingmodel-v0\", side_len=side_length)\n",
    "env = TimeLimit(env, max_episode_steps=100)\n",
    "from stable_baselines3.common.env_checker import check_env\n",
    "check_env(env)\n",
    "# env = gym.make('CartPole-v1')"
   ]
  },
  {
   "cell_type": "code",
   "execution_count": 4,
   "metadata": {},
   "outputs": [],
   "source": [
    "date = datetime.now().strftime(\"%Y-%m-%d_%H-%M-%S\")\n",
    "folder_path = f\"../results/ising/{date}_{side_length}x{side_length}\"\n",
    "model = PPO(\"MlpPolicy\", env, tensorboard_log=folder_path)\n",
    "# model = PPO(\"CnnPolicy\", env, tensorboard_log=folder_path)\n",
    "model.learn(total_timesteps=100_000)\n",
    "model.save(f\"{folder_path}/model\")"
   ]
  },
  {
   "cell_type": "code",
   "execution_count": null,
   "metadata": {},
   "outputs": [],
   "source": [
    "model = PPO.load(\"results/2022-02-20_00-02-28_isingmodelSB_3x3\")"
   ]
  },
  {
   "cell_type": "code",
   "execution_count": 6,
   "metadata": {},
   "outputs": [
    {
     "name": "stdout",
     "output_type": "stream",
     "text": [
      "reward=0.0\n",
      "[[-1  1  1  1]\n",
      " [ 1  1 -1  1]\n",
      " [-1  1  1 -1]\n",
      " [ 1 -1 -1  1]]\n"
     ]
    },
    {
     "data": {
      "text/plain": [
       "[<matplotlib.lines.Line2D at 0x7f79a404a640>]"
      ]
     },
     "execution_count": 6,
     "metadata": {},
     "output_type": "execute_result"
    },
    {
     "data": {
      "image/png": "[encoded data removed]",
      "text/plain": [
       "<Figure size 432x288 with 1 Axes>"
      ]
     },
     "metadata": {
      "needs_background": "light"
     },
     "output_type": "display_data"
    }
   ],
   "source": [
    "energies = []\n",
    "obs = env.reset()\n",
    "for i in range(200):\n",
    "    action, _state = model.predict(obs, deterministic=True)\n",
    "    obs, reward, done, info = env.step(action)\n",
    "    energies.append(info[\"energy\"])\n",
    "    if done:\n",
    "      print(f\"{reward=}\")\n",
    "      env.render()\n",
    "      break\n",
    "      # env.reset()\n",
    "    # if i % 100 == 0:\n",
    "    #   print(f\"{i=}, {reward=}\")\n",
    "    #   env.render()\n",
    "\n",
    "import matplotlib.pyplot as plt\n",
    "plt.plot(range(len(energies)),energies)"
   ]
  },
  {
   "cell_type": "code",
   "execution_count": 7,
   "metadata": {},
   "outputs": [
    {
     "name": "stdout",
     "output_type": "stream",
     "text": [
      "[[-1 -1  1  1]\n",
      " [-1  1 -1  1]\n",
      " [-1 -1  1  1]\n",
      " [ 1  1  1 -1]]\n",
      "i=0, action=7 reward=0.0, env.compute_energy()=8\n",
      "[[-1 -1  1  1]\n",
      " [-1  1 -1 -1]\n",
      " [-1 -1  1  1]\n",
      " [ 1  1  1 -1]]\n",
      "i=1, action=7 reward=0.0, env.compute_energy()=8\n",
      "[[-1 -1  1  1]\n",
      " [-1  1 -1  1]\n",
      " [-1 -1  1  1]\n",
      " [ 1  1  1 -1]]\n",
      "i=2, action=7 reward=0.0, env.compute_energy()=8\n",
      "[[-1 -1  1  1]\n",
      " [-1  1 -1 -1]\n",
      " [-1 -1  1  1]\n",
      " [ 1  1  1 -1]]\n",
      "i=3, action=7 reward=0.0, env.compute_energy()=8\n",
      "[[-1 -1  1  1]\n",
      " [-1  1 -1  1]\n",
      " [-1 -1  1  1]\n",
      " [ 1  1  1 -1]]\n",
      "i=4, action=7 reward=0.0, env.compute_energy()=8\n",
      "[[-1 -1  1  1]\n",
      " [-1  1 -1 -1]\n",
      " [-1 -1  1  1]\n",
      " [ 1  1  1 -1]]\n",
      "i=5, action=7 reward=0.0, env.compute_energy()=8\n",
      "[[-1 -1  1  1]\n",
      " [-1  1 -1  1]\n",
      " [-1 -1  1  1]\n",
      " [ 1  1  1 -1]]\n",
      "i=6, action=7 reward=0.0, env.compute_energy()=8\n",
      "[[-1 -1  1  1]\n",
      " [-1  1 -1 -1]\n",
      " [-1 -1  1  1]\n",
      " [ 1  1  1 -1]]\n",
      "i=7, action=7 reward=0.0, env.compute_energy()=8\n",
      "[[-1 -1  1  1]\n",
      " [-1  1 -1  1]\n",
      " [-1 -1  1  1]\n",
      " [ 1  1  1 -1]]\n",
      "i=8, action=7 reward=0.0, env.compute_energy()=8\n",
      "[[-1 -1  1  1]\n",
      " [-1  1 -1 -1]\n",
      " [-1 -1  1  1]\n",
      " [ 1  1  1 -1]]\n",
      "i=9, action=7 reward=0.0, env.compute_energy()=8\n",
      "[[-1 -1  1  1]\n",
      " [-1  1 -1  1]\n",
      " [-1 -1  1  1]\n",
      " [ 1  1  1 -1]]\n"
     ]
    }
   ],
   "source": [
    "obs = env.reset()\n",
    "env.render()\n",
    "for i in range(10):\n",
    "    action, _state = model.predict(obs, deterministic=True)\n",
    "    obs, reward, done, info = env.step(action)\n",
    "    print(f\"{i=}, {action=} {reward=}, {env.compute_energy()=}\")\n",
    "    env.render()"
   ]
  }
 ],
 "metadata": {
  "interpreter": {
   "hash": "f966a718a559d3b7d69daf8b0fd8acabc25ec12405d3d34fbd7cdd12cf867495"
  },
  "kernelspec": {
   "display_name": "Python 3.9.10 ('spinlatrl')",
   "language": "python",
   "name": "python3"
  },
  "language_info": {
   "codemirror_mode": {
    "name": "ipython",
    "version": 3
   },
   "file_extension": ".py",
   "mimetype": "text/x-python",
   "name": "python",
   "nbconvert_exporter": "python",
   "pygments_lexer": "ipython3",
   "version": "3.9.12"
  },
  "orig_nbformat": 4
 },
 "nbformat": 4,
 "nbformat_minor": 2
}
