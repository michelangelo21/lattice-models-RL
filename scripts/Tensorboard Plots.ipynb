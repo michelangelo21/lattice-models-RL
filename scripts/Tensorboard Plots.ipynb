{
 "cells": [
  {
   "cell_type": "code",
   "execution_count": 29,
   "metadata": {},
   "outputs": [],
   "source": [
    "from matplotlib import pyplot as plt\n",
    "import seaborn as sns\n",
    "import pandas as pd\n",
    "import tensorboard as tb\n",
    "from matplotlib.ticker import EngFormatter"
   ]
  },
  {
   "cell_type": "code",
   "execution_count": 24,
   "metadata": {},
   "outputs": [
    {
     "data": {
      "text/html": [
       "<div>\n",
       "<style scoped>\n",
       "    .dataframe tbody tr th:only-of-type {\n",
       "        vertical-align: middle;\n",
       "    }\n",
       "\n",
       "    .dataframe tbody tr th {\n",
       "        vertical-align: top;\n",
       "    }\n",
       "\n",
       "    .dataframe thead th {\n",
       "        text-align: right;\n",
       "    }\n",
       "</style>\n",
       "<table border=\"1\" class=\"dataframe\">\n",
       "  <thead>\n",
       "    <tr style=\"text-align: right;\">\n",
       "      <th></th>\n",
       "      <th>run</th>\n",
       "      <th>tag</th>\n",
       "      <th>step</th>\n",
       "      <th>value</th>\n",
       "    </tr>\n",
       "  </thead>\n",
       "  <tbody>\n",
       "    <tr>\n",
       "      <th>0</th>\n",
       "      <td>dzmoriya2D/L4/2022-11-28T205939_J1_D0_mlp_corr...</td>\n",
       "      <td>eval/mean_ep_length</td>\n",
       "      <td>10000</td>\n",
       "      <td>32.000000</td>\n",
       "    </tr>\n",
       "    <tr>\n",
       "      <th>1</th>\n",
       "      <td>dzmoriya2D/L4/2022-11-28T205939_J1_D0_mlp_corr...</td>\n",
       "      <td>eval/mean_ep_length</td>\n",
       "      <td>20000</td>\n",
       "      <td>32.000000</td>\n",
       "    </tr>\n",
       "    <tr>\n",
       "      <th>2</th>\n",
       "      <td>dzmoriya2D/L4/2022-11-28T205939_J1_D0_mlp_corr...</td>\n",
       "      <td>eval/mean_ep_length</td>\n",
       "      <td>30000</td>\n",
       "      <td>32.000000</td>\n",
       "    </tr>\n",
       "    <tr>\n",
       "      <th>3</th>\n",
       "      <td>dzmoriya2D/L4/2022-11-28T205939_J1_D0_mlp_corr...</td>\n",
       "      <td>eval/mean_ep_length</td>\n",
       "      <td>40000</td>\n",
       "      <td>32.000000</td>\n",
       "    </tr>\n",
       "    <tr>\n",
       "      <th>4</th>\n",
       "      <td>dzmoriya2D/L4/2022-11-28T205939_J1_D0_mlp_corr...</td>\n",
       "      <td>eval/mean_ep_length</td>\n",
       "      <td>50000</td>\n",
       "      <td>32.000000</td>\n",
       "    </tr>\n",
       "    <tr>\n",
       "      <th>...</th>\n",
       "      <td>...</td>\n",
       "      <td>...</td>\n",
       "      <td>...</td>\n",
       "      <td>...</td>\n",
       "    </tr>\n",
       "    <tr>\n",
       "      <th>188577</th>\n",
       "      <td>xy2D/L6/2022-11-26T170033_mlp/PPO_1</td>\n",
       "      <td>train/value_loss</td>\n",
       "      <td>192512</td>\n",
       "      <td>0.011979</td>\n",
       "    </tr>\n",
       "    <tr>\n",
       "      <th>188578</th>\n",
       "      <td>xy2D/L6/2022-11-26T170033_mlp/PPO_1</td>\n",
       "      <td>train/value_loss</td>\n",
       "      <td>194560</td>\n",
       "      <td>0.011235</td>\n",
       "    </tr>\n",
       "    <tr>\n",
       "      <th>188579</th>\n",
       "      <td>xy2D/L6/2022-11-26T170033_mlp/PPO_1</td>\n",
       "      <td>train/value_loss</td>\n",
       "      <td>196608</td>\n",
       "      <td>0.010180</td>\n",
       "    </tr>\n",
       "    <tr>\n",
       "      <th>188580</th>\n",
       "      <td>xy2D/L6/2022-11-26T170033_mlp/PPO_1</td>\n",
       "      <td>train/value_loss</td>\n",
       "      <td>198656</td>\n",
       "      <td>0.012526</td>\n",
       "    </tr>\n",
       "    <tr>\n",
       "      <th>188581</th>\n",
       "      <td>xy2D/L6/2022-11-26T170033_mlp/PPO_1</td>\n",
       "      <td>train/value_loss</td>\n",
       "      <td>200000</td>\n",
       "      <td>0.014512</td>\n",
       "    </tr>\n",
       "  </tbody>\n",
       "</table>\n",
       "<p>188582 rows × 4 columns</p>\n",
       "</div>"
      ],
      "text/plain": [
       "                                                      run  \\\n",
       "0       dzmoriya2D/L4/2022-11-28T205939_J1_D0_mlp_corr...   \n",
       "1       dzmoriya2D/L4/2022-11-28T205939_J1_D0_mlp_corr...   \n",
       "2       dzmoriya2D/L4/2022-11-28T205939_J1_D0_mlp_corr...   \n",
       "3       dzmoriya2D/L4/2022-11-28T205939_J1_D0_mlp_corr...   \n",
       "4       dzmoriya2D/L4/2022-11-28T205939_J1_D0_mlp_corr...   \n",
       "...                                                   ...   \n",
       "188577                xy2D/L6/2022-11-26T170033_mlp/PPO_1   \n",
       "188578                xy2D/L6/2022-11-26T170033_mlp/PPO_1   \n",
       "188579                xy2D/L6/2022-11-26T170033_mlp/PPO_1   \n",
       "188580                xy2D/L6/2022-11-26T170033_mlp/PPO_1   \n",
       "188581                xy2D/L6/2022-11-26T170033_mlp/PPO_1   \n",
       "\n",
       "                        tag    step      value  \n",
       "0       eval/mean_ep_length   10000  32.000000  \n",
       "1       eval/mean_ep_length   20000  32.000000  \n",
       "2       eval/mean_ep_length   30000  32.000000  \n",
       "3       eval/mean_ep_length   40000  32.000000  \n",
       "4       eval/mean_ep_length   50000  32.000000  \n",
       "...                     ...     ...        ...  \n",
       "188577     train/value_loss  192512   0.011979  \n",
       "188578     train/value_loss  194560   0.011235  \n",
       "188579     train/value_loss  196608   0.010180  \n",
       "188580     train/value_loss  198656   0.012526  \n",
       "188581     train/value_loss  200000   0.014512  \n",
       "\n",
       "[188582 rows x 4 columns]"
      ]
     },
     "execution_count": 24,
     "metadata": {},
     "output_type": "execute_result"
    }
   ],
   "source": [
    "experiment_id=\"syj4nyOVTNyRgxdYQx0iQQ\"\n",
    "experiment = tb.data.experimental.ExperimentFromDev(experiment_id)\n",
    "df = experiment.get_scalars()\n",
    "df"
   ]
  },
  {
   "cell_type": "code",
   "execution_count": 33,
   "metadata": {},
   "outputs": [
    {
     "data": {
      "image/png": "[encoded data removed]",
      "text/plain": [
       "<Figure size 432x288 with 1 Axes>"
      ]
     },
     "metadata": {
      "needs_background": "light"
     },
     "output_type": "display_data"
    }
   ],
   "source": [
    "df_val = df[df[\"run\"].str.contains(\"xy2D/L4/plots\") & df[\"tag\"].str.contains(\"eval/mean_reward\")]\n",
    "df_val\n",
    "ax = sns.lineplot(data=df_val, x=\"step\", y=\"value\")\n",
    "ax.xaxis.set_major_formatter(EngFormatter())\n",
    "plt.xlabel(\"Training steps\")\n",
    "plt.ylabel(\"Mean reward $(-E)$\")\n",
    "plt.title(\"XY model, $L=4$\")\n",
    "plt.savefig(\"../results/xy2D_eval.svg\")\n"
   ]
  }
 ],
 "metadata": {
  "kernelspec": {
   "display_name": "spinlatrl",
   "language": "python",
   "name": "python3"
  },
  "language_info": {
   "codemirror_mode": {
    "name": "ipython",
    "version": 3
   },
   "file_extension": ".py",
   "mimetype": "text/x-python",
   "name": "python",
   "nbconvert_exporter": "python",
   "pygments_lexer": "ipython3",
   "version": "3.9.12 (main, Apr  5 2022, 06:56:58) \n[GCC 7.5.0]"
  },
  "orig_nbformat": 4,
  "vscode": {
   "interpreter": {
    "hash": "f966a718a559d3b7d69daf8b0fd8acabc25ec12405d3d34fbd7cdd12cf867495"
   }
  }
 },
 "nbformat": 4,
 "nbformat_minor": 2
}
