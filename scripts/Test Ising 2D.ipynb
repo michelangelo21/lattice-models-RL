{
 "cells": [
  {
   "cell_type": "code",
   "execution_count": 2,
   "metadata": {},
   "outputs": [],
   "source": [
    "from datetime import datetime\n",
    "\n",
    "import matplotlib.pyplot as plt\n",
    "import matplotlib.cm as cm\n",
    "import matplotlib as mpl\n",
    "\n",
    "textwidth = 455.24411 / 72 # inches\n",
    "golden_ratio = (1 + 5**0.5) / 2\n",
    "mpl.rcParams['figure.dpi'] = 600\n",
    "mpl.rcParams['figure.figsize'] = (textwidth, textwidth / golden_ratio)\n",
    "mpl.rcParams['font.size'] = 12\n",
    "mpl.rcParams['font.family'] = \"Computer Modern Roman\"\n",
    "mpl.rcParams['axes.titlesize'] = 12\n",
    "mpl.rcParams['axes.labelsize'] = 12\n",
    "mpl.rcParams['figure.titlesize'] = 12\n",
    "mpl.rcParams['text.usetex'] = True\n",
    "\n",
    "mpl.rcParams[\"figure.autolayout\"] = True\n",
    "\n",
    "import seaborn as sns\n",
    "\n",
    "import gym\n",
    "import numpy as np\n",
    "np.random.seed(42)\n",
    "import pandas as pd\n",
    "from gym.wrappers import TimeLimit\n",
    "from stable_baselines3 import PPO\n",
    "from stable_baselines3.common.callbacks import EvalCallback\n",
    "from stable_baselines3.common.env_checker import check_env\n",
    "\n",
    "# from src.custom_cnn import CustomCNN\n",
    "from src.custom_policy import CustomActorCriticPolicy, ReshapeExtractor\n"
   ]
  },
  {
   "cell_type": "code",
   "execution_count": 3,
   "metadata": {},
   "outputs": [],
   "source": [
    "J = 1.0\n",
    "env_id = \"gym_xymodel:ising2d-v0\"\n",
    "\n"
   ]
  },
  {
   "attachments": {},
   "cell_type": "markdown",
   "metadata": {},
   "source": [
    "Use only one from the cells below:"
   ]
  },
  {
   "cell_type": "code",
   "execution_count": 66,
   "metadata": {},
   "outputs": [
    {
     "name": "stdout",
     "output_type": "stream",
     "text": [
      "Wrapping the env with a `Monitor` wrapper\n",
      "Wrapping the env in a DummyVecEnv.\n"
     ]
    }
   ],
   "source": [
    "SIDE_LENGTH = 4\n",
    "env = gym.make(\n",
    "    env_id,\n",
    "    L=SIDE_LENGTH,\n",
    "    J=J,\n",
    ")\n",
    "IS_CNN = False\n",
    "IS_CONTINUOUS = False\n",
    "\n",
    "folder_path = \"../results/ising2D/L4/2022-12-29T132118_mlp_nenvs8\"\n",
    "\n",
    "model = PPO.load(folder_path + \"/model\", env=env)"
   ]
  },
  {
   "cell_type": "code",
   "execution_count": 27,
   "metadata": {},
   "outputs": [],
   "source": [
    "SIDE_LENGTH = 6\n",
    "env = gym.make(\n",
    "    env_id,\n",
    "    L=SIDE_LENGTH,\n",
    "    J=J,\n",
    ")\n",
    "IS_CNN = False\n",
    "IS_CONTINUOUS = False\n",
    "\n",
    "folder_path = \"../results/medusa/ising_L6/2022-12-31T130553_mlp_nenvs8_nfeat128\"\n",
    "model = PPO.load(folder_path + \"/model\", env=env)"
   ]
  },
  {
   "cell_type": "code",
   "execution_count": 36,
   "metadata": {},
   "outputs": [
    {
     "name": "stdout",
     "output_type": "stream",
     "text": [
      "Wrapping the env with a `Monitor` wrapper\n",
      "Wrapping the env in a DummyVecEnv.\n"
     ]
    }
   ],
   "source": [
    "SIDE_LENGTH = 6\n",
    "env = gym.make(\n",
    "    env_id,\n",
    "    L=SIDE_LENGTH,\n",
    "    J=J,\n",
    ")\n",
    "IS_CNN = True\n",
    "IS_CONTINUOUS = False\n",
    "\n",
    "folder_path = \"../results/results_medusa/ising2D/L6/2023-01-09T021320_cstmpol_nfilters64_nblocks3\"\n",
    "model = PPO.load(folder_path + \"/model\", env=env)"
   ]
  },
  {
   "cell_type": "code",
   "execution_count": 72,
   "metadata": {},
   "outputs": [],
   "source": [
    "# Ising 2D 2nd neighbor\n",
    "SIDE_LENGTH = 4\n",
    "env = gym.make(\"gym_xymodel:ising2d_2ndneighbor-v0\", L=SIDE_LENGTH, J1=-1.0, J2=-1.0)\n",
    "folder_path = \"../results/results_medusa/ising2D_2ndNN/L4/2023-01-08T192052_mlp_nfeat128\"\n",
    "model = PPO.load(folder_path + \"/model\", env=env)\n",
    "\n",
    "    "
   ]
  },
  {
   "cell_type": "code",
   "execution_count": 73,
   "metadata": {},
   "outputs": [],
   "source": [
    "MAX_EPISODE_STEPS = 2 * SIDE_LENGTH**2\n",
    "DETERMINISTIC = True\n",
    "\n",
    "all_energies = [] # list of lists\n",
    "for i in range(100):\n",
    "    energies = []\n",
    "    obs = env.reset()\n",
    "    lattice_init = env.state_to_lattice()\n",
    "    energies.append(env.compute_energy())\n",
    "    for i in range(MAX_EPISODE_STEPS):\n",
    "        action, _state = model.predict(obs, deterministic=DETERMINISTIC)\n",
    "        obs, reward, done, info = env.step(action)\n",
    "        energies.append(env.compute_energy())\n",
    "        if done:\n",
    "            # print(f\"{reward=}\")\n",
    "            break\n",
    "            # env.reset()\n",
    "        # if i % 100 == 0:\n",
    "        #   print(f\"{i=}, {reward=}\")\n",
    "        #   env.render()\n",
    "    all_energies.append(energies)\n"
   ]
  },
  {
   "cell_type": "code",
   "execution_count": 74,
   "metadata": {},
   "outputs": [],
   "source": [
    "if DETERMINISTIC:\n",
    "    all_energies_det = all_energies"
   ]
  },
  {
   "cell_type": "code",
   "execution_count": 76,
   "metadata": {},
   "outputs": [
    {
     "data": {
      "image/png": "[encoded data removed]",
      "text/plain": [
       "<Figure size 324.104x200.307 with 1 Axes>"
      ]
     },
     "metadata": {
      "needs_background": "light"
     },
     "output_type": "display_data"
    }
   ],
   "source": [
    "# df = pd.DataFrame(all_energies).melt()\n",
    "df_det = pd.DataFrame(all_energies_det).melt(ignore_index=False).reset_index()\n",
    "df = pd.DataFrame(all_energies).melt(ignore_index=False).reset_index()\n",
    "\n",
    "# fig, ax = plt.subplots(figsize=(0.45 * textwidth * golden_ratio, 0.45 * textwidth))\n",
    "fig, ax = plt.subplots(figsize=(0.44 * textwidth * golden_ratio, 0.44 * textwidth))\n",
    "# sns.lineplot(ax=ax, x=\"variable\", y=\"value\", data=df_det, hue=\"index\",  palette=\"Purples\", alpha=0.5, label=None, legend=False)\n",
    "# sns.lineplot(ax=ax, x=\"variable\", y=\"value\", data=df, hue=\"index\",  palette=\"Greens\", alpha=0.5, label=None, legend=False)\n",
    "sns.lineplot(ax=ax, x=\"variable\", y=\"value\", data=df_det, errorbar=(\"pi\", 95), label=\"deterministic\") #, ci=\"sd\")\n",
    "# sns.lineplot(ax=ax, x=\"variable\", y=\"value\", data=df, errorbar=(\"pi\", 95), label=\"stochastic\", color=\"orange\") #, ci=\"sd\")\n",
    "# sns.scatterplot(ax=ax, x=\"variable\", y=\"value\", data=df, hue=\"index\",  palette=\"autumn\", alpha=0.5, legend=False)\n",
    "\n",
    "# plt.xlim(0, MAX_EPISODE_STEPS)\n",
    "# plt.hlines(-2.0, 0, MAX_EPISODE_STEPS, linestyles=\"dashed\", colors=\"gray\")\n",
    "plt.vlines(SIDE_LENGTH**2, *ax.get_ylim(), linestyles=\"dotted\", colors=\"gray\")\n",
    "plt.xlim(0, df.variable.max())\n",
    "plt.hlines(-2.0, 0, df.variable.max(), linestyles=\"dashed\", colors=\"gray\")\n",
    "plt.xlabel(\"Step\")\n",
    "plt.ylabel(\"Energy\")\n",
    "plt.tight_layout()\n",
    "# plt.title(f\"Ising, $L={SIDE_LENGTH}$\")\n",
    "plt.title(f\"Ising, $nnn$, $L={SIDE_LENGTH}$\")\n",
    "# plt.legend()\n",
    "plt.legend().remove()\n",
    "\n",
    "E_lims = ax.get_ylim()\n",
    "\n",
    "# path = f\"../results/ising_L{SIDE_LENGTH}\"\n",
    "path = f\"../results/isingNNN_L{SIDE_LENGTH}\"\n",
    "path += \"_energy\"\n",
    "if not DETERMINISTIC:\n",
    "    path += \"_stochastic\"\n",
    "if IS_CNN:\n",
    "    path += \"_cnn\"\n",
    "if IS_CONTINUOUS:\n",
    "    path += \"_continuous\"\n",
    "plt.savefig(path + \".pdf\")\n",
    "# plt.savefig(path + \"_full.pdf\")\n"
   ]
  },
  {
   "cell_type": "code",
   "execution_count": 78,
   "metadata": {},
   "outputs": [
    {
     "data": {
      "text/plain": [
       "array([ 0,  0,  0,  1,  0,  3,  9, 12, 19, 13, 15, 12,  7,  4,  0,  1,  0,\n",
       "        0,  0,  0,  0,  0,  0,  0,  0,  0,  0,  0,  0,  0,  0,  0,  4])"
      ]
     },
     "execution_count": 78,
     "metadata": {},
     "output_type": "execute_result"
    },
    {
     "data": {
      "image/png": "[encoded data removed]",
      "text/plain": [
       "<Figure size 324.104x200.307 with 1 Axes>"
      ]
     },
     "metadata": {
      "needs_background": "light"
     },
     "output_type": "display_data"
    }
   ],
   "source": [
    "MAX_EPISODE_STEPS = df.variable.max()\n",
    "\n",
    "step_amount_det = np.array([df_det[df_det[\"variable\"]==i].count()['value'] for i in range(MAX_EPISODE_STEPS+2)])\n",
    "step_amount = np.array([df[df[\"variable\"]==i].count()['value'] for i in range(MAX_EPISODE_STEPS+2)])\n",
    "aend_hist_det = -np.diff(step_amount_det)\n",
    "aend_hist = -np.diff(step_amount)\n",
    "# sns.barplot(x=np.arange(15), y=aend_hist)\n",
    "fig, ax = plt.subplots(figsize=(0.44 * textwidth * golden_ratio, 0.44 * textwidth))\n",
    "\n",
    "ax.bar(x=np.arange(df.variable.max()+1), height=aend_hist_det, width=0.4)\n",
    "\n",
    "# ax.bar(x=np.arange(MAX_EPISODE_STEPS+1)-0.2, height=aend_hist_det, width=0.4)\n",
    "# ax.bar(x=np.arange(MAX_EPISODE_STEPS+1)+0.2, height=aend_hist,color=\"orange\", width=0.4)\n",
    "# plt.xlim(0,MAX_EPISODE_STEPS+1)\n",
    "plt.vlines(SIDE_LENGTH**2, *ax.get_ylim(), linestyles=\"dotted\", colors=\"gray\")\n",
    "plt.xlabel(\"Episode length\")\n",
    "plt.ylabel(\"Count\")\n",
    "\n",
    "\n",
    "ax.yaxis.set_minor_locator(mpl.ticker.AutoMinorLocator())\n",
    "# plt.title(f\"Ising, $L={SIDE_LENGTH}$\")\n",
    "plt.title(f\"Ising, $nnn$ $L={SIDE_LENGTH}$\")\n",
    "\n",
    "# path = f\"../results/ising_L{SIDE_LENGTH}\"\n",
    "path = f\"../results/isingNNN_L{SIDE_LENGTH}\"\n",
    "path += \"_eplength\"\n",
    "if not DETERMINISTIC:\n",
    "    path += \"_stochastic\"\n",
    "if IS_CNN:\t\n",
    "    path += \"_cnn\"\n",
    "if IS_CONTINUOUS:\n",
    "    path += \"_continuous\"\n",
    "plt.savefig(path + \".pdf\")\n",
    "\n",
    "# sns.histplot(df.dropna(), x=\"variable\")\n",
    "aend_hist"
   ]
  },
  {
   "cell_type": "code",
   "execution_count": 83,
   "metadata": {},
   "outputs": [
    {
     "data": {
      "text/plain": [
       "[96, 1, 2, 1]"
      ]
     },
     "execution_count": 83,
     "metadata": {},
     "output_type": "execute_result"
    },
    {
     "data": {
      "image/png": "[encoded data removed]",
      "text/plain": [
       "<Figure size 123.797x200.307 with 1 Axes>"
      ]
     },
     "metadata": {
      "needs_background": "light"
     },
     "output_type": "display_data"
    }
   ],
   "source": [
    "fig, ax = plt.subplots(figsize=(0.44 * textwidth / golden_ratio, 0.44 * textwidth))\n",
    "\n",
    "\n",
    "last_energies_det = [energies[-1] for energies in all_energies_det]\n",
    "last_energies = [energies[-1] for energies in all_energies]\n",
    "possible_energies_det = np.unique(last_energies_det)\n",
    "possible_energies = np.unique(last_energies)\n",
    "last_energies_counts_det = [last_energies_det.count(pE) for pE in possible_energies_det]\n",
    "last_energies_counts = [last_energies.count(pE) for pE in possible_energies]\n",
    "\n",
    "height = 0.05\n",
    "ax.barh(possible_energies_det, last_energies_counts_det, align='center', height=height)\n",
    "# ax.barh(possible_energies_det+(height/2), last_energies_counts_det, align='center', height=height)\n",
    "# ax.barh(possible_energies-(height/2), last_energies_counts, align='center', height=height, color=\"orange\")\n",
    "\n",
    "# plt.yticks(np.unique([energies[-1] for energies in all_energies]))\n",
    "ax.yaxis.set_major_formatter(mpl.ticker.StrMethodFormatter(\"{x:.1f}\"))\n",
    "plt.ylim(E_lims)\n",
    "\n",
    "# plt.xticks([0] + last_energies_counts)\n",
    "\n",
    "\n",
    "plt.xlabel(\"Count\")\n",
    "plt.ylabel(\"Energy of the final state\")\n",
    "# plt.title(\"MLP\")\n",
    "# plt.title(\"CNN\")\n",
    "plt.title(\"$nnn$\")\n",
    "\n",
    "# path = f\"../results/ising_L{SIDE_LENGTH}\"\n",
    "path = f\"../results/isingNNN_L{SIDE_LENGTH}\"\n",
    "path += \"_efinalcount\"\n",
    "if not DETERMINISTIC:\n",
    "    path += \"_stochastic\"\n",
    "if IS_CNN:\n",
    "    path += \"_cnn\"\n",
    "if IS_CONTINUOUS:\n",
    "    path += \"_continuous\"\n",
    "plt.savefig(path + \".pdf\")\n",
    "\n",
    "last_energies_counts_det"
   ]
  },
  {
   "cell_type": "code",
   "execution_count": 38,
   "metadata": {},
   "outputs": [
    {
     "data": {
      "image/png": "[encoded data removed]",
      "text/plain": [
       "<Figure size 204.86x204.86 with 1 Axes>"
      ]
     },
     "metadata": {},
     "output_type": "display_data"
    },
    {
     "data": {
      "image/png": "[encoded data removed]",
      "text/plain": [
       "<Figure size 204.86x204.86 with 1 Axes>"
      ]
     },
     "metadata": {},
     "output_type": "display_data"
    }
   ],
   "source": [
    "def plot_lattice(lattice):\n",
    "    # ax = plt.figure().add_subplot()\n",
    "    fig, ax = plt.subplots(figsize=(0.45*textwidth,0.45*textwidth))\n",
    "    x, y = np.meshgrid(np.arange(SIDE_LENGTH),\n",
    "                np.arange(SIDE_LENGTH))\n",
    "    ax.quiver(x, y, np.zeros_like(lattice), lattice, lattice,  pivot='mid', scale=10)\n",
    "    ax.axis('equal')\n",
    "    ax.set(xlim=(-0.5, SIDE_LENGTH - 0.5), ylim=(-0.5, SIDE_LENGTH - 0.5))\n",
    "    plt.xticks([])\n",
    "    plt.yticks([])\n",
    "    return fig, ax\n",
    "\n",
    "fig, ax = plot_lattice(lattice_init)\n",
    "ax.set_title(f\"Ising initial state $(E={all_energies[-1][0]:.2f})$\")\n",
    "fig.tight_layout()\n",
    "# plt.savefig(f\"../results/ising_L{SIDE_LENGTH}_initial_state.png\", dpi=600)\n",
    "plt.savefig(f\"../results/ising_L{SIDE_LENGTH}_initial_state.pdf\")\n",
    "# plt.savefig(f\"../results/isingNNN_L{SIDE_LENGTH}_initial_state.pdf\")\n",
    "\n",
    "\n",
    "fig, ax = plot_lattice(env.state_to_lattice())\n",
    "ax.set_title(f\"Ising final state  $(E={all_energies[-1][-1]:.2f})$\")\n",
    "fig.tight_layout()\n",
    "# plt.savefig(f\"../results/ising_L{SIDE_LENGTH}_final_state.png\", dpi=600)\n",
    "plt.savefig(f\"../results/ising_L{SIDE_LENGTH}_final_state.pdf\")\n",
    "# plt.savefig(f\"../results/isingNNN_L{SIDE_LENGTH}_final_state.pdf\")\n",
    "\n",
    "\n",
    "\n",
    "plt.show()\n",
    "\n"
   ]
  },
  {
   "cell_type": "code",
   "execution_count": null,
   "metadata": {},
   "outputs": [],
   "source": []
  }
 ],
 "metadata": {
  "kernelspec": {
   "display_name": "Python 3.9.12 ('spinlatrl')",
   "language": "python",
   "name": "python3"
  },
  "language_info": {
   "codemirror_mode": {
    "name": "ipython",
    "version": 3
   },
   "file_extension": ".py",
   "mimetype": "text/x-python",
   "name": "python",
   "nbconvert_exporter": "python",
   "pygments_lexer": "ipython3",
   "version": "3.9.12"
  },
  "orig_nbformat": 4,
  "vscode": {
   "interpreter": {
    "hash": "f966a718a559d3b7d69daf8b0fd8acabc25ec12405d3d34fbd7cdd12cf867495"
   }
  }
 },
 "nbformat": 4,
 "nbformat_minor": 2
}
