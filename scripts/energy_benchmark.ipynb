{
 "cells": [
  {
   "cell_type": "markdown",
   "metadata": {},
   "source": [
    "# benchmark different energy computation methods to see which one is the fastests"
   ]
  },
  {
   "cell_type": "code",
   "execution_count": 2,
   "metadata": {},
   "outputs": [],
   "source": [
    "import timeit\n",
    "import numpy as np"
   ]
  },
  {
   "cell_type": "code",
   "execution_count": 3,
   "metadata": {},
   "outputs": [],
   "source": [
    "L = 8"
   ]
  },
  {
   "cell_type": "code",
   "execution_count": 4,
   "metadata": {},
   "outputs": [
    {
     "name": "stdout",
     "output_type": "stream",
     "text": [
      "stime=array([0.175653 , 0.1215316, 0.1629311, 0.1770934, 0.1514511]) nstime=array([0.1582052, 0.1453214, 0.1418559, 0.2251198, 0.1636033]) [-0.0174478  0.0237898 -0.0210752  0.0480264  0.0121522]\n"
     ]
    }
   ],
   "source": [
    "state = np.random.rand(L**2)\n",
    "new_state = lambda: np.random.rand(L**2)\n",
    "\n",
    "number = 100_000\n",
    "stime = np.array(timeit.repeat(lambda: np.random.rand(L**2), number=number))\n",
    "nstime = np.array(timeit.repeat(lambda: new_state(), number=number))\n",
    "print(f\"{stime=} {nstime=} {nstime-stime}\")"
   ]
  },
  {
   "cell_type": "code",
   "execution_count": 14,
   "metadata": {},
   "outputs": [
    {
     "name": "stdout",
     "output_type": "stream",
     "text": [
      "one=array([0.6252415, 0.5893309, 0.5740458, 0.618112 , 0.5631939]) twopi=array([0.546328 , 0.5396909, 0.5791978, 0.7177333, 0.8828835]) [-0.0789135 -0.04964    0.005152   0.0996213  0.3196896]\n"
     ]
    }
   ],
   "source": [
    "one = np.array(timeit.repeat(lambda: (new_state() + new_state()) % 1.0, number=number))\n",
    "twopi = np.array(timeit.repeat(lambda: (new_state() + new_state()) % (2*np.pi), number=number))\n",
    "print(f\"{one=} {twopi=} {twopi-one}\")"
   ]
  },
  {
   "cell_type": "code",
   "execution_count": 30,
   "metadata": {},
   "outputs": [
    {
     "data": {
      "text/plain": [
       "array([6.7391841e-06, 7.4477916e-06, 7.1829801e-06, 6.7562989e-06,\n",
       "       6.2980928e-06])"
      ]
     },
     "execution_count": 30,
     "metadata": {},
     "output_type": "execute_result"
    }
   ],
   "source": [
    "def state_to_lattice(state):\n",
    "    lattice = np.reshape(2 * np.pi * state, (L, L))\n",
    "    return lattice\n",
    "\n",
    "\n",
    "number = 1_000_000\n",
    "np.array(timeit.repeat(lambda: state_to_lattice(new_state()), number=number)) / number"
   ]
  },
  {
   "cell_type": "code",
   "execution_count": 59,
   "metadata": {},
   "outputs": [
    {
     "data": {
      "text/plain": [
       "array(319.9243684)"
      ]
     },
     "execution_count": 59,
     "metadata": {},
     "output_type": "execute_result"
    }
   ],
   "source": [
    "def compute_energy(state):\n",
    "    \"\"\"\n",
    "    Computes energy of the current state\n",
    "    \"\"\"\n",
    "    # J=0 except for nearest neighbor\n",
    "    lattice = state_to_lattice(state)\n",
    "    energy = (\n",
    "        -sum(\n",
    "            np.cos(lattice[i, j] - lattice[i - 1, j])\n",
    "            + np.cos(lattice[i, i] - lattice[i, j - 1])\n",
    "            for i in range(L)\n",
    "            for j in range(L)\n",
    "        )\n",
    "    ) / L**2\n",
    "    return energy\n",
    "\n",
    "\n",
    "number = 100_000\n",
    "np.array(timeit.timeit(lambda: compute_energy(new_state()), number=number))"
   ]
  },
  {
   "cell_type": "code",
   "execution_count": null,
   "metadata": {},
   "outputs": [],
   "source": [
    "def compute_energy2(state):\n",
    "    lattice = state_to_lattice(state)\n",
    "    energy = (\n",
    "        -np.sum(\n",
    "            np.cos(lattice[i, j] - lattice[i - 1, j])\n",
    "            + np.cos(lattice[i, i] - lattice[i, j - 1])\n",
    "            for i in range(L)\n",
    "            for j in range(L)\n",
    "        )\n",
    "        / L**2\n",
    "    )\n",
    "    return energy\n",
    "\n",
    "\n",
    "number = 100_000\n",
    "np.array(timeit.timeit(lambda: compute_energy2(new_state()), number=number))"
   ]
  },
  {
   "cell_type": "code",
   "execution_count": 61,
   "metadata": {},
   "outputs": [
    {
     "data": {
      "text/plain": [
       "array(11.4378669)"
      ]
     },
     "execution_count": 61,
     "metadata": {},
     "output_type": "execute_result"
    }
   ],
   "source": [
    "def compute_energy_roll(state):\n",
    "    lattice = state_to_lattice(state)\n",
    "    energy = (\n",
    "        -np.sum(\n",
    "            np.cos(lattice - np.roll(lattice, -1, axis=0))\n",
    "            + np.cos(lattice - np.roll(lattice, -1, axis=1))\n",
    "        )\n",
    "        / L**2\n",
    "    )\n",
    "    return energy\n",
    "\n",
    "\n",
    "number = 100_000\n",
    "np.array(timeit.timeit(lambda: compute_energy_roll(new_state()), number=number))"
   ]
  },
  {
   "cell_type": "code",
   "execution_count": 72,
   "metadata": {},
   "outputs": [
    {
     "data": {
      "text/plain": [
       "[1.240578099997947,\n",
       " 1.3364106000080938,\n",
       " 1.1644328999973368,\n",
       " 1.1640502000082051,\n",
       " 1.2120015999971656]"
      ]
     },
     "execution_count": 72,
     "metadata": {},
     "output_type": "execute_result"
    }
   ],
   "source": [
    "number = 200_000\n",
    "timeit.repeat(lambda: (new_state() + new_state()) % 1, number=number)"
   ]
  },
  {
   "cell_type": "code",
   "execution_count": null,
   "metadata": {},
   "outputs": [],
   "source": []
  }
 ],
 "metadata": {
  "kernelspec": {
   "display_name": "Python 3.9.12 ('spinlatrl')",
   "language": "python",
   "name": "python3"
  },
  "language_info": {
   "codemirror_mode": {
    "name": "ipython",
    "version": 3
   },
   "file_extension": ".py",
   "mimetype": "text/x-python",
   "name": "python",
   "nbconvert_exporter": "python",
   "pygments_lexer": "ipython3",
   "version": "3.9.12"
  },
  "orig_nbformat": 4,
  "vscode": {
   "interpreter": {
    "hash": "f966a718a559d3b7d69daf8b0fd8acabc25ec12405d3d34fbd7cdd12cf867495"
   }
  }
 },
 "nbformat": 4,
 "nbformat_minor": 2
}
