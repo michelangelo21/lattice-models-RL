{
 "cells": [
  {
   "cell_type": "code",
   "execution_count": 4,
   "metadata": {},
   "outputs": [],
   "source": [
    "import gym\n",
    "import numpy as np\n",
    "import torch\n",
    "from stable_baselines3 import PPO, DQN\n",
    "from datetime import datetime\n",
    "from gym.wrappers import TimeLimit\n"
   ]
  },
  {
   "cell_type": "code",
   "execution_count": 11,
   "metadata": {},
   "outputs": [
    {
     "name": "stderr",
     "output_type": "stream",
     "text": [
      "/home/michelangelo/miniconda3/envs/spinlatrl/lib/python3.9/site-packages/stable_baselines3/common/env_checker.py:130: UserWarning: Your observation  has an unconventional shape (neither an image, nor a 1D vector). We recommend you to flatten the observation to have only a 1D vector or use a custom policy to properly process the data.\n",
      "  warnings.warn(\n"
     ]
    },
    {
     "data": {
      "text/plain": [
       "(1, 8)"
      ]
     },
     "execution_count": 11,
     "metadata": {},
     "output_type": "execute_result"
    }
   ],
   "source": [
    "side_length = 8\n",
    "env = gym.make(\"gym_xymodel:isingmodel1d-v0\", L=side_length)\n",
    "env = TimeLimit(env, max_episode_steps=100)\n",
    "from stable_baselines3.common.env_checker import check_env\n",
    "check_env(env)\n",
    "# env = gym.make('CartPole-v1')\n",
    "env.observation_space.shape"
   ]
  },
  {
   "cell_type": "code",
   "execution_count": 25,
   "metadata": {},
   "outputs": [],
   "source": [
    "import gym\n",
    "import torch as th\n",
    "import torch.nn as nn\n",
    "import torch.nn.functional as F\n",
    "\n",
    "from stable_baselines3.common.torch_layers import BaseFeaturesExtractor\n",
    "\n",
    "\n",
    "class CustomCNN(BaseFeaturesExtractor):\n",
    "    \"\"\"\n",
    "    :param observation_space: (gym.Space)\n",
    "    :param features_dim: (int) Number of features extracted.\n",
    "        This corresponds to the number of unit for the last layer.\n",
    "    \"\"\"\n",
    "\n",
    "    def __init__(self, observation_space: gym.spaces.Box, features_dim: int = 256):\n",
    "        super(CustomCNN, self).__init__(observation_space, features_dim)\n",
    "        # Re-ordering will be done by pre-preprocessing or wrapper\n",
    "        n_input_channels = 1\n",
    "        self.cnn = nn.Sequential(\n",
    "            nn.Conv1d(n_input_channels, 32, kernel_size=3),\n",
    "            nn.ReLU(),\n",
    "            nn.Conv1d(32, 64, kernel_size=4, stride=2, padding=0),\n",
    "            nn.ReLU(),\n",
    "            nn.Flatten(),\n",
    "        )\n",
    "\n",
    "        # Compute shape by doing one forward pass\n",
    "        with th.no_grad():\n",
    "            n_flatten = self.cnn(\n",
    "                th.as_tensor(observation_space.sample()[None]).float()\n",
    "            ).shape[1]\n",
    "\n",
    "        self.linear = nn.Sequential(nn.Linear(n_flatten, features_dim), nn.ReLU())\n",
    "\n",
    "    def forward(self, observations: th.Tensor) -> th.Tensor:\n",
    "        # circular boundry conditions\n",
    "        padded_obs = F.pad(observations, pad=(1,1), mode='circular')\n",
    "        return self.linear(self.cnn(padded_obs))\n",
    "\n",
    "policy_kwargs = dict(\n",
    "    features_extractor_class=CustomCNN,\n",
    "    features_extractor_kwargs=dict(features_dim=128),\n",
    ")   "
   ]
  },
  {
   "cell_type": "code",
   "execution_count": 26,
   "metadata": {},
   "outputs": [
    {
     "ename": "RuntimeError",
     "evalue": "Expected 3-dimensional input for 3-dimensional weight [6, 1, 3], but got 2-dimensional input of size [1, 8] instead",
     "output_type": "error",
     "traceback": [
      "\u001b[0;31m---------------------------------------------------------------------------\u001b[0m",
      "\u001b[0;31mRuntimeError\u001b[0m                              Traceback (most recent call last)",
      "\u001b[1;32m/home/michelangelo/Documents/spin-lattice-RL/scripts/Ising1D SB3 copy.ipynb Cell 4'\u001b[0m in \u001b[0;36m<module>\u001b[0;34m\u001b[0m\n\u001b[1;32m      <a href='vscode-notebook-cell://wsl%2Bubuntu/home/michelangelo/Documents/spin-lattice-RL/scripts/Ising1D%20SB3%20copy.ipynb#ch0000006vscode-remote?line=4'>5</a>\u001b[0m \u001b[39m# input = torch.randn(1, 1, 8)\u001b[39;00m\n\u001b[1;32m      <a href='vscode-notebook-cell://wsl%2Bubuntu/home/michelangelo/Documents/spin-lattice-RL/scripts/Ising1D%20SB3%20copy.ipynb#ch0000006vscode-remote?line=5'>6</a>\u001b[0m \u001b[39m# # m(obs)\u001b[39;00m\n\u001b[1;32m      <a href='vscode-notebook-cell://wsl%2Bubuntu/home/michelangelo/Documents/spin-lattice-RL/scripts/Ising1D%20SB3%20copy.ipynb#ch0000006vscode-remote?line=6'>7</a>\u001b[0m \u001b[39m# m(input)\u001b[39;00m\n\u001b[1;32m      <a href='vscode-notebook-cell://wsl%2Bubuntu/home/michelangelo/Documents/spin-lattice-RL/scripts/Ising1D%20SB3%20copy.ipynb#ch0000006vscode-remote?line=7'>8</a>\u001b[0m obs\n\u001b[0;32m----> <a href='vscode-notebook-cell://wsl%2Bubuntu/home/michelangelo/Documents/spin-lattice-RL/scripts/Ising1D%20SB3%20copy.ipynb#ch0000006vscode-remote?line=8'>9</a>\u001b[0m m(obs)\n",
      "File \u001b[0;32m~/miniconda3/envs/spinlatrl/lib/python3.9/site-packages/torch/nn/modules/module.py:1102\u001b[0m, in \u001b[0;36mModule._call_impl\u001b[0;34m(self, *input, **kwargs)\u001b[0m\n\u001b[1;32m   <a href='file:///home/michelangelo/miniconda3/envs/spinlatrl/lib/python3.9/site-packages/torch/nn/modules/module.py?line=1097'>1098</a>\u001b[0m \u001b[39m# If we don't have any hooks, we want to skip the rest of the logic in\u001b[39;00m\n\u001b[1;32m   <a href='file:///home/michelangelo/miniconda3/envs/spinlatrl/lib/python3.9/site-packages/torch/nn/modules/module.py?line=1098'>1099</a>\u001b[0m \u001b[39m# this function, and just call forward.\u001b[39;00m\n\u001b[1;32m   <a href='file:///home/michelangelo/miniconda3/envs/spinlatrl/lib/python3.9/site-packages/torch/nn/modules/module.py?line=1099'>1100</a>\u001b[0m \u001b[39mif\u001b[39;00m \u001b[39mnot\u001b[39;00m (\u001b[39mself\u001b[39m\u001b[39m.\u001b[39m_backward_hooks \u001b[39mor\u001b[39;00m \u001b[39mself\u001b[39m\u001b[39m.\u001b[39m_forward_hooks \u001b[39mor\u001b[39;00m \u001b[39mself\u001b[39m\u001b[39m.\u001b[39m_forward_pre_hooks \u001b[39mor\u001b[39;00m _global_backward_hooks\n\u001b[1;32m   <a href='file:///home/michelangelo/miniconda3/envs/spinlatrl/lib/python3.9/site-packages/torch/nn/modules/module.py?line=1100'>1101</a>\u001b[0m         \u001b[39mor\u001b[39;00m _global_forward_hooks \u001b[39mor\u001b[39;00m _global_forward_pre_hooks):\n\u001b[0;32m-> <a href='file:///home/michelangelo/miniconda3/envs/spinlatrl/lib/python3.9/site-packages/torch/nn/modules/module.py?line=1101'>1102</a>\u001b[0m     \u001b[39mreturn\u001b[39;00m forward_call(\u001b[39m*\u001b[39;49m\u001b[39minput\u001b[39;49m, \u001b[39m*\u001b[39;49m\u001b[39m*\u001b[39;49mkwargs)\n\u001b[1;32m   <a href='file:///home/michelangelo/miniconda3/envs/spinlatrl/lib/python3.9/site-packages/torch/nn/modules/module.py?line=1102'>1103</a>\u001b[0m \u001b[39m# Do not call functions when jit is used\u001b[39;00m\n\u001b[1;32m   <a href='file:///home/michelangelo/miniconda3/envs/spinlatrl/lib/python3.9/site-packages/torch/nn/modules/module.py?line=1103'>1104</a>\u001b[0m full_backward_hooks, non_full_backward_hooks \u001b[39m=\u001b[39m [], []\n",
      "File \u001b[0;32m~/miniconda3/envs/spinlatrl/lib/python3.9/site-packages/torch/nn/modules/conv.py:301\u001b[0m, in \u001b[0;36mConv1d.forward\u001b[0;34m(self, input)\u001b[0m\n\u001b[1;32m    <a href='file:///home/michelangelo/miniconda3/envs/spinlatrl/lib/python3.9/site-packages/torch/nn/modules/conv.py?line=299'>300</a>\u001b[0m \u001b[39mdef\u001b[39;00m \u001b[39mforward\u001b[39m(\u001b[39mself\u001b[39m, \u001b[39minput\u001b[39m: Tensor) \u001b[39m-\u001b[39m\u001b[39m>\u001b[39m Tensor:\n\u001b[0;32m--> <a href='file:///home/michelangelo/miniconda3/envs/spinlatrl/lib/python3.9/site-packages/torch/nn/modules/conv.py?line=300'>301</a>\u001b[0m     \u001b[39mreturn\u001b[39;00m \u001b[39mself\u001b[39;49m\u001b[39m.\u001b[39;49m_conv_forward(\u001b[39minput\u001b[39;49m, \u001b[39mself\u001b[39;49m\u001b[39m.\u001b[39;49mweight, \u001b[39mself\u001b[39;49m\u001b[39m.\u001b[39;49mbias)\n",
      "File \u001b[0;32m~/miniconda3/envs/spinlatrl/lib/python3.9/site-packages/torch/nn/modules/conv.py:297\u001b[0m, in \u001b[0;36mConv1d._conv_forward\u001b[0;34m(self, input, weight, bias)\u001b[0m\n\u001b[1;32m    <a href='file:///home/michelangelo/miniconda3/envs/spinlatrl/lib/python3.9/site-packages/torch/nn/modules/conv.py?line=292'>293</a>\u001b[0m \u001b[39mif\u001b[39;00m \u001b[39mself\u001b[39m\u001b[39m.\u001b[39mpadding_mode \u001b[39m!=\u001b[39m \u001b[39m'\u001b[39m\u001b[39mzeros\u001b[39m\u001b[39m'\u001b[39m:\n\u001b[1;32m    <a href='file:///home/michelangelo/miniconda3/envs/spinlatrl/lib/python3.9/site-packages/torch/nn/modules/conv.py?line=293'>294</a>\u001b[0m     \u001b[39mreturn\u001b[39;00m F\u001b[39m.\u001b[39mconv1d(F\u001b[39m.\u001b[39mpad(\u001b[39minput\u001b[39m, \u001b[39mself\u001b[39m\u001b[39m.\u001b[39m_reversed_padding_repeated_twice, mode\u001b[39m=\u001b[39m\u001b[39mself\u001b[39m\u001b[39m.\u001b[39mpadding_mode),\n\u001b[1;32m    <a href='file:///home/michelangelo/miniconda3/envs/spinlatrl/lib/python3.9/site-packages/torch/nn/modules/conv.py?line=294'>295</a>\u001b[0m                     weight, bias, \u001b[39mself\u001b[39m\u001b[39m.\u001b[39mstride,\n\u001b[1;32m    <a href='file:///home/michelangelo/miniconda3/envs/spinlatrl/lib/python3.9/site-packages/torch/nn/modules/conv.py?line=295'>296</a>\u001b[0m                     _single(\u001b[39m0\u001b[39m), \u001b[39mself\u001b[39m\u001b[39m.\u001b[39mdilation, \u001b[39mself\u001b[39m\u001b[39m.\u001b[39mgroups)\n\u001b[0;32m--> <a href='file:///home/michelangelo/miniconda3/envs/spinlatrl/lib/python3.9/site-packages/torch/nn/modules/conv.py?line=296'>297</a>\u001b[0m \u001b[39mreturn\u001b[39;00m F\u001b[39m.\u001b[39;49mconv1d(\u001b[39minput\u001b[39;49m, weight, bias, \u001b[39mself\u001b[39;49m\u001b[39m.\u001b[39;49mstride,\n\u001b[1;32m    <a href='file:///home/michelangelo/miniconda3/envs/spinlatrl/lib/python3.9/site-packages/torch/nn/modules/conv.py?line=297'>298</a>\u001b[0m                 \u001b[39mself\u001b[39;49m\u001b[39m.\u001b[39;49mpadding, \u001b[39mself\u001b[39;49m\u001b[39m.\u001b[39;49mdilation, \u001b[39mself\u001b[39;49m\u001b[39m.\u001b[39;49mgroups)\n",
      "\u001b[0;31mRuntimeError\u001b[0m: Expected 3-dimensional input for 3-dimensional weight [6, 1, 3], but got 2-dimensional input of size [1, 8] instead"
     ]
    }
   ],
   "source": [
    "obs = env.observation_space.sample()\n",
    "obs.size\n",
    "obs = torch.from_numpy(obs)\n",
    "m = nn.Conv1d(1,6,3,padding=1)\n",
    "# input = torch.randn(1, 1, 8)\n",
    "# # m(obs)\n",
    "# m(input)\n",
    "obs\n",
    "m(obs)\n"
   ]
  },
  {
   "cell_type": "code",
   "execution_count": 27,
   "metadata": {},
   "outputs": [
    {
     "ename": "TypeError",
     "evalue": "conv1d() received an invalid combination of arguments - got (method, Parameter, Parameter, tuple, tuple, tuple, int), but expected one of:\n * (Tensor input, Tensor weight, Tensor bias, tuple of ints stride, tuple of ints padding, tuple of ints dilation, int groups)\n      didn't match because some of the arguments have invalid types: (!method!, !Parameter!, !Parameter!, !tuple!, !tuple!, !tuple!, int)\n * (Tensor input, Tensor weight, Tensor bias, tuple of ints stride, str padding, tuple of ints dilation, int groups)\n      didn't match because some of the arguments have invalid types: (!method!, !Parameter!, !Parameter!, !tuple!, !tuple!, !tuple!, int)\n",
     "output_type": "error",
     "traceback": [
      "\u001b[0;31m---------------------------------------------------------------------------\u001b[0m",
      "\u001b[0;31mTypeError\u001b[0m                                 Traceback (most recent call last)",
      "\u001b[1;32m/home/michelangelo/Documents/spin-lattice-RL/scripts/Ising1D SB3 copy.ipynb Cell 5'\u001b[0m in \u001b[0;36m<module>\u001b[0;34m\u001b[0m\n\u001b[1;32m      <a href='vscode-notebook-cell://wsl%2Bubuntu/home/michelangelo/Documents/spin-lattice-RL/scripts/Ising1D%20SB3%20copy.ipynb#ch0000007vscode-remote?line=0'>1</a>\u001b[0m \u001b[39mfrom\u001b[39;00m \u001b[39mgym\u001b[39;00m \u001b[39mimport\u001b[39;00m spaces\n\u001b[1;32m      <a href='vscode-notebook-cell://wsl%2Bubuntu/home/michelangelo/Documents/spin-lattice-RL/scripts/Ising1D%20SB3%20copy.ipynb#ch0000007vscode-remote?line=2'>3</a>\u001b[0m spaces\u001b[39m.\u001b[39mBox(low\u001b[39m=\u001b[39m\u001b[39m0\u001b[39m, high\u001b[39m=\u001b[39m\u001b[39m1\u001b[39m, shape\u001b[39m=\u001b[39m(\u001b[39m1\u001b[39m,\u001b[39m8\u001b[39m))\n\u001b[0;32m----> <a href='vscode-notebook-cell://wsl%2Bubuntu/home/michelangelo/Documents/spin-lattice-RL/scripts/Ising1D%20SB3%20copy.ipynb#ch0000007vscode-remote?line=3'>4</a>\u001b[0m m(\u001b[39minput\u001b[39;49m)\u001b[39m.\u001b[39mshape\n\u001b[1;32m      <a href='vscode-notebook-cell://wsl%2Bubuntu/home/michelangelo/Documents/spin-lattice-RL/scripts/Ising1D%20SB3%20copy.ipynb#ch0000007vscode-remote?line=4'>5</a>\u001b[0m F\u001b[39m.\u001b[39mpad(\u001b[39minput\u001b[39m,(\u001b[39m1\u001b[39m,\u001b[39m1\u001b[39m),mode\u001b[39m=\u001b[39m\u001b[39m'\u001b[39m\u001b[39mcircular\u001b[39m\u001b[39m'\u001b[39m)\u001b[39m.\u001b[39mshape\n\u001b[1;32m      <a href='vscode-notebook-cell://wsl%2Bubuntu/home/michelangelo/Documents/spin-lattice-RL/scripts/Ising1D%20SB3%20copy.ipynb#ch0000007vscode-remote?line=5'>6</a>\u001b[0m \u001b[39minput\u001b[39m\u001b[39m.\u001b[39mshape\n",
      "File \u001b[0;32m~/miniconda3/envs/spinlatrl/lib/python3.9/site-packages/torch/nn/modules/module.py:1102\u001b[0m, in \u001b[0;36mModule._call_impl\u001b[0;34m(self, *input, **kwargs)\u001b[0m\n\u001b[1;32m   <a href='file:///home/michelangelo/miniconda3/envs/spinlatrl/lib/python3.9/site-packages/torch/nn/modules/module.py?line=1097'>1098</a>\u001b[0m \u001b[39m# If we don't have any hooks, we want to skip the rest of the logic in\u001b[39;00m\n\u001b[1;32m   <a href='file:///home/michelangelo/miniconda3/envs/spinlatrl/lib/python3.9/site-packages/torch/nn/modules/module.py?line=1098'>1099</a>\u001b[0m \u001b[39m# this function, and just call forward.\u001b[39;00m\n\u001b[1;32m   <a href='file:///home/michelangelo/miniconda3/envs/spinlatrl/lib/python3.9/site-packages/torch/nn/modules/module.py?line=1099'>1100</a>\u001b[0m \u001b[39mif\u001b[39;00m \u001b[39mnot\u001b[39;00m (\u001b[39mself\u001b[39m\u001b[39m.\u001b[39m_backward_hooks \u001b[39mor\u001b[39;00m \u001b[39mself\u001b[39m\u001b[39m.\u001b[39m_forward_hooks \u001b[39mor\u001b[39;00m \u001b[39mself\u001b[39m\u001b[39m.\u001b[39m_forward_pre_hooks \u001b[39mor\u001b[39;00m _global_backward_hooks\n\u001b[1;32m   <a href='file:///home/michelangelo/miniconda3/envs/spinlatrl/lib/python3.9/site-packages/torch/nn/modules/module.py?line=1100'>1101</a>\u001b[0m         \u001b[39mor\u001b[39;00m _global_forward_hooks \u001b[39mor\u001b[39;00m _global_forward_pre_hooks):\n\u001b[0;32m-> <a href='file:///home/michelangelo/miniconda3/envs/spinlatrl/lib/python3.9/site-packages/torch/nn/modules/module.py?line=1101'>1102</a>\u001b[0m     \u001b[39mreturn\u001b[39;00m forward_call(\u001b[39m*\u001b[39;49m\u001b[39minput\u001b[39;49m, \u001b[39m*\u001b[39;49m\u001b[39m*\u001b[39;49mkwargs)\n\u001b[1;32m   <a href='file:///home/michelangelo/miniconda3/envs/spinlatrl/lib/python3.9/site-packages/torch/nn/modules/module.py?line=1102'>1103</a>\u001b[0m \u001b[39m# Do not call functions when jit is used\u001b[39;00m\n\u001b[1;32m   <a href='file:///home/michelangelo/miniconda3/envs/spinlatrl/lib/python3.9/site-packages/torch/nn/modules/module.py?line=1103'>1104</a>\u001b[0m full_backward_hooks, non_full_backward_hooks \u001b[39m=\u001b[39m [], []\n",
      "File \u001b[0;32m~/miniconda3/envs/spinlatrl/lib/python3.9/site-packages/torch/nn/modules/conv.py:301\u001b[0m, in \u001b[0;36mConv1d.forward\u001b[0;34m(self, input)\u001b[0m\n\u001b[1;32m    <a href='file:///home/michelangelo/miniconda3/envs/spinlatrl/lib/python3.9/site-packages/torch/nn/modules/conv.py?line=299'>300</a>\u001b[0m \u001b[39mdef\u001b[39;00m \u001b[39mforward\u001b[39m(\u001b[39mself\u001b[39m, \u001b[39minput\u001b[39m: Tensor) \u001b[39m-\u001b[39m\u001b[39m>\u001b[39m Tensor:\n\u001b[0;32m--> <a href='file:///home/michelangelo/miniconda3/envs/spinlatrl/lib/python3.9/site-packages/torch/nn/modules/conv.py?line=300'>301</a>\u001b[0m     \u001b[39mreturn\u001b[39;00m \u001b[39mself\u001b[39;49m\u001b[39m.\u001b[39;49m_conv_forward(\u001b[39minput\u001b[39;49m, \u001b[39mself\u001b[39;49m\u001b[39m.\u001b[39;49mweight, \u001b[39mself\u001b[39;49m\u001b[39m.\u001b[39;49mbias)\n",
      "File \u001b[0;32m~/miniconda3/envs/spinlatrl/lib/python3.9/site-packages/torch/nn/modules/conv.py:297\u001b[0m, in \u001b[0;36mConv1d._conv_forward\u001b[0;34m(self, input, weight, bias)\u001b[0m\n\u001b[1;32m    <a href='file:///home/michelangelo/miniconda3/envs/spinlatrl/lib/python3.9/site-packages/torch/nn/modules/conv.py?line=292'>293</a>\u001b[0m \u001b[39mif\u001b[39;00m \u001b[39mself\u001b[39m\u001b[39m.\u001b[39mpadding_mode \u001b[39m!=\u001b[39m \u001b[39m'\u001b[39m\u001b[39mzeros\u001b[39m\u001b[39m'\u001b[39m:\n\u001b[1;32m    <a href='file:///home/michelangelo/miniconda3/envs/spinlatrl/lib/python3.9/site-packages/torch/nn/modules/conv.py?line=293'>294</a>\u001b[0m     \u001b[39mreturn\u001b[39;00m F\u001b[39m.\u001b[39mconv1d(F\u001b[39m.\u001b[39mpad(\u001b[39minput\u001b[39m, \u001b[39mself\u001b[39m\u001b[39m.\u001b[39m_reversed_padding_repeated_twice, mode\u001b[39m=\u001b[39m\u001b[39mself\u001b[39m\u001b[39m.\u001b[39mpadding_mode),\n\u001b[1;32m    <a href='file:///home/michelangelo/miniconda3/envs/spinlatrl/lib/python3.9/site-packages/torch/nn/modules/conv.py?line=294'>295</a>\u001b[0m                     weight, bias, \u001b[39mself\u001b[39m\u001b[39m.\u001b[39mstride,\n\u001b[1;32m    <a href='file:///home/michelangelo/miniconda3/envs/spinlatrl/lib/python3.9/site-packages/torch/nn/modules/conv.py?line=295'>296</a>\u001b[0m                     _single(\u001b[39m0\u001b[39m), \u001b[39mself\u001b[39m\u001b[39m.\u001b[39mdilation, \u001b[39mself\u001b[39m\u001b[39m.\u001b[39mgroups)\n\u001b[0;32m--> <a href='file:///home/michelangelo/miniconda3/envs/spinlatrl/lib/python3.9/site-packages/torch/nn/modules/conv.py?line=296'>297</a>\u001b[0m \u001b[39mreturn\u001b[39;00m F\u001b[39m.\u001b[39;49mconv1d(\u001b[39minput\u001b[39;49m, weight, bias, \u001b[39mself\u001b[39;49m\u001b[39m.\u001b[39;49mstride,\n\u001b[1;32m    <a href='file:///home/michelangelo/miniconda3/envs/spinlatrl/lib/python3.9/site-packages/torch/nn/modules/conv.py?line=297'>298</a>\u001b[0m                 \u001b[39mself\u001b[39;49m\u001b[39m.\u001b[39;49mpadding, \u001b[39mself\u001b[39;49m\u001b[39m.\u001b[39;49mdilation, \u001b[39mself\u001b[39;49m\u001b[39m.\u001b[39;49mgroups)\n",
      "\u001b[0;31mTypeError\u001b[0m: conv1d() received an invalid combination of arguments - got (method, Parameter, Parameter, tuple, tuple, tuple, int), but expected one of:\n * (Tensor input, Tensor weight, Tensor bias, tuple of ints stride, tuple of ints padding, tuple of ints dilation, int groups)\n      didn't match because some of the arguments have invalid types: (!method!, !Parameter!, !Parameter!, !tuple!, !tuple!, !tuple!, int)\n * (Tensor input, Tensor weight, Tensor bias, tuple of ints stride, str padding, tuple of ints dilation, int groups)\n      didn't match because some of the arguments have invalid types: (!method!, !Parameter!, !Parameter!, !tuple!, !tuple!, !tuple!, int)\n"
     ]
    }
   ],
   "source": [
    "\n",
    "from gym import spaces\n",
    "\n",
    "spaces.Box(low=0, high=1, shape=(1,8))\n",
    "m(input).shape\n",
    "F.pad(input,(1,1),mode='circular').shape\n",
    "input.shape\n"
   ]
  },
  {
   "cell_type": "code",
   "execution_count": 28,
   "metadata": {},
   "outputs": [
    {
     "name": "stdout",
     "output_type": "stream",
     "text": [
      "Using cuda device\n",
      "Wrapping the env with a `Monitor` wrapper\n",
      "Wrapping the env in a DummyVecEnv.\n",
      "Logging to ../results/ising1D/2022-05-15_20-30-15_8/PPO_1\n"
     ]
    },
    {
     "ename": "RuntimeError",
     "evalue": "mat1 and mat2 shapes cannot be multiplied (1x192 and 128x128)",
     "output_type": "error",
     "traceback": [
      "\u001b[0;31m---------------------------------------------------------------------------\u001b[0m",
      "\u001b[0;31mRuntimeError\u001b[0m                              Traceback (most recent call last)",
      "\u001b[1;32m/home/michelangelo/Documents/spin-lattice-RL/scripts/Ising1D SB3 copy.ipynb Cell 6'\u001b[0m in \u001b[0;36m<module>\u001b[0;34m\u001b[0m\n\u001b[1;32m      <a href='vscode-notebook-cell://wsl%2Bubuntu/home/michelangelo/Documents/spin-lattice-RL/scripts/Ising1D%20SB3%20copy.ipynb#ch0000002vscode-remote?line=2'>3</a>\u001b[0m \u001b[39m# model = PPO(\"MlpPolicy\", env, tensorboard_log=folder_path)\u001b[39;00m\n\u001b[1;32m      <a href='vscode-notebook-cell://wsl%2Bubuntu/home/michelangelo/Documents/spin-lattice-RL/scripts/Ising1D%20SB3%20copy.ipynb#ch0000002vscode-remote?line=3'>4</a>\u001b[0m model \u001b[39m=\u001b[39m PPO(\u001b[39m\"\u001b[39m\u001b[39mCnnPolicy\u001b[39m\u001b[39m\"\u001b[39m, env, policy_kwargs\u001b[39m=\u001b[39mpolicy_kwargs, tensorboard_log\u001b[39m=\u001b[39mfolder_path, verbose\u001b[39m=\u001b[39m\u001b[39mTrue\u001b[39;00m)\n\u001b[0;32m----> <a href='vscode-notebook-cell://wsl%2Bubuntu/home/michelangelo/Documents/spin-lattice-RL/scripts/Ising1D%20SB3%20copy.ipynb#ch0000002vscode-remote?line=4'>5</a>\u001b[0m model\u001b[39m.\u001b[39;49mlearn(total_timesteps\u001b[39m=\u001b[39;49m\u001b[39m100_000\u001b[39;49m)\n\u001b[1;32m      <a href='vscode-notebook-cell://wsl%2Bubuntu/home/michelangelo/Documents/spin-lattice-RL/scripts/Ising1D%20SB3%20copy.ipynb#ch0000002vscode-remote?line=5'>6</a>\u001b[0m model\u001b[39m.\u001b[39msave(\u001b[39mf\u001b[39m\u001b[39m\"\u001b[39m\u001b[39m{\u001b[39;00mfolder_path\u001b[39m}\u001b[39;00m\u001b[39m/model\u001b[39m\u001b[39m\"\u001b[39m)\n",
      "File \u001b[0;32m~/miniconda3/envs/spinlatrl/lib/python3.9/site-packages/stable_baselines3/ppo/ppo.py:299\u001b[0m, in \u001b[0;36mPPO.learn\u001b[0;34m(self, total_timesteps, callback, log_interval, eval_env, eval_freq, n_eval_episodes, tb_log_name, eval_log_path, reset_num_timesteps)\u001b[0m\n\u001b[1;32m    <a href='file:///home/michelangelo/miniconda3/envs/spinlatrl/lib/python3.9/site-packages/stable_baselines3/ppo/ppo.py?line=285'>286</a>\u001b[0m \u001b[39mdef\u001b[39;00m \u001b[39mlearn\u001b[39m(\n\u001b[1;32m    <a href='file:///home/michelangelo/miniconda3/envs/spinlatrl/lib/python3.9/site-packages/stable_baselines3/ppo/ppo.py?line=286'>287</a>\u001b[0m     \u001b[39mself\u001b[39m,\n\u001b[1;32m    <a href='file:///home/michelangelo/miniconda3/envs/spinlatrl/lib/python3.9/site-packages/stable_baselines3/ppo/ppo.py?line=287'>288</a>\u001b[0m     total_timesteps: \u001b[39mint\u001b[39m,\n\u001b[0;32m   (...)\u001b[0m\n\u001b[1;32m    <a href='file:///home/michelangelo/miniconda3/envs/spinlatrl/lib/python3.9/site-packages/stable_baselines3/ppo/ppo.py?line=295'>296</a>\u001b[0m     reset_num_timesteps: \u001b[39mbool\u001b[39m \u001b[39m=\u001b[39m \u001b[39mTrue\u001b[39;00m,\n\u001b[1;32m    <a href='file:///home/michelangelo/miniconda3/envs/spinlatrl/lib/python3.9/site-packages/stable_baselines3/ppo/ppo.py?line=296'>297</a>\u001b[0m ) \u001b[39m-\u001b[39m\u001b[39m>\u001b[39m \u001b[39m\"\u001b[39m\u001b[39mPPO\u001b[39m\u001b[39m\"\u001b[39m:\n\u001b[0;32m--> <a href='file:///home/michelangelo/miniconda3/envs/spinlatrl/lib/python3.9/site-packages/stable_baselines3/ppo/ppo.py?line=298'>299</a>\u001b[0m     \u001b[39mreturn\u001b[39;00m \u001b[39msuper\u001b[39;49m(PPO, \u001b[39mself\u001b[39;49m)\u001b[39m.\u001b[39;49mlearn(\n\u001b[1;32m    <a href='file:///home/michelangelo/miniconda3/envs/spinlatrl/lib/python3.9/site-packages/stable_baselines3/ppo/ppo.py?line=299'>300</a>\u001b[0m         total_timesteps\u001b[39m=\u001b[39;49mtotal_timesteps,\n\u001b[1;32m    <a href='file:///home/michelangelo/miniconda3/envs/spinlatrl/lib/python3.9/site-packages/stable_baselines3/ppo/ppo.py?line=300'>301</a>\u001b[0m         callback\u001b[39m=\u001b[39;49mcallback,\n\u001b[1;32m    <a href='file:///home/michelangelo/miniconda3/envs/spinlatrl/lib/python3.9/site-packages/stable_baselines3/ppo/ppo.py?line=301'>302</a>\u001b[0m         log_interval\u001b[39m=\u001b[39;49mlog_interval,\n\u001b[1;32m    <a href='file:///home/michelangelo/miniconda3/envs/spinlatrl/lib/python3.9/site-packages/stable_baselines3/ppo/ppo.py?line=302'>303</a>\u001b[0m         eval_env\u001b[39m=\u001b[39;49meval_env,\n\u001b[1;32m    <a href='file:///home/michelangelo/miniconda3/envs/spinlatrl/lib/python3.9/site-packages/stable_baselines3/ppo/ppo.py?line=303'>304</a>\u001b[0m         eval_freq\u001b[39m=\u001b[39;49meval_freq,\n\u001b[1;32m    <a href='file:///home/michelangelo/miniconda3/envs/spinlatrl/lib/python3.9/site-packages/stable_baselines3/ppo/ppo.py?line=304'>305</a>\u001b[0m         n_eval_episodes\u001b[39m=\u001b[39;49mn_eval_episodes,\n\u001b[1;32m    <a href='file:///home/michelangelo/miniconda3/envs/spinlatrl/lib/python3.9/site-packages/stable_baselines3/ppo/ppo.py?line=305'>306</a>\u001b[0m         tb_log_name\u001b[39m=\u001b[39;49mtb_log_name,\n\u001b[1;32m    <a href='file:///home/michelangelo/miniconda3/envs/spinlatrl/lib/python3.9/site-packages/stable_baselines3/ppo/ppo.py?line=306'>307</a>\u001b[0m         eval_log_path\u001b[39m=\u001b[39;49meval_log_path,\n\u001b[1;32m    <a href='file:///home/michelangelo/miniconda3/envs/spinlatrl/lib/python3.9/site-packages/stable_baselines3/ppo/ppo.py?line=307'>308</a>\u001b[0m         reset_num_timesteps\u001b[39m=\u001b[39;49mreset_num_timesteps,\n\u001b[1;32m    <a href='file:///home/michelangelo/miniconda3/envs/spinlatrl/lib/python3.9/site-packages/stable_baselines3/ppo/ppo.py?line=308'>309</a>\u001b[0m     )\n",
      "File \u001b[0;32m~/miniconda3/envs/spinlatrl/lib/python3.9/site-packages/stable_baselines3/common/on_policy_algorithm.py:250\u001b[0m, in \u001b[0;36mOnPolicyAlgorithm.learn\u001b[0;34m(self, total_timesteps, callback, log_interval, eval_env, eval_freq, n_eval_episodes, tb_log_name, eval_log_path, reset_num_timesteps)\u001b[0m\n\u001b[1;32m    <a href='file:///home/michelangelo/miniconda3/envs/spinlatrl/lib/python3.9/site-packages/stable_baselines3/common/on_policy_algorithm.py?line=245'>246</a>\u001b[0m callback\u001b[39m.\u001b[39mon_training_start(\u001b[39mlocals\u001b[39m(), \u001b[39mglobals\u001b[39m())\n\u001b[1;32m    <a href='file:///home/michelangelo/miniconda3/envs/spinlatrl/lib/python3.9/site-packages/stable_baselines3/common/on_policy_algorithm.py?line=247'>248</a>\u001b[0m \u001b[39mwhile\u001b[39;00m \u001b[39mself\u001b[39m\u001b[39m.\u001b[39mnum_timesteps \u001b[39m<\u001b[39m total_timesteps:\n\u001b[0;32m--> <a href='file:///home/michelangelo/miniconda3/envs/spinlatrl/lib/python3.9/site-packages/stable_baselines3/common/on_policy_algorithm.py?line=249'>250</a>\u001b[0m     continue_training \u001b[39m=\u001b[39m \u001b[39mself\u001b[39;49m\u001b[39m.\u001b[39;49mcollect_rollouts(\u001b[39mself\u001b[39;49m\u001b[39m.\u001b[39;49menv, callback, \u001b[39mself\u001b[39;49m\u001b[39m.\u001b[39;49mrollout_buffer, n_rollout_steps\u001b[39m=\u001b[39;49m\u001b[39mself\u001b[39;49m\u001b[39m.\u001b[39;49mn_steps)\n\u001b[1;32m    <a href='file:///home/michelangelo/miniconda3/envs/spinlatrl/lib/python3.9/site-packages/stable_baselines3/common/on_policy_algorithm.py?line=251'>252</a>\u001b[0m     \u001b[39mif\u001b[39;00m continue_training \u001b[39mis\u001b[39;00m \u001b[39mFalse\u001b[39;00m:\n\u001b[1;32m    <a href='file:///home/michelangelo/miniconda3/envs/spinlatrl/lib/python3.9/site-packages/stable_baselines3/common/on_policy_algorithm.py?line=252'>253</a>\u001b[0m         \u001b[39mbreak\u001b[39;00m\n",
      "File \u001b[0;32m~/miniconda3/envs/spinlatrl/lib/python3.9/site-packages/stable_baselines3/common/on_policy_algorithm.py:169\u001b[0m, in \u001b[0;36mOnPolicyAlgorithm.collect_rollouts\u001b[0;34m(self, env, callback, rollout_buffer, n_rollout_steps)\u001b[0m\n\u001b[1;32m    <a href='file:///home/michelangelo/miniconda3/envs/spinlatrl/lib/python3.9/site-packages/stable_baselines3/common/on_policy_algorithm.py?line=165'>166</a>\u001b[0m \u001b[39mwith\u001b[39;00m th\u001b[39m.\u001b[39mno_grad():\n\u001b[1;32m    <a href='file:///home/michelangelo/miniconda3/envs/spinlatrl/lib/python3.9/site-packages/stable_baselines3/common/on_policy_algorithm.py?line=166'>167</a>\u001b[0m     \u001b[39m# Convert to pytorch tensor or to TensorDict\u001b[39;00m\n\u001b[1;32m    <a href='file:///home/michelangelo/miniconda3/envs/spinlatrl/lib/python3.9/site-packages/stable_baselines3/common/on_policy_algorithm.py?line=167'>168</a>\u001b[0m     obs_tensor \u001b[39m=\u001b[39m obs_as_tensor(\u001b[39mself\u001b[39m\u001b[39m.\u001b[39m_last_obs, \u001b[39mself\u001b[39m\u001b[39m.\u001b[39mdevice)\n\u001b[0;32m--> <a href='file:///home/michelangelo/miniconda3/envs/spinlatrl/lib/python3.9/site-packages/stable_baselines3/common/on_policy_algorithm.py?line=168'>169</a>\u001b[0m     actions, values, log_probs \u001b[39m=\u001b[39m \u001b[39mself\u001b[39;49m\u001b[39m.\u001b[39;49mpolicy\u001b[39m.\u001b[39;49mforward(obs_tensor)\n\u001b[1;32m    <a href='file:///home/michelangelo/miniconda3/envs/spinlatrl/lib/python3.9/site-packages/stable_baselines3/common/on_policy_algorithm.py?line=169'>170</a>\u001b[0m actions \u001b[39m=\u001b[39m actions\u001b[39m.\u001b[39mcpu()\u001b[39m.\u001b[39mnumpy()\n\u001b[1;32m    <a href='file:///home/michelangelo/miniconda3/envs/spinlatrl/lib/python3.9/site-packages/stable_baselines3/common/on_policy_algorithm.py?line=171'>172</a>\u001b[0m \u001b[39m# Rescale and perform action\u001b[39;00m\n",
      "File \u001b[0;32m~/miniconda3/envs/spinlatrl/lib/python3.9/site-packages/stable_baselines3/common/policies.py:588\u001b[0m, in \u001b[0;36mActorCriticPolicy.forward\u001b[0;34m(self, obs, deterministic)\u001b[0m\n\u001b[1;32m    <a href='file:///home/michelangelo/miniconda3/envs/spinlatrl/lib/python3.9/site-packages/stable_baselines3/common/policies.py?line=579'>580</a>\u001b[0m \u001b[39m\"\"\"\u001b[39;00m\n\u001b[1;32m    <a href='file:///home/michelangelo/miniconda3/envs/spinlatrl/lib/python3.9/site-packages/stable_baselines3/common/policies.py?line=580'>581</a>\u001b[0m \u001b[39mForward pass in all the networks (actor and critic)\u001b[39;00m\n\u001b[1;32m    <a href='file:///home/michelangelo/miniconda3/envs/spinlatrl/lib/python3.9/site-packages/stable_baselines3/common/policies.py?line=581'>582</a>\u001b[0m \n\u001b[0;32m   (...)\u001b[0m\n\u001b[1;32m    <a href='file:///home/michelangelo/miniconda3/envs/spinlatrl/lib/python3.9/site-packages/stable_baselines3/common/policies.py?line=584'>585</a>\u001b[0m \u001b[39m:return: action, value and log probability of the action\u001b[39;00m\n\u001b[1;32m    <a href='file:///home/michelangelo/miniconda3/envs/spinlatrl/lib/python3.9/site-packages/stable_baselines3/common/policies.py?line=585'>586</a>\u001b[0m \u001b[39m\"\"\"\u001b[39;00m\n\u001b[1;32m    <a href='file:///home/michelangelo/miniconda3/envs/spinlatrl/lib/python3.9/site-packages/stable_baselines3/common/policies.py?line=586'>587</a>\u001b[0m \u001b[39m# Preprocess the observation if needed\u001b[39;00m\n\u001b[0;32m--> <a href='file:///home/michelangelo/miniconda3/envs/spinlatrl/lib/python3.9/site-packages/stable_baselines3/common/policies.py?line=587'>588</a>\u001b[0m features \u001b[39m=\u001b[39m \u001b[39mself\u001b[39;49m\u001b[39m.\u001b[39;49mextract_features(obs)\n\u001b[1;32m    <a href='file:///home/michelangelo/miniconda3/envs/spinlatrl/lib/python3.9/site-packages/stable_baselines3/common/policies.py?line=588'>589</a>\u001b[0m latent_pi, latent_vf \u001b[39m=\u001b[39m \u001b[39mself\u001b[39m\u001b[39m.\u001b[39mmlp_extractor(features)\n\u001b[1;32m    <a href='file:///home/michelangelo/miniconda3/envs/spinlatrl/lib/python3.9/site-packages/stable_baselines3/common/policies.py?line=589'>590</a>\u001b[0m \u001b[39m# Evaluate the values for the given observations\u001b[39;00m\n",
      "File \u001b[0;32m~/miniconda3/envs/spinlatrl/lib/python3.9/site-packages/stable_baselines3/common/policies.py:129\u001b[0m, in \u001b[0;36mBaseModel.extract_features\u001b[0;34m(self, obs)\u001b[0m\n\u001b[1;32m    <a href='file:///home/michelangelo/miniconda3/envs/spinlatrl/lib/python3.9/site-packages/stable_baselines3/common/policies.py?line=126'>127</a>\u001b[0m \u001b[39massert\u001b[39;00m \u001b[39mself\u001b[39m\u001b[39m.\u001b[39mfeatures_extractor \u001b[39mis\u001b[39;00m \u001b[39mnot\u001b[39;00m \u001b[39mNone\u001b[39;00m, \u001b[39m\"\u001b[39m\u001b[39mNo features extractor was set\u001b[39m\u001b[39m\"\u001b[39m\n\u001b[1;32m    <a href='file:///home/michelangelo/miniconda3/envs/spinlatrl/lib/python3.9/site-packages/stable_baselines3/common/policies.py?line=127'>128</a>\u001b[0m preprocessed_obs \u001b[39m=\u001b[39m preprocess_obs(obs, \u001b[39mself\u001b[39m\u001b[39m.\u001b[39mobservation_space, normalize_images\u001b[39m=\u001b[39m\u001b[39mself\u001b[39m\u001b[39m.\u001b[39mnormalize_images)\n\u001b[0;32m--> <a href='file:///home/michelangelo/miniconda3/envs/spinlatrl/lib/python3.9/site-packages/stable_baselines3/common/policies.py?line=128'>129</a>\u001b[0m \u001b[39mreturn\u001b[39;00m \u001b[39mself\u001b[39;49m\u001b[39m.\u001b[39;49mfeatures_extractor(preprocessed_obs)\n",
      "File \u001b[0;32m~/miniconda3/envs/spinlatrl/lib/python3.9/site-packages/torch/nn/modules/module.py:1102\u001b[0m, in \u001b[0;36mModule._call_impl\u001b[0;34m(self, *input, **kwargs)\u001b[0m\n\u001b[1;32m   <a href='file:///home/michelangelo/miniconda3/envs/spinlatrl/lib/python3.9/site-packages/torch/nn/modules/module.py?line=1097'>1098</a>\u001b[0m \u001b[39m# If we don't have any hooks, we want to skip the rest of the logic in\u001b[39;00m\n\u001b[1;32m   <a href='file:///home/michelangelo/miniconda3/envs/spinlatrl/lib/python3.9/site-packages/torch/nn/modules/module.py?line=1098'>1099</a>\u001b[0m \u001b[39m# this function, and just call forward.\u001b[39;00m\n\u001b[1;32m   <a href='file:///home/michelangelo/miniconda3/envs/spinlatrl/lib/python3.9/site-packages/torch/nn/modules/module.py?line=1099'>1100</a>\u001b[0m \u001b[39mif\u001b[39;00m \u001b[39mnot\u001b[39;00m (\u001b[39mself\u001b[39m\u001b[39m.\u001b[39m_backward_hooks \u001b[39mor\u001b[39;00m \u001b[39mself\u001b[39m\u001b[39m.\u001b[39m_forward_hooks \u001b[39mor\u001b[39;00m \u001b[39mself\u001b[39m\u001b[39m.\u001b[39m_forward_pre_hooks \u001b[39mor\u001b[39;00m _global_backward_hooks\n\u001b[1;32m   <a href='file:///home/michelangelo/miniconda3/envs/spinlatrl/lib/python3.9/site-packages/torch/nn/modules/module.py?line=1100'>1101</a>\u001b[0m         \u001b[39mor\u001b[39;00m _global_forward_hooks \u001b[39mor\u001b[39;00m _global_forward_pre_hooks):\n\u001b[0;32m-> <a href='file:///home/michelangelo/miniconda3/envs/spinlatrl/lib/python3.9/site-packages/torch/nn/modules/module.py?line=1101'>1102</a>\u001b[0m     \u001b[39mreturn\u001b[39;00m forward_call(\u001b[39m*\u001b[39;49m\u001b[39minput\u001b[39;49m, \u001b[39m*\u001b[39;49m\u001b[39m*\u001b[39;49mkwargs)\n\u001b[1;32m   <a href='file:///home/michelangelo/miniconda3/envs/spinlatrl/lib/python3.9/site-packages/torch/nn/modules/module.py?line=1102'>1103</a>\u001b[0m \u001b[39m# Do not call functions when jit is used\u001b[39;00m\n\u001b[1;32m   <a href='file:///home/michelangelo/miniconda3/envs/spinlatrl/lib/python3.9/site-packages/torch/nn/modules/module.py?line=1103'>1104</a>\u001b[0m full_backward_hooks, non_full_backward_hooks \u001b[39m=\u001b[39m [], []\n",
      "\u001b[1;32m/home/michelangelo/Documents/spin-lattice-RL/scripts/Ising1D SB3 copy.ipynb Cell 3'\u001b[0m in \u001b[0;36mCustomCNN.forward\u001b[0;34m(self, observations)\u001b[0m\n\u001b[1;32m     <a href='vscode-notebook-cell://wsl%2Bubuntu/home/michelangelo/Documents/spin-lattice-RL/scripts/Ising1D%20SB3%20copy.ipynb#ch0000005vscode-remote?line=35'>36</a>\u001b[0m \u001b[39mdef\u001b[39;00m \u001b[39mforward\u001b[39m(\u001b[39mself\u001b[39m, observations: th\u001b[39m.\u001b[39mTensor) \u001b[39m-\u001b[39m\u001b[39m>\u001b[39m th\u001b[39m.\u001b[39mTensor:\n\u001b[1;32m     <a href='vscode-notebook-cell://wsl%2Bubuntu/home/michelangelo/Documents/spin-lattice-RL/scripts/Ising1D%20SB3%20copy.ipynb#ch0000005vscode-remote?line=36'>37</a>\u001b[0m     \u001b[39m# circular boundry conditions\u001b[39;00m\n\u001b[1;32m     <a href='vscode-notebook-cell://wsl%2Bubuntu/home/michelangelo/Documents/spin-lattice-RL/scripts/Ising1D%20SB3%20copy.ipynb#ch0000005vscode-remote?line=37'>38</a>\u001b[0m     padded_obs \u001b[39m=\u001b[39m F\u001b[39m.\u001b[39mpad(observations, pad\u001b[39m=\u001b[39m(\u001b[39m1\u001b[39m,\u001b[39m1\u001b[39m), mode\u001b[39m=\u001b[39m\u001b[39m'\u001b[39m\u001b[39mcircular\u001b[39m\u001b[39m'\u001b[39m)\n\u001b[0;32m---> <a href='vscode-notebook-cell://wsl%2Bubuntu/home/michelangelo/Documents/spin-lattice-RL/scripts/Ising1D%20SB3%20copy.ipynb#ch0000005vscode-remote?line=38'>39</a>\u001b[0m     \u001b[39mreturn\u001b[39;00m \u001b[39mself\u001b[39;49m\u001b[39m.\u001b[39;49mlinear(\u001b[39mself\u001b[39;49m\u001b[39m.\u001b[39;49mcnn(padded_obs))\n",
      "File \u001b[0;32m~/miniconda3/envs/spinlatrl/lib/python3.9/site-packages/torch/nn/modules/module.py:1102\u001b[0m, in \u001b[0;36mModule._call_impl\u001b[0;34m(self, *input, **kwargs)\u001b[0m\n\u001b[1;32m   <a href='file:///home/michelangelo/miniconda3/envs/spinlatrl/lib/python3.9/site-packages/torch/nn/modules/module.py?line=1097'>1098</a>\u001b[0m \u001b[39m# If we don't have any hooks, we want to skip the rest of the logic in\u001b[39;00m\n\u001b[1;32m   <a href='file:///home/michelangelo/miniconda3/envs/spinlatrl/lib/python3.9/site-packages/torch/nn/modules/module.py?line=1098'>1099</a>\u001b[0m \u001b[39m# this function, and just call forward.\u001b[39;00m\n\u001b[1;32m   <a href='file:///home/michelangelo/miniconda3/envs/spinlatrl/lib/python3.9/site-packages/torch/nn/modules/module.py?line=1099'>1100</a>\u001b[0m \u001b[39mif\u001b[39;00m \u001b[39mnot\u001b[39;00m (\u001b[39mself\u001b[39m\u001b[39m.\u001b[39m_backward_hooks \u001b[39mor\u001b[39;00m \u001b[39mself\u001b[39m\u001b[39m.\u001b[39m_forward_hooks \u001b[39mor\u001b[39;00m \u001b[39mself\u001b[39m\u001b[39m.\u001b[39m_forward_pre_hooks \u001b[39mor\u001b[39;00m _global_backward_hooks\n\u001b[1;32m   <a href='file:///home/michelangelo/miniconda3/envs/spinlatrl/lib/python3.9/site-packages/torch/nn/modules/module.py?line=1100'>1101</a>\u001b[0m         \u001b[39mor\u001b[39;00m _global_forward_hooks \u001b[39mor\u001b[39;00m _global_forward_pre_hooks):\n\u001b[0;32m-> <a href='file:///home/michelangelo/miniconda3/envs/spinlatrl/lib/python3.9/site-packages/torch/nn/modules/module.py?line=1101'>1102</a>\u001b[0m     \u001b[39mreturn\u001b[39;00m forward_call(\u001b[39m*\u001b[39;49m\u001b[39minput\u001b[39;49m, \u001b[39m*\u001b[39;49m\u001b[39m*\u001b[39;49mkwargs)\n\u001b[1;32m   <a href='file:///home/michelangelo/miniconda3/envs/spinlatrl/lib/python3.9/site-packages/torch/nn/modules/module.py?line=1102'>1103</a>\u001b[0m \u001b[39m# Do not call functions when jit is used\u001b[39;00m\n\u001b[1;32m   <a href='file:///home/michelangelo/miniconda3/envs/spinlatrl/lib/python3.9/site-packages/torch/nn/modules/module.py?line=1103'>1104</a>\u001b[0m full_backward_hooks, non_full_backward_hooks \u001b[39m=\u001b[39m [], []\n",
      "File \u001b[0;32m~/miniconda3/envs/spinlatrl/lib/python3.9/site-packages/torch/nn/modules/container.py:141\u001b[0m, in \u001b[0;36mSequential.forward\u001b[0;34m(self, input)\u001b[0m\n\u001b[1;32m    <a href='file:///home/michelangelo/miniconda3/envs/spinlatrl/lib/python3.9/site-packages/torch/nn/modules/container.py?line=138'>139</a>\u001b[0m \u001b[39mdef\u001b[39;00m \u001b[39mforward\u001b[39m(\u001b[39mself\u001b[39m, \u001b[39minput\u001b[39m):\n\u001b[1;32m    <a href='file:///home/michelangelo/miniconda3/envs/spinlatrl/lib/python3.9/site-packages/torch/nn/modules/container.py?line=139'>140</a>\u001b[0m     \u001b[39mfor\u001b[39;00m module \u001b[39min\u001b[39;00m \u001b[39mself\u001b[39m:\n\u001b[0;32m--> <a href='file:///home/michelangelo/miniconda3/envs/spinlatrl/lib/python3.9/site-packages/torch/nn/modules/container.py?line=140'>141</a>\u001b[0m         \u001b[39minput\u001b[39m \u001b[39m=\u001b[39m module(\u001b[39minput\u001b[39;49m)\n\u001b[1;32m    <a href='file:///home/michelangelo/miniconda3/envs/spinlatrl/lib/python3.9/site-packages/torch/nn/modules/container.py?line=141'>142</a>\u001b[0m     \u001b[39mreturn\u001b[39;00m \u001b[39minput\u001b[39m\n",
      "File \u001b[0;32m~/miniconda3/envs/spinlatrl/lib/python3.9/site-packages/torch/nn/modules/module.py:1102\u001b[0m, in \u001b[0;36mModule._call_impl\u001b[0;34m(self, *input, **kwargs)\u001b[0m\n\u001b[1;32m   <a href='file:///home/michelangelo/miniconda3/envs/spinlatrl/lib/python3.9/site-packages/torch/nn/modules/module.py?line=1097'>1098</a>\u001b[0m \u001b[39m# If we don't have any hooks, we want to skip the rest of the logic in\u001b[39;00m\n\u001b[1;32m   <a href='file:///home/michelangelo/miniconda3/envs/spinlatrl/lib/python3.9/site-packages/torch/nn/modules/module.py?line=1098'>1099</a>\u001b[0m \u001b[39m# this function, and just call forward.\u001b[39;00m\n\u001b[1;32m   <a href='file:///home/michelangelo/miniconda3/envs/spinlatrl/lib/python3.9/site-packages/torch/nn/modules/module.py?line=1099'>1100</a>\u001b[0m \u001b[39mif\u001b[39;00m \u001b[39mnot\u001b[39;00m (\u001b[39mself\u001b[39m\u001b[39m.\u001b[39m_backward_hooks \u001b[39mor\u001b[39;00m \u001b[39mself\u001b[39m\u001b[39m.\u001b[39m_forward_hooks \u001b[39mor\u001b[39;00m \u001b[39mself\u001b[39m\u001b[39m.\u001b[39m_forward_pre_hooks \u001b[39mor\u001b[39;00m _global_backward_hooks\n\u001b[1;32m   <a href='file:///home/michelangelo/miniconda3/envs/spinlatrl/lib/python3.9/site-packages/torch/nn/modules/module.py?line=1100'>1101</a>\u001b[0m         \u001b[39mor\u001b[39;00m _global_forward_hooks \u001b[39mor\u001b[39;00m _global_forward_pre_hooks):\n\u001b[0;32m-> <a href='file:///home/michelangelo/miniconda3/envs/spinlatrl/lib/python3.9/site-packages/torch/nn/modules/module.py?line=1101'>1102</a>\u001b[0m     \u001b[39mreturn\u001b[39;00m forward_call(\u001b[39m*\u001b[39;49m\u001b[39minput\u001b[39;49m, \u001b[39m*\u001b[39;49m\u001b[39m*\u001b[39;49mkwargs)\n\u001b[1;32m   <a href='file:///home/michelangelo/miniconda3/envs/spinlatrl/lib/python3.9/site-packages/torch/nn/modules/module.py?line=1102'>1103</a>\u001b[0m \u001b[39m# Do not call functions when jit is used\u001b[39;00m\n\u001b[1;32m   <a href='file:///home/michelangelo/miniconda3/envs/spinlatrl/lib/python3.9/site-packages/torch/nn/modules/module.py?line=1103'>1104</a>\u001b[0m full_backward_hooks, non_full_backward_hooks \u001b[39m=\u001b[39m [], []\n",
      "File \u001b[0;32m~/miniconda3/envs/spinlatrl/lib/python3.9/site-packages/torch/nn/modules/linear.py:103\u001b[0m, in \u001b[0;36mLinear.forward\u001b[0;34m(self, input)\u001b[0m\n\u001b[1;32m    <a href='file:///home/michelangelo/miniconda3/envs/spinlatrl/lib/python3.9/site-packages/torch/nn/modules/linear.py?line=101'>102</a>\u001b[0m \u001b[39mdef\u001b[39;00m \u001b[39mforward\u001b[39m(\u001b[39mself\u001b[39m, \u001b[39minput\u001b[39m: Tensor) \u001b[39m-\u001b[39m\u001b[39m>\u001b[39m Tensor:\n\u001b[0;32m--> <a href='file:///home/michelangelo/miniconda3/envs/spinlatrl/lib/python3.9/site-packages/torch/nn/modules/linear.py?line=102'>103</a>\u001b[0m     \u001b[39mreturn\u001b[39;00m F\u001b[39m.\u001b[39;49mlinear(\u001b[39minput\u001b[39;49m, \u001b[39mself\u001b[39;49m\u001b[39m.\u001b[39;49mweight, \u001b[39mself\u001b[39;49m\u001b[39m.\u001b[39;49mbias)\n",
      "File \u001b[0;32m~/miniconda3/envs/spinlatrl/lib/python3.9/site-packages/torch/nn/functional.py:1848\u001b[0m, in \u001b[0;36mlinear\u001b[0;34m(input, weight, bias)\u001b[0m\n\u001b[1;32m   <a href='file:///home/michelangelo/miniconda3/envs/spinlatrl/lib/python3.9/site-packages/torch/nn/functional.py?line=1845'>1846</a>\u001b[0m \u001b[39mif\u001b[39;00m has_torch_function_variadic(\u001b[39minput\u001b[39m, weight, bias):\n\u001b[1;32m   <a href='file:///home/michelangelo/miniconda3/envs/spinlatrl/lib/python3.9/site-packages/torch/nn/functional.py?line=1846'>1847</a>\u001b[0m     \u001b[39mreturn\u001b[39;00m handle_torch_function(linear, (\u001b[39minput\u001b[39m, weight, bias), \u001b[39minput\u001b[39m, weight, bias\u001b[39m=\u001b[39mbias)\n\u001b[0;32m-> <a href='file:///home/michelangelo/miniconda3/envs/spinlatrl/lib/python3.9/site-packages/torch/nn/functional.py?line=1847'>1848</a>\u001b[0m \u001b[39mreturn\u001b[39;00m torch\u001b[39m.\u001b[39;49m_C\u001b[39m.\u001b[39;49m_nn\u001b[39m.\u001b[39;49mlinear(\u001b[39minput\u001b[39;49m, weight, bias)\n",
      "\u001b[0;31mRuntimeError\u001b[0m: mat1 and mat2 shapes cannot be multiplied (1x192 and 128x128)"
     ]
    }
   ],
   "source": [
    "date = datetime.now().strftime(\"%Y-%m-%d_%H-%M-%S\")\n",
    "folder_path = f\"../results/ising1D/{date}_{side_length}\"\n",
    "# model = PPO(\"MlpPolicy\", env, tensorboard_log=folder_path)\n",
    "model = PPO(\"CnnPolicy\", env, policy_kwargs=policy_kwargs, tensorboard_log=folder_path, verbose=True)\n",
    "model.learn(total_timesteps=100_000)\n",
    "model.save(f\"{folder_path}/model\")"
   ]
  },
  {
   "cell_type": "code",
   "execution_count": 58,
   "metadata": {},
   "outputs": [
    {
     "name": "stdout",
     "output_type": "stream",
     "text": [
      "reward=0.5\n",
      "[1 1 1 1 1 1 1 1]\n"
     ]
    },
    {
     "data": {
      "text/plain": [
       "[<matplotlib.lines.Line2D at 0x7f34753c6d90>]"
      ]
     },
     "execution_count": 58,
     "metadata": {},
     "output_type": "execute_result"
    },
    {
     "data": {
      "image/png": "[encoded data removed]",
      "text/plain": [
       "<Figure size 432x288 with 1 Axes>"
      ]
     },
     "metadata": {
      "needs_background": "light"
     },
     "output_type": "display_data"
    }
   ],
   "source": [
    "energies = []\n",
    "obs = env.reset()\n",
    "for i in range(200):\n",
    "    action, _state = model.predict(obs, deterministic=True)\n",
    "    obs, reward, done, info = env.step(action)\n",
    "    energies.append(info[\"energy\"])\n",
    "    if done:\n",
    "      print(f\"{reward=}\")\n",
    "      env.render()\n",
    "      break\n",
    "      # env.reset()\n",
    "    # if i % 100 == 0:\n",
    "    #   print(f\"{i=}, {reward=}\")\n",
    "    #   env.render()\n",
    "\n",
    "import matplotlib.pyplot as plt\n",
    "plt.plot(range(len(energies)),energies)"
   ]
  },
  {
   "cell_type": "code",
   "execution_count": 60,
   "metadata": {},
   "outputs": [
    {
     "name": "stdout",
     "output_type": "stream",
     "text": [
      "[ 1  1 -1  1 -1  1  1  1]\n",
      "i=0, action=4 reward=-0.0, env.compute_energy()=-0.5\n",
      "[ 1  1 -1  1  1  1  1  1]\n",
      "i=1, action=2 reward=0.5, env.compute_energy()=-1.0\n",
      "[1 1 1 1 1 1 1 1]\n",
      "i=2, action=3 reward=-0.5, env.compute_energy()=-0.5\n",
      "[ 1  1  1 -1  1  1  1  1]\n",
      "i=3, action=3 reward=0.5, env.compute_energy()=-1.0\n",
      "[1 1 1 1 1 1 1 1]\n",
      "i=4, action=3 reward=-0.5, env.compute_energy()=-0.5\n",
      "[ 1  1  1 -1  1  1  1  1]\n",
      "i=5, action=3 reward=0.5, env.compute_energy()=-1.0\n",
      "[1 1 1 1 1 1 1 1]\n",
      "i=6, action=3 reward=-0.5, env.compute_energy()=-0.5\n",
      "[ 1  1  1 -1  1  1  1  1]\n",
      "i=7, action=3 reward=0.5, env.compute_energy()=-1.0\n",
      "[1 1 1 1 1 1 1 1]\n",
      "i=8, action=3 reward=-0.5, env.compute_energy()=-0.5\n",
      "[ 1  1  1 -1  1  1  1  1]\n",
      "i=9, action=3 reward=0.5, env.compute_energy()=-1.0\n",
      "[1 1 1 1 1 1 1 1]\n"
     ]
    }
   ],
   "source": [
    "obs = env.reset()\n",
    "env.render()\n",
    "for i in range(10):\n",
    "    action, _state = model.predict(obs, deterministic=True)\n",
    "    obs, reward, done, info = env.step(action)\n",
    "    print(f\"{i=}, {action=} {reward=}, {env.compute_energy()=}\")\n",
    "    env.render()"
   ]
  }
 ],
 "metadata": {
  "interpreter": {
   "hash": "f966a718a559d3b7d69daf8b0fd8acabc25ec12405d3d34fbd7cdd12cf867495"
  },
  "kernelspec": {
   "display_name": "Python 3.9.10 ('spinlatrl')",
   "language": "python",
   "name": "python3"
  },
  "language_info": {
   "codemirror_mode": {
    "name": "ipython",
    "version": 3
   },
   "file_extension": ".py",
   "mimetype": "text/x-python",
   "name": "python",
   "nbconvert_exporter": "python",
   "pygments_lexer": "ipython3",
   "version": "3.9.10"
  },
  "orig_nbformat": 4
 },
 "nbformat": 4,
 "nbformat_minor": 2
}
