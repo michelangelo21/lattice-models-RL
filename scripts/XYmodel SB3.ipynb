{
 "cells": [
  {
   "cell_type": "code",
   "execution_count": 1,
   "metadata": {},
   "outputs": [],
   "source": [
    "import gym\n",
    "from stable_baselines3 import PPO, DQN\n",
    "from datetime import datetime\n",
    "from gym.wrappers import TimeLimit\n"
   ]
  },
  {
   "cell_type": "code",
   "execution_count": 2,
   "metadata": {},
   "outputs": [],
   "source": [
    "side_length = 3\n",
    "env = gym.make(\"gym_xymodel:xymodel-v0\", side_len=side_length)\n",
    "env = TimeLimit(env, max_episode_steps=100)\n",
    "# env = gym.make('CartPole-v1')"
   ]
  },
  {
   "cell_type": "code",
   "execution_count": 4,
   "metadata": {},
   "outputs": [
    {
     "ename": "AssertionError",
     "evalue": "The algorithm only supports (<class 'gym.spaces.box.Box'>, <class 'gym.spaces.discrete.Discrete'>, <class 'gym.spaces.multi_discrete.MultiDiscrete'>, <class 'gym.spaces.multi_binary.MultiBinary'>) as action spaces but Tuple(Discrete(9), Box([-1. -1. -1. -1. -1. -1. -1. -1. -1.], [1. 1. 1. 1. 1. 1. 1. 1. 1.], (9,), float32)) was provided",
     "output_type": "error",
     "traceback": [
      "\u001b[0;31m---------------------------------------------------------------------------\u001b[0m",
      "\u001b[0;31mAssertionError\u001b[0m                            Traceback (most recent call last)",
      "\u001b[1;32m/home/michelangelo/Documents/spin-lattice-RL/scripts/XYmodel SB3.ipynb Cell 3'\u001b[0m in \u001b[0;36m<module>\u001b[0;34m\u001b[0m\n\u001b[1;32m      <a href='vscode-notebook-cell://wsl%2Bubuntu/home/michelangelo/Documents/spin-lattice-RL/scripts/XYmodel%20SB3.ipynb#ch0000002vscode-remote?line=0'>1</a>\u001b[0m date \u001b[39m=\u001b[39m datetime\u001b[39m.\u001b[39mnow()\u001b[39m.\u001b[39mstrftime(\u001b[39m\"\u001b[39m\u001b[39m%\u001b[39m\u001b[39mY-\u001b[39m\u001b[39m%\u001b[39m\u001b[39mm-\u001b[39m\u001b[39m%d\u001b[39;00m\u001b[39m_\u001b[39m\u001b[39m%\u001b[39m\u001b[39mH-\u001b[39m\u001b[39m%\u001b[39m\u001b[39mM-\u001b[39m\u001b[39m%\u001b[39m\u001b[39mS\u001b[39m\u001b[39m\"\u001b[39m)\n\u001b[1;32m      <a href='vscode-notebook-cell://wsl%2Bubuntu/home/michelangelo/Documents/spin-lattice-RL/scripts/XYmodel%20SB3.ipynb#ch0000002vscode-remote?line=1'>2</a>\u001b[0m folder_path \u001b[39m=\u001b[39m \u001b[39mf\u001b[39m\u001b[39m\"\u001b[39m\u001b[39m../results/XY/\u001b[39m\u001b[39m{\u001b[39;00mdate\u001b[39m}\u001b[39;00m\u001b[39m_\u001b[39m\u001b[39m{\u001b[39;00mside_length\u001b[39m}\u001b[39;00m\u001b[39mx\u001b[39m\u001b[39m{\u001b[39;00mside_length\u001b[39m}\u001b[39;00m\u001b[39m\"\u001b[39m\n\u001b[0;32m----> <a href='vscode-notebook-cell://wsl%2Bubuntu/home/michelangelo/Documents/spin-lattice-RL/scripts/XYmodel%20SB3.ipynb#ch0000002vscode-remote?line=2'>3</a>\u001b[0m model \u001b[39m=\u001b[39m PPO(\u001b[39m\"\u001b[39;49m\u001b[39mMlpPolicy\u001b[39;49m\u001b[39m\"\u001b[39;49m, env, tensorboard_log\u001b[39m=\u001b[39;49mfolder_path)\n\u001b[1;32m      <a href='vscode-notebook-cell://wsl%2Bubuntu/home/michelangelo/Documents/spin-lattice-RL/scripts/XYmodel%20SB3.ipynb#ch0000002vscode-remote?line=3'>4</a>\u001b[0m model\u001b[39m.\u001b[39mlearn(total_timesteps\u001b[39m=\u001b[39m\u001b[39m1_000_000\u001b[39m)\n\u001b[1;32m      <a href='vscode-notebook-cell://wsl%2Bubuntu/home/michelangelo/Documents/spin-lattice-RL/scripts/XYmodel%20SB3.ipynb#ch0000002vscode-remote?line=4'>5</a>\u001b[0m model\u001b[39m.\u001b[39msave(\u001b[39mf\u001b[39m\u001b[39m\"\u001b[39m\u001b[39m{\u001b[39;00mfolder_path\u001b[39m}\u001b[39;00m\u001b[39m/model\u001b[39m\u001b[39m\"\u001b[39m)\n",
      "File \u001b[0;32m~/miniconda3/envs/spinlatrl/lib/python3.9/site-packages/stable_baselines3/ppo/ppo.py:94\u001b[0m, in \u001b[0;36mPPO.__init__\u001b[0;34m(self, policy, env, learning_rate, n_steps, batch_size, n_epochs, gamma, gae_lambda, clip_range, clip_range_vf, ent_coef, vf_coef, max_grad_norm, use_sde, sde_sample_freq, target_kl, tensorboard_log, create_eval_env, policy_kwargs, verbose, seed, device, _init_setup_model)\u001b[0m\n\u001b[1;32m     <a href='file:///home/michelangelo/miniconda3/envs/spinlatrl/lib/python3.9/site-packages/stable_baselines3/ppo/ppo.py?line=66'>67</a>\u001b[0m \u001b[39mdef\u001b[39;00m \u001b[39m__init__\u001b[39m(\n\u001b[1;32m     <a href='file:///home/michelangelo/miniconda3/envs/spinlatrl/lib/python3.9/site-packages/stable_baselines3/ppo/ppo.py?line=67'>68</a>\u001b[0m     \u001b[39mself\u001b[39m,\n\u001b[1;32m     <a href='file:///home/michelangelo/miniconda3/envs/spinlatrl/lib/python3.9/site-packages/stable_baselines3/ppo/ppo.py?line=68'>69</a>\u001b[0m     policy: Union[\u001b[39mstr\u001b[39m, Type[ActorCriticPolicy]],\n\u001b[0;32m   (...)\u001b[0m\n\u001b[1;32m     <a href='file:///home/michelangelo/miniconda3/envs/spinlatrl/lib/python3.9/site-packages/stable_baselines3/ppo/ppo.py?line=90'>91</a>\u001b[0m     _init_setup_model: \u001b[39mbool\u001b[39m \u001b[39m=\u001b[39m \u001b[39mTrue\u001b[39;00m,\n\u001b[1;32m     <a href='file:///home/michelangelo/miniconda3/envs/spinlatrl/lib/python3.9/site-packages/stable_baselines3/ppo/ppo.py?line=91'>92</a>\u001b[0m ):\n\u001b[0;32m---> <a href='file:///home/michelangelo/miniconda3/envs/spinlatrl/lib/python3.9/site-packages/stable_baselines3/ppo/ppo.py?line=93'>94</a>\u001b[0m     \u001b[39msuper\u001b[39;49m(PPO, \u001b[39mself\u001b[39;49m)\u001b[39m.\u001b[39;49m\u001b[39m__init__\u001b[39;49m(\n\u001b[1;32m     <a href='file:///home/michelangelo/miniconda3/envs/spinlatrl/lib/python3.9/site-packages/stable_baselines3/ppo/ppo.py?line=94'>95</a>\u001b[0m         policy,\n\u001b[1;32m     <a href='file:///home/michelangelo/miniconda3/envs/spinlatrl/lib/python3.9/site-packages/stable_baselines3/ppo/ppo.py?line=95'>96</a>\u001b[0m         env,\n\u001b[1;32m     <a href='file:///home/michelangelo/miniconda3/envs/spinlatrl/lib/python3.9/site-packages/stable_baselines3/ppo/ppo.py?line=96'>97</a>\u001b[0m         learning_rate\u001b[39m=\u001b[39;49mlearning_rate,\n\u001b[1;32m     <a href='file:///home/michelangelo/miniconda3/envs/spinlatrl/lib/python3.9/site-packages/stable_baselines3/ppo/ppo.py?line=97'>98</a>\u001b[0m         n_steps\u001b[39m=\u001b[39;49mn_steps,\n\u001b[1;32m     <a href='file:///home/michelangelo/miniconda3/envs/spinlatrl/lib/python3.9/site-packages/stable_baselines3/ppo/ppo.py?line=98'>99</a>\u001b[0m         gamma\u001b[39m=\u001b[39;49mgamma,\n\u001b[1;32m    <a href='file:///home/michelangelo/miniconda3/envs/spinlatrl/lib/python3.9/site-packages/stable_baselines3/ppo/ppo.py?line=99'>100</a>\u001b[0m         gae_lambda\u001b[39m=\u001b[39;49mgae_lambda,\n\u001b[1;32m    <a href='file:///home/michelangelo/miniconda3/envs/spinlatrl/lib/python3.9/site-packages/stable_baselines3/ppo/ppo.py?line=100'>101</a>\u001b[0m         ent_coef\u001b[39m=\u001b[39;49ment_coef,\n\u001b[1;32m    <a href='file:///home/michelangelo/miniconda3/envs/spinlatrl/lib/python3.9/site-packages/stable_baselines3/ppo/ppo.py?line=101'>102</a>\u001b[0m         vf_coef\u001b[39m=\u001b[39;49mvf_coef,\n\u001b[1;32m    <a href='file:///home/michelangelo/miniconda3/envs/spinlatrl/lib/python3.9/site-packages/stable_baselines3/ppo/ppo.py?line=102'>103</a>\u001b[0m         max_grad_norm\u001b[39m=\u001b[39;49mmax_grad_norm,\n\u001b[1;32m    <a href='file:///home/michelangelo/miniconda3/envs/spinlatrl/lib/python3.9/site-packages/stable_baselines3/ppo/ppo.py?line=103'>104</a>\u001b[0m         use_sde\u001b[39m=\u001b[39;49muse_sde,\n\u001b[1;32m    <a href='file:///home/michelangelo/miniconda3/envs/spinlatrl/lib/python3.9/site-packages/stable_baselines3/ppo/ppo.py?line=104'>105</a>\u001b[0m         sde_sample_freq\u001b[39m=\u001b[39;49msde_sample_freq,\n\u001b[1;32m    <a href='file:///home/michelangelo/miniconda3/envs/spinlatrl/lib/python3.9/site-packages/stable_baselines3/ppo/ppo.py?line=105'>106</a>\u001b[0m         tensorboard_log\u001b[39m=\u001b[39;49mtensorboard_log,\n\u001b[1;32m    <a href='file:///home/michelangelo/miniconda3/envs/spinlatrl/lib/python3.9/site-packages/stable_baselines3/ppo/ppo.py?line=106'>107</a>\u001b[0m         policy_kwargs\u001b[39m=\u001b[39;49mpolicy_kwargs,\n\u001b[1;32m    <a href='file:///home/michelangelo/miniconda3/envs/spinlatrl/lib/python3.9/site-packages/stable_baselines3/ppo/ppo.py?line=107'>108</a>\u001b[0m         verbose\u001b[39m=\u001b[39;49mverbose,\n\u001b[1;32m    <a href='file:///home/michelangelo/miniconda3/envs/spinlatrl/lib/python3.9/site-packages/stable_baselines3/ppo/ppo.py?line=108'>109</a>\u001b[0m         device\u001b[39m=\u001b[39;49mdevice,\n\u001b[1;32m    <a href='file:///home/michelangelo/miniconda3/envs/spinlatrl/lib/python3.9/site-packages/stable_baselines3/ppo/ppo.py?line=109'>110</a>\u001b[0m         create_eval_env\u001b[39m=\u001b[39;49mcreate_eval_env,\n\u001b[1;32m    <a href='file:///home/michelangelo/miniconda3/envs/spinlatrl/lib/python3.9/site-packages/stable_baselines3/ppo/ppo.py?line=110'>111</a>\u001b[0m         seed\u001b[39m=\u001b[39;49mseed,\n\u001b[1;32m    <a href='file:///home/michelangelo/miniconda3/envs/spinlatrl/lib/python3.9/site-packages/stable_baselines3/ppo/ppo.py?line=111'>112</a>\u001b[0m         _init_setup_model\u001b[39m=\u001b[39;49m\u001b[39mFalse\u001b[39;49;00m,\n\u001b[1;32m    <a href='file:///home/michelangelo/miniconda3/envs/spinlatrl/lib/python3.9/site-packages/stable_baselines3/ppo/ppo.py?line=112'>113</a>\u001b[0m         supported_action_spaces\u001b[39m=\u001b[39;49m(\n\u001b[1;32m    <a href='file:///home/michelangelo/miniconda3/envs/spinlatrl/lib/python3.9/site-packages/stable_baselines3/ppo/ppo.py?line=113'>114</a>\u001b[0m             spaces\u001b[39m.\u001b[39;49mBox,\n\u001b[1;32m    <a href='file:///home/michelangelo/miniconda3/envs/spinlatrl/lib/python3.9/site-packages/stable_baselines3/ppo/ppo.py?line=114'>115</a>\u001b[0m             spaces\u001b[39m.\u001b[39;49mDiscrete,\n\u001b[1;32m    <a href='file:///home/michelangelo/miniconda3/envs/spinlatrl/lib/python3.9/site-packages/stable_baselines3/ppo/ppo.py?line=115'>116</a>\u001b[0m             spaces\u001b[39m.\u001b[39;49mMultiDiscrete,\n\u001b[1;32m    <a href='file:///home/michelangelo/miniconda3/envs/spinlatrl/lib/python3.9/site-packages/stable_baselines3/ppo/ppo.py?line=116'>117</a>\u001b[0m             spaces\u001b[39m.\u001b[39;49mMultiBinary,\n\u001b[1;32m    <a href='file:///home/michelangelo/miniconda3/envs/spinlatrl/lib/python3.9/site-packages/stable_baselines3/ppo/ppo.py?line=117'>118</a>\u001b[0m         ),\n\u001b[1;32m    <a href='file:///home/michelangelo/miniconda3/envs/spinlatrl/lib/python3.9/site-packages/stable_baselines3/ppo/ppo.py?line=118'>119</a>\u001b[0m     )\n\u001b[1;32m    <a href='file:///home/michelangelo/miniconda3/envs/spinlatrl/lib/python3.9/site-packages/stable_baselines3/ppo/ppo.py?line=120'>121</a>\u001b[0m     \u001b[39m# Sanity check, otherwise it will lead to noisy gradient and NaN\u001b[39;00m\n\u001b[1;32m    <a href='file:///home/michelangelo/miniconda3/envs/spinlatrl/lib/python3.9/site-packages/stable_baselines3/ppo/ppo.py?line=121'>122</a>\u001b[0m     \u001b[39m# because of the advantage normalization\u001b[39;00m\n\u001b[1;32m    <a href='file:///home/michelangelo/miniconda3/envs/spinlatrl/lib/python3.9/site-packages/stable_baselines3/ppo/ppo.py?line=122'>123</a>\u001b[0m     \u001b[39massert\u001b[39;00m (\n\u001b[1;32m    <a href='file:///home/michelangelo/miniconda3/envs/spinlatrl/lib/python3.9/site-packages/stable_baselines3/ppo/ppo.py?line=123'>124</a>\u001b[0m         batch_size \u001b[39m>\u001b[39m \u001b[39m1\u001b[39m\n\u001b[1;32m    <a href='file:///home/michelangelo/miniconda3/envs/spinlatrl/lib/python3.9/site-packages/stable_baselines3/ppo/ppo.py?line=124'>125</a>\u001b[0m     ), \u001b[39m\"\u001b[39m\u001b[39m`batch_size` must be greater than 1. See https://github.com/DLR-RM/stable-baselines3/issues/440\u001b[39m\u001b[39m\"\u001b[39m\n",
      "File \u001b[0;32m~/miniconda3/envs/spinlatrl/lib/python3.9/site-packages/stable_baselines3/common/on_policy_algorithm.py:77\u001b[0m, in \u001b[0;36mOnPolicyAlgorithm.__init__\u001b[0;34m(self, policy, env, learning_rate, n_steps, gamma, gae_lambda, ent_coef, vf_coef, max_grad_norm, use_sde, sde_sample_freq, policy_base, tensorboard_log, create_eval_env, monitor_wrapper, policy_kwargs, verbose, seed, device, _init_setup_model, supported_action_spaces)\u001b[0m\n\u001b[1;32m     <a href='file:///home/michelangelo/miniconda3/envs/spinlatrl/lib/python3.9/site-packages/stable_baselines3/common/on_policy_algorithm.py?line=51'>52</a>\u001b[0m \u001b[39mdef\u001b[39;00m \u001b[39m__init__\u001b[39m(\n\u001b[1;32m     <a href='file:///home/michelangelo/miniconda3/envs/spinlatrl/lib/python3.9/site-packages/stable_baselines3/common/on_policy_algorithm.py?line=52'>53</a>\u001b[0m     \u001b[39mself\u001b[39m,\n\u001b[1;32m     <a href='file:///home/michelangelo/miniconda3/envs/spinlatrl/lib/python3.9/site-packages/stable_baselines3/common/on_policy_algorithm.py?line=53'>54</a>\u001b[0m     policy: Union[\u001b[39mstr\u001b[39m, Type[ActorCriticPolicy]],\n\u001b[0;32m   (...)\u001b[0m\n\u001b[1;32m     <a href='file:///home/michelangelo/miniconda3/envs/spinlatrl/lib/python3.9/site-packages/stable_baselines3/common/on_policy_algorithm.py?line=73'>74</a>\u001b[0m     supported_action_spaces: Optional[Tuple[gym\u001b[39m.\u001b[39mspaces\u001b[39m.\u001b[39mSpace, \u001b[39m.\u001b[39m\u001b[39m.\u001b[39m\u001b[39m.\u001b[39m]] \u001b[39m=\u001b[39m \u001b[39mNone\u001b[39;00m,\n\u001b[1;32m     <a href='file:///home/michelangelo/miniconda3/envs/spinlatrl/lib/python3.9/site-packages/stable_baselines3/common/on_policy_algorithm.py?line=74'>75</a>\u001b[0m ):\n\u001b[0;32m---> <a href='file:///home/michelangelo/miniconda3/envs/spinlatrl/lib/python3.9/site-packages/stable_baselines3/common/on_policy_algorithm.py?line=76'>77</a>\u001b[0m     \u001b[39msuper\u001b[39;49m(OnPolicyAlgorithm, \u001b[39mself\u001b[39;49m)\u001b[39m.\u001b[39;49m\u001b[39m__init__\u001b[39;49m(\n\u001b[1;32m     <a href='file:///home/michelangelo/miniconda3/envs/spinlatrl/lib/python3.9/site-packages/stable_baselines3/common/on_policy_algorithm.py?line=77'>78</a>\u001b[0m         policy\u001b[39m=\u001b[39;49mpolicy,\n\u001b[1;32m     <a href='file:///home/michelangelo/miniconda3/envs/spinlatrl/lib/python3.9/site-packages/stable_baselines3/common/on_policy_algorithm.py?line=78'>79</a>\u001b[0m         env\u001b[39m=\u001b[39;49menv,\n\u001b[1;32m     <a href='file:///home/michelangelo/miniconda3/envs/spinlatrl/lib/python3.9/site-packages/stable_baselines3/common/on_policy_algorithm.py?line=79'>80</a>\u001b[0m         policy_base\u001b[39m=\u001b[39;49mpolicy_base,\n\u001b[1;32m     <a href='file:///home/michelangelo/miniconda3/envs/spinlatrl/lib/python3.9/site-packages/stable_baselines3/common/on_policy_algorithm.py?line=80'>81</a>\u001b[0m         learning_rate\u001b[39m=\u001b[39;49mlearning_rate,\n\u001b[1;32m     <a href='file:///home/michelangelo/miniconda3/envs/spinlatrl/lib/python3.9/site-packages/stable_baselines3/common/on_policy_algorithm.py?line=81'>82</a>\u001b[0m         policy_kwargs\u001b[39m=\u001b[39;49mpolicy_kwargs,\n\u001b[1;32m     <a href='file:///home/michelangelo/miniconda3/envs/spinlatrl/lib/python3.9/site-packages/stable_baselines3/common/on_policy_algorithm.py?line=82'>83</a>\u001b[0m         verbose\u001b[39m=\u001b[39;49mverbose,\n\u001b[1;32m     <a href='file:///home/michelangelo/miniconda3/envs/spinlatrl/lib/python3.9/site-packages/stable_baselines3/common/on_policy_algorithm.py?line=83'>84</a>\u001b[0m         device\u001b[39m=\u001b[39;49mdevice,\n\u001b[1;32m     <a href='file:///home/michelangelo/miniconda3/envs/spinlatrl/lib/python3.9/site-packages/stable_baselines3/common/on_policy_algorithm.py?line=84'>85</a>\u001b[0m         use_sde\u001b[39m=\u001b[39;49muse_sde,\n\u001b[1;32m     <a href='file:///home/michelangelo/miniconda3/envs/spinlatrl/lib/python3.9/site-packages/stable_baselines3/common/on_policy_algorithm.py?line=85'>86</a>\u001b[0m         sde_sample_freq\u001b[39m=\u001b[39;49msde_sample_freq,\n\u001b[1;32m     <a href='file:///home/michelangelo/miniconda3/envs/spinlatrl/lib/python3.9/site-packages/stable_baselines3/common/on_policy_algorithm.py?line=86'>87</a>\u001b[0m         create_eval_env\u001b[39m=\u001b[39;49mcreate_eval_env,\n\u001b[1;32m     <a href='file:///home/michelangelo/miniconda3/envs/spinlatrl/lib/python3.9/site-packages/stable_baselines3/common/on_policy_algorithm.py?line=87'>88</a>\u001b[0m         support_multi_env\u001b[39m=\u001b[39;49m\u001b[39mTrue\u001b[39;49;00m,\n\u001b[1;32m     <a href='file:///home/michelangelo/miniconda3/envs/spinlatrl/lib/python3.9/site-packages/stable_baselines3/common/on_policy_algorithm.py?line=88'>89</a>\u001b[0m         seed\u001b[39m=\u001b[39;49mseed,\n\u001b[1;32m     <a href='file:///home/michelangelo/miniconda3/envs/spinlatrl/lib/python3.9/site-packages/stable_baselines3/common/on_policy_algorithm.py?line=89'>90</a>\u001b[0m         tensorboard_log\u001b[39m=\u001b[39;49mtensorboard_log,\n\u001b[1;32m     <a href='file:///home/michelangelo/miniconda3/envs/spinlatrl/lib/python3.9/site-packages/stable_baselines3/common/on_policy_algorithm.py?line=90'>91</a>\u001b[0m         supported_action_spaces\u001b[39m=\u001b[39;49msupported_action_spaces,\n\u001b[1;32m     <a href='file:///home/michelangelo/miniconda3/envs/spinlatrl/lib/python3.9/site-packages/stable_baselines3/common/on_policy_algorithm.py?line=91'>92</a>\u001b[0m     )\n\u001b[1;32m     <a href='file:///home/michelangelo/miniconda3/envs/spinlatrl/lib/python3.9/site-packages/stable_baselines3/common/on_policy_algorithm.py?line=93'>94</a>\u001b[0m     \u001b[39mself\u001b[39m\u001b[39m.\u001b[39mn_steps \u001b[39m=\u001b[39m n_steps\n\u001b[1;32m     <a href='file:///home/michelangelo/miniconda3/envs/spinlatrl/lib/python3.9/site-packages/stable_baselines3/common/on_policy_algorithm.py?line=94'>95</a>\u001b[0m     \u001b[39mself\u001b[39m\u001b[39m.\u001b[39mgamma \u001b[39m=\u001b[39m gamma\n",
      "File \u001b[0;32m~/miniconda3/envs/spinlatrl/lib/python3.9/site-packages/stable_baselines3/common/base_class.py:171\u001b[0m, in \u001b[0;36mBaseAlgorithm.__init__\u001b[0;34m(self, policy, env, policy_base, learning_rate, policy_kwargs, tensorboard_log, verbose, device, support_multi_env, create_eval_env, monitor_wrapper, seed, use_sde, sde_sample_freq, supported_action_spaces)\u001b[0m\n\u001b[1;32m    <a href='file:///home/michelangelo/miniconda3/envs/spinlatrl/lib/python3.9/site-packages/stable_baselines3/common/base_class.py?line=167'>168</a>\u001b[0m \u001b[39mself\u001b[39m\u001b[39m.\u001b[39menv \u001b[39m=\u001b[39m env\n\u001b[1;32m    <a href='file:///home/michelangelo/miniconda3/envs/spinlatrl/lib/python3.9/site-packages/stable_baselines3/common/base_class.py?line=169'>170</a>\u001b[0m \u001b[39mif\u001b[39;00m supported_action_spaces \u001b[39mis\u001b[39;00m \u001b[39mnot\u001b[39;00m \u001b[39mNone\u001b[39;00m:\n\u001b[0;32m--> <a href='file:///home/michelangelo/miniconda3/envs/spinlatrl/lib/python3.9/site-packages/stable_baselines3/common/base_class.py?line=170'>171</a>\u001b[0m     \u001b[39massert\u001b[39;00m \u001b[39misinstance\u001b[39m(\u001b[39mself\u001b[39m\u001b[39m.\u001b[39maction_space, supported_action_spaces), (\n\u001b[1;32m    <a href='file:///home/michelangelo/miniconda3/envs/spinlatrl/lib/python3.9/site-packages/stable_baselines3/common/base_class.py?line=171'>172</a>\u001b[0m         \u001b[39mf\u001b[39m\u001b[39m\"\u001b[39m\u001b[39mThe algorithm only supports \u001b[39m\u001b[39m{\u001b[39;00msupported_action_spaces\u001b[39m}\u001b[39;00m\u001b[39m as action spaces \u001b[39m\u001b[39m\"\u001b[39m\n\u001b[1;32m    <a href='file:///home/michelangelo/miniconda3/envs/spinlatrl/lib/python3.9/site-packages/stable_baselines3/common/base_class.py?line=172'>173</a>\u001b[0m         \u001b[39mf\u001b[39m\u001b[39m\"\u001b[39m\u001b[39mbut \u001b[39m\u001b[39m{\u001b[39;00m\u001b[39mself\u001b[39m\u001b[39m.\u001b[39maction_space\u001b[39m}\u001b[39;00m\u001b[39m was provided\u001b[39m\u001b[39m\"\u001b[39m\n\u001b[1;32m    <a href='file:///home/michelangelo/miniconda3/envs/spinlatrl/lib/python3.9/site-packages/stable_baselines3/common/base_class.py?line=173'>174</a>\u001b[0m     )\n\u001b[1;32m    <a href='file:///home/michelangelo/miniconda3/envs/spinlatrl/lib/python3.9/site-packages/stable_baselines3/common/base_class.py?line=175'>176</a>\u001b[0m \u001b[39mif\u001b[39;00m \u001b[39mnot\u001b[39;00m support_multi_env \u001b[39mand\u001b[39;00m \u001b[39mself\u001b[39m\u001b[39m.\u001b[39mn_envs \u001b[39m>\u001b[39m \u001b[39m1\u001b[39m:\n\u001b[1;32m    <a href='file:///home/michelangelo/miniconda3/envs/spinlatrl/lib/python3.9/site-packages/stable_baselines3/common/base_class.py?line=176'>177</a>\u001b[0m     \u001b[39mraise\u001b[39;00m \u001b[39mValueError\u001b[39;00m(\n\u001b[1;32m    <a href='file:///home/michelangelo/miniconda3/envs/spinlatrl/lib/python3.9/site-packages/stable_baselines3/common/base_class.py?line=177'>178</a>\u001b[0m         \u001b[39m\"\u001b[39m\u001b[39mError: the model does not support multiple envs; it requires \u001b[39m\u001b[39m\"\u001b[39m \u001b[39m\"\u001b[39m\u001b[39ma single vectorized environment.\u001b[39m\u001b[39m\"\u001b[39m\n\u001b[1;32m    <a href='file:///home/michelangelo/miniconda3/envs/spinlatrl/lib/python3.9/site-packages/stable_baselines3/common/base_class.py?line=178'>179</a>\u001b[0m     )\n",
      "\u001b[0;31mAssertionError\u001b[0m: The algorithm only supports (<class 'gym.spaces.box.Box'>, <class 'gym.spaces.discrete.Discrete'>, <class 'gym.spaces.multi_discrete.MultiDiscrete'>, <class 'gym.spaces.multi_binary.MultiBinary'>) as action spaces but Tuple(Discrete(9), Box([-1. -1. -1. -1. -1. -1. -1. -1. -1.], [1. 1. 1. 1. 1. 1. 1. 1. 1.], (9,), float32)) was provided"
     ]
    }
   ],
   "source": [
    "date = datetime.now().strftime(\"%Y-%m-%d_%H-%M-%S\")\n",
    "folder_path = f\"../results/XY/{date}_{side_length}x{side_length}\"\n",
    "model = PPO(\"MlpPolicy\", env, tensorboard_log=folder_path)\n",
    "model.learn(total_timesteps=1_000_000)\n",
    "model.save(f\"{folder_path}/model\")"
   ]
  },
  {
   "cell_type": "code",
   "execution_count": 3,
   "metadata": {},
   "outputs": [
    {
     "name": "stderr",
     "output_type": "stream",
     "text": [
      "/home/michelangelo/miniconda3/envs/spinlatrl/lib/python3.9/site-packages/stable_baselines3/common/env_checker.py:81: UserWarning: The action space is not based off a numpy array. Typically this means it's either a Dict or Tuple space. This type of action space is currently not supported by Stable Baselines 3. You should try to flatten the action using a wrapper.\n",
      "  warnings.warn(\n"
     ]
    }
   ],
   "source": [
    "from stable_baselines3.common.env_checker import check_env\n",
    "check_env(env)\n",
    "\n",
    "from gym import spaces\n",
    "\n",
    "# action = spaces.flatten_space(env.action_space).sample()\n",
    "# # env.action_space.sample()\n",
    "# action\n",
    "# spaces.unflatten(env.action_space, action)\n",
    "# action\n",
    "# check_env(env.env)"
   ]
  },
  {
   "cell_type": "code",
   "execution_count": 17,
   "metadata": {},
   "outputs": [
    {
     "data": {
      "text/plain": [
       "numpy.bool_"
      ]
     },
     "execution_count": 17,
     "metadata": {},
     "output_type": "execute_result"
    }
   ],
   "source": [
    "import numpy as np\n",
    "\n",
    "arr = np.linspace(1,20,20)\n",
    "np.all(np.abs(arr - arr[0] ) < 20)\n",
    "type(np.all(np.abs(arr - arr[0]) < 1e-6))"
   ]
  }
 ],
 "metadata": {
  "interpreter": {
   "hash": "f966a718a559d3b7d69daf8b0fd8acabc25ec12405d3d34fbd7cdd12cf867495"
  },
  "kernelspec": {
   "display_name": "Python 3.9.10 ('spinlatrl')",
   "language": "python",
   "name": "python3"
  },
  "language_info": {
   "codemirror_mode": {
    "name": "ipython",
    "version": 3
   },
   "file_extension": ".py",
   "mimetype": "text/x-python",
   "name": "python",
   "nbconvert_exporter": "python",
   "pygments_lexer": "ipython3",
   "version": "3.9.10"
  },
  "orig_nbformat": 4
 },
 "nbformat": 4,
 "nbformat_minor": 2
}
