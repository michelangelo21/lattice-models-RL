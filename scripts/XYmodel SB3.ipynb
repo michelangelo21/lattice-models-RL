{
 "cells": [
  {
   "cell_type": "code",
   "execution_count": 1,
   "metadata": {},
   "outputs": [],
   "source": [
    "import gym\n",
    "import numpy as np\n",
    "from stable_baselines3 import PPO, DQN\n",
    "from datetime import datetime\n",
    "from gym.wrappers import TimeLimit\n"
   ]
  },
  {
   "cell_type": "code",
   "execution_count": 2,
   "metadata": {},
   "outputs": [
    {
     "ename": "NameError",
     "evalue": "name 'env' is not defined",
     "output_type": "error",
     "traceback": [
      "\u001b[0;31m---------------------------------------------------------------------------\u001b[0m",
      "\u001b[0;31mNameError\u001b[0m                                 Traceback (most recent call last)",
      "\u001b[1;32m/home/michelangelo/Documents/spin-lattice-RL/scripts/XYmodel SB3.ipynb Cell 2'\u001b[0m in \u001b[0;36m<module>\u001b[0;34m\u001b[0m\n\u001b[0;32m----> <a href='vscode-notebook-cell://wsl%2Bubuntu/home/michelangelo/Documents/spin-lattice-RL/scripts/XYmodel%20SB3.ipynb#ch0000005vscode-remote?line=0'>1</a>\u001b[0m action \u001b[39m=\u001b[39m env\u001b[39m.\u001b[39maction_space\u001b[39m.\u001b[39msample()\n\u001b[1;32m      <a href='vscode-notebook-cell://wsl%2Bubuntu/home/michelangelo/Documents/spin-lattice-RL/scripts/XYmodel%20SB3.ipynb#ch0000005vscode-remote?line=1'>2</a>\u001b[0m obs \u001b[39m=\u001b[39m env\u001b[39m.\u001b[39mobservation_space\u001b[39m.\u001b[39msample()\n\u001b[1;32m      <a href='vscode-notebook-cell://wsl%2Bubuntu/home/michelangelo/Documents/spin-lattice-RL/scripts/XYmodel%20SB3.ipynb#ch0000005vscode-remote?line=2'>3</a>\u001b[0m np\u001b[39m.\u001b[39muint8(\u001b[39m-\u001b[39m\u001b[39m3\u001b[39m)\n",
      "\u001b[0;31mNameError\u001b[0m: name 'env' is not defined"
     ]
    }
   ],
   "source": [
    "action = env.action_space.sample()\n",
    "obs = env.observation_space.sample()\n",
    "np.uint8(-3)"
   ]
  },
  {
   "cell_type": "code",
   "execution_count": null,
   "metadata": {},
   "outputs": [
    {
     "ename": "TypeError",
     "evalue": "'int' object is not iterable",
     "output_type": "error",
     "traceback": [
      "\u001b[0;31m---------------------------------------------------------------------------\u001b[0m",
      "\u001b[0;31mTypeError\u001b[0m                                 Traceback (most recent call last)",
      "\u001b[1;32m/home/michelangelo/Documents/spin-lattice-RL/scripts/XYmodel SB3.ipynb Cell 3'\u001b[0m in \u001b[0;36m<module>\u001b[0;34m\u001b[0m\n\u001b[1;32m      <a href='vscode-notebook-cell://wsl%2Bubuntu/home/michelangelo/Documents/spin-lattice-RL/scripts/XYmodel%20SB3.ipynb#ch0000001vscode-remote?line=0'>1</a>\u001b[0m side_length \u001b[39m=\u001b[39m \u001b[39m4\u001b[39m\n\u001b[0;32m----> <a href='vscode-notebook-cell://wsl%2Bubuntu/home/michelangelo/Documents/spin-lattice-RL/scripts/XYmodel%20SB3.ipynb#ch0000001vscode-remote?line=1'>2</a>\u001b[0m env \u001b[39m=\u001b[39m gym\u001b[39m.\u001b[39;49mmake(\u001b[39m\"\u001b[39;49m\u001b[39mgym_xymodel:xymodel-v0\u001b[39;49m\u001b[39m\"\u001b[39;49m, side_len\u001b[39m=\u001b[39;49mside_length)\n\u001b[1;32m      <a href='vscode-notebook-cell://wsl%2Bubuntu/home/michelangelo/Documents/spin-lattice-RL/scripts/XYmodel%20SB3.ipynb#ch0000001vscode-remote?line=2'>3</a>\u001b[0m env \u001b[39m=\u001b[39m TimeLimit(env, max_episode_steps\u001b[39m=\u001b[39m\u001b[39m100\u001b[39m)\n\u001b[1;32m      <a href='vscode-notebook-cell://wsl%2Bubuntu/home/michelangelo/Documents/spin-lattice-RL/scripts/XYmodel%20SB3.ipynb#ch0000001vscode-remote?line=3'>4</a>\u001b[0m \u001b[39mfrom\u001b[39;00m \u001b[39mstable_baselines3\u001b[39;00m\u001b[39m.\u001b[39;00m\u001b[39mcommon\u001b[39;00m\u001b[39m.\u001b[39;00m\u001b[39menv_checker\u001b[39;00m \u001b[39mimport\u001b[39;00m check_env\n",
      "File \u001b[0;32m~/miniconda3/envs/spinlatrl/lib/python3.9/site-packages/gym/envs/registration.py:184\u001b[0m, in \u001b[0;36mmake\u001b[0;34m(id, **kwargs)\u001b[0m\n\u001b[1;32m    <a href='file:///home/michelangelo/miniconda3/envs/spinlatrl/lib/python3.9/site-packages/gym/envs/registration.py?line=182'>183</a>\u001b[0m \u001b[39mdef\u001b[39;00m \u001b[39mmake\u001b[39m(\u001b[39mid\u001b[39m, \u001b[39m*\u001b[39m\u001b[39m*\u001b[39mkwargs):\n\u001b[0;32m--> <a href='file:///home/michelangelo/miniconda3/envs/spinlatrl/lib/python3.9/site-packages/gym/envs/registration.py?line=183'>184</a>\u001b[0m     \u001b[39mreturn\u001b[39;00m registry\u001b[39m.\u001b[39;49mmake(\u001b[39mid\u001b[39;49m, \u001b[39m*\u001b[39;49m\u001b[39m*\u001b[39;49mkwargs)\n",
      "File \u001b[0;32m~/miniconda3/envs/spinlatrl/lib/python3.9/site-packages/gym/envs/registration.py:106\u001b[0m, in \u001b[0;36mEnvRegistry.make\u001b[0;34m(self, path, **kwargs)\u001b[0m\n\u001b[1;32m    <a href='file:///home/michelangelo/miniconda3/envs/spinlatrl/lib/python3.9/site-packages/gym/envs/registration.py?line=103'>104</a>\u001b[0m     logger\u001b[39m.\u001b[39minfo(\u001b[39m\"\u001b[39m\u001b[39mMaking new env: \u001b[39m\u001b[39m%s\u001b[39;00m\u001b[39m\"\u001b[39m, path)\n\u001b[1;32m    <a href='file:///home/michelangelo/miniconda3/envs/spinlatrl/lib/python3.9/site-packages/gym/envs/registration.py?line=104'>105</a>\u001b[0m spec \u001b[39m=\u001b[39m \u001b[39mself\u001b[39m\u001b[39m.\u001b[39mspec(path)\n\u001b[0;32m--> <a href='file:///home/michelangelo/miniconda3/envs/spinlatrl/lib/python3.9/site-packages/gym/envs/registration.py?line=105'>106</a>\u001b[0m env \u001b[39m=\u001b[39m spec\u001b[39m.\u001b[39;49mmake(\u001b[39m*\u001b[39;49m\u001b[39m*\u001b[39;49mkwargs)\n\u001b[1;32m    <a href='file:///home/michelangelo/miniconda3/envs/spinlatrl/lib/python3.9/site-packages/gym/envs/registration.py?line=106'>107</a>\u001b[0m \u001b[39m# We used to have people override _reset/_step rather than\u001b[39;00m\n\u001b[1;32m    <a href='file:///home/michelangelo/miniconda3/envs/spinlatrl/lib/python3.9/site-packages/gym/envs/registration.py?line=107'>108</a>\u001b[0m \u001b[39m# reset/step. Set _gym_disable_underscore_compat = True on\u001b[39;00m\n\u001b[1;32m    <a href='file:///home/michelangelo/miniconda3/envs/spinlatrl/lib/python3.9/site-packages/gym/envs/registration.py?line=108'>109</a>\u001b[0m \u001b[39m# your environment if you use these methods and don't want\u001b[39;00m\n\u001b[1;32m    <a href='file:///home/michelangelo/miniconda3/envs/spinlatrl/lib/python3.9/site-packages/gym/envs/registration.py?line=109'>110</a>\u001b[0m \u001b[39m# compatibility code to be invoked.\u001b[39;00m\n\u001b[1;32m    <a href='file:///home/michelangelo/miniconda3/envs/spinlatrl/lib/python3.9/site-packages/gym/envs/registration.py?line=110'>111</a>\u001b[0m \u001b[39mif\u001b[39;00m (\n\u001b[1;32m    <a href='file:///home/michelangelo/miniconda3/envs/spinlatrl/lib/python3.9/site-packages/gym/envs/registration.py?line=111'>112</a>\u001b[0m     \u001b[39mhasattr\u001b[39m(env, \u001b[39m\"\u001b[39m\u001b[39m_reset\u001b[39m\u001b[39m\"\u001b[39m)\n\u001b[1;32m    <a href='file:///home/michelangelo/miniconda3/envs/spinlatrl/lib/python3.9/site-packages/gym/envs/registration.py?line=112'>113</a>\u001b[0m     \u001b[39mand\u001b[39;00m \u001b[39mhasattr\u001b[39m(env, \u001b[39m\"\u001b[39m\u001b[39m_step\u001b[39m\u001b[39m\"\u001b[39m)\n\u001b[1;32m    <a href='file:///home/michelangelo/miniconda3/envs/spinlatrl/lib/python3.9/site-packages/gym/envs/registration.py?line=113'>114</a>\u001b[0m     \u001b[39mand\u001b[39;00m \u001b[39mnot\u001b[39;00m \u001b[39mgetattr\u001b[39m(env, \u001b[39m\"\u001b[39m\u001b[39m_gym_disable_underscore_compat\u001b[39m\u001b[39m\"\u001b[39m, \u001b[39mFalse\u001b[39;00m)\n\u001b[1;32m    <a href='file:///home/michelangelo/miniconda3/envs/spinlatrl/lib/python3.9/site-packages/gym/envs/registration.py?line=114'>115</a>\u001b[0m ):\n",
      "File \u001b[0;32m~/miniconda3/envs/spinlatrl/lib/python3.9/site-packages/gym/envs/registration.py:76\u001b[0m, in \u001b[0;36mEnvSpec.make\u001b[0;34m(self, **kwargs)\u001b[0m\n\u001b[1;32m     <a href='file:///home/michelangelo/miniconda3/envs/spinlatrl/lib/python3.9/site-packages/gym/envs/registration.py?line=73'>74</a>\u001b[0m \u001b[39melse\u001b[39;00m:\n\u001b[1;32m     <a href='file:///home/michelangelo/miniconda3/envs/spinlatrl/lib/python3.9/site-packages/gym/envs/registration.py?line=74'>75</a>\u001b[0m     \u001b[39mcls\u001b[39m \u001b[39m=\u001b[39m load(\u001b[39mself\u001b[39m\u001b[39m.\u001b[39mentry_point)\n\u001b[0;32m---> <a href='file:///home/michelangelo/miniconda3/envs/spinlatrl/lib/python3.9/site-packages/gym/envs/registration.py?line=75'>76</a>\u001b[0m     env \u001b[39m=\u001b[39m \u001b[39mcls\u001b[39;49m(\u001b[39m*\u001b[39;49m\u001b[39m*\u001b[39;49m_kwargs)\n\u001b[1;32m     <a href='file:///home/michelangelo/miniconda3/envs/spinlatrl/lib/python3.9/site-packages/gym/envs/registration.py?line=77'>78</a>\u001b[0m \u001b[39m# Make the environment aware of which spec it came from.\u001b[39;00m\n\u001b[1;32m     <a href='file:///home/michelangelo/miniconda3/envs/spinlatrl/lib/python3.9/site-packages/gym/envs/registration.py?line=78'>79</a>\u001b[0m spec \u001b[39m=\u001b[39m copy\u001b[39m.\u001b[39mdeepcopy(\u001b[39mself\u001b[39m)\n",
      "File \u001b[0;32m~/Documents/spin-lattice-RL/gym-xymodel/gym_xymodel/envs/xymodel_env.py:22\u001b[0m, in \u001b[0;36mXYmodelEnv.__init__\u001b[0;34m(self, side_len)\u001b[0m\n\u001b[1;32m     <a href='file:///home/michelangelo/Documents/spin-lattice-RL/gym-xymodel/gym_xymodel/envs/xymodel_env.py?line=15'>16</a>\u001b[0m \u001b[39mself\u001b[39m\u001b[39m.\u001b[39mside_len \u001b[39m=\u001b[39m side_len\n\u001b[1;32m     <a href='file:///home/michelangelo/Documents/spin-lattice-RL/gym-xymodel/gym_xymodel/envs/xymodel_env.py?line=17'>18</a>\u001b[0m \u001b[39m# self.observation_space = spaces.Box(\u001b[39;00m\n\u001b[1;32m     <a href='file:///home/michelangelo/Documents/spin-lattice-RL/gym-xymodel/gym_xymodel/envs/xymodel_env.py?line=18'>19</a>\u001b[0m \u001b[39m#     low=0, high=255, shape=(1, side_len, side_len), dtype=np.uint8\u001b[39;00m\n\u001b[1;32m     <a href='file:///home/michelangelo/Documents/spin-lattice-RL/gym-xymodel/gym_xymodel/envs/xymodel_env.py?line=19'>20</a>\u001b[0m \u001b[39m# ) # cnn\u001b[39;00m\n\u001b[0;32m---> <a href='file:///home/michelangelo/Documents/spin-lattice-RL/gym-xymodel/gym_xymodel/envs/xymodel_env.py?line=21'>22</a>\u001b[0m \u001b[39mself\u001b[39m\u001b[39m.\u001b[39mobservation_space \u001b[39m=\u001b[39m spaces\u001b[39m.\u001b[39;49mBox(\n\u001b[1;32m     <a href='file:///home/michelangelo/Documents/spin-lattice-RL/gym-xymodel/gym_xymodel/envs/xymodel_env.py?line=22'>23</a>\u001b[0m     low\u001b[39m=\u001b[39;49m\u001b[39m0\u001b[39;49m, high\u001b[39m=\u001b[39;49m\u001b[39m255\u001b[39;49m, shape\u001b[39m=\u001b[39;49m(side_len\u001b[39m*\u001b[39;49m\u001b[39m*\u001b[39;49m\u001b[39m2\u001b[39;49m), dtype\u001b[39m=\u001b[39;49mnp\u001b[39m.\u001b[39;49muint8\n\u001b[1;32m     <a href='file:///home/michelangelo/Documents/spin-lattice-RL/gym-xymodel/gym_xymodel/envs/xymodel_env.py?line=23'>24</a>\u001b[0m )  \u001b[39m# mlp\u001b[39;00m\n\u001b[1;32m     <a href='file:///home/michelangelo/Documents/spin-lattice-RL/gym-xymodel/gym_xymodel/envs/xymodel_env.py?line=25'>26</a>\u001b[0m \u001b[39mself\u001b[39m\u001b[39m.\u001b[39mstate \u001b[39m=\u001b[39m \u001b[39mself\u001b[39m\u001b[39m.\u001b[39mobservation_space\u001b[39m.\u001b[39msample()\n\u001b[1;32m     <a href='file:///home/michelangelo/Documents/spin-lattice-RL/gym-xymodel/gym_xymodel/envs/xymodel_env.py?line=26'>27</a>\u001b[0m \u001b[39mself\u001b[39m\u001b[39m.\u001b[39menergy \u001b[39m=\u001b[39m \u001b[39mself\u001b[39m\u001b[39m.\u001b[39mcompute_energy()\n",
      "File \u001b[0;32m~/miniconda3/envs/spinlatrl/lib/python3.9/site-packages/gym/spaces/box.py:31\u001b[0m, in \u001b[0;36mBox.__init__\u001b[0;34m(self, low, high, shape, dtype)\u001b[0m\n\u001b[1;32m     <a href='file:///home/michelangelo/miniconda3/envs/spinlatrl/lib/python3.9/site-packages/gym/spaces/box.py?line=28'>29</a>\u001b[0m \u001b[39m# determine shape if it isn't provided directly\u001b[39;00m\n\u001b[1;32m     <a href='file:///home/michelangelo/miniconda3/envs/spinlatrl/lib/python3.9/site-packages/gym/spaces/box.py?line=29'>30</a>\u001b[0m \u001b[39mif\u001b[39;00m shape \u001b[39mis\u001b[39;00m \u001b[39mnot\u001b[39;00m \u001b[39mNone\u001b[39;00m:\n\u001b[0;32m---> <a href='file:///home/michelangelo/miniconda3/envs/spinlatrl/lib/python3.9/site-packages/gym/spaces/box.py?line=30'>31</a>\u001b[0m     shape \u001b[39m=\u001b[39m \u001b[39mtuple\u001b[39;49m(shape)\n\u001b[1;32m     <a href='file:///home/michelangelo/miniconda3/envs/spinlatrl/lib/python3.9/site-packages/gym/spaces/box.py?line=31'>32</a>\u001b[0m     \u001b[39massert\u001b[39;00m (\n\u001b[1;32m     <a href='file:///home/michelangelo/miniconda3/envs/spinlatrl/lib/python3.9/site-packages/gym/spaces/box.py?line=32'>33</a>\u001b[0m         np\u001b[39m.\u001b[39misscalar(low) \u001b[39mor\u001b[39;00m low\u001b[39m.\u001b[39mshape \u001b[39m==\u001b[39m shape\n\u001b[1;32m     <a href='file:///home/michelangelo/miniconda3/envs/spinlatrl/lib/python3.9/site-packages/gym/spaces/box.py?line=33'>34</a>\u001b[0m     ), \u001b[39m\"\u001b[39m\u001b[39mlow.shape doesn\u001b[39m\u001b[39m'\u001b[39m\u001b[39mt match provided shape\u001b[39m\u001b[39m\"\u001b[39m\n\u001b[1;32m     <a href='file:///home/michelangelo/miniconda3/envs/spinlatrl/lib/python3.9/site-packages/gym/spaces/box.py?line=34'>35</a>\u001b[0m     \u001b[39massert\u001b[39;00m (\n\u001b[1;32m     <a href='file:///home/michelangelo/miniconda3/envs/spinlatrl/lib/python3.9/site-packages/gym/spaces/box.py?line=35'>36</a>\u001b[0m         np\u001b[39m.\u001b[39misscalar(high) \u001b[39mor\u001b[39;00m high\u001b[39m.\u001b[39mshape \u001b[39m==\u001b[39m shape\n\u001b[1;32m     <a href='file:///home/michelangelo/miniconda3/envs/spinlatrl/lib/python3.9/site-packages/gym/spaces/box.py?line=36'>37</a>\u001b[0m     ), \u001b[39m\"\u001b[39m\u001b[39mhigh.shape doesn\u001b[39m\u001b[39m'\u001b[39m\u001b[39mt match provided shape\u001b[39m\u001b[39m\"\u001b[39m\n",
      "\u001b[0;31mTypeError\u001b[0m: 'int' object is not iterable"
     ]
    }
   ],
   "source": [
    "side_length = 4\n",
    "env = gym.make(\"gym_xymodel:xymodel-v0\", side_len=side_length)\n",
    "env = TimeLimit(env, max_episode_steps=100)\n",
    "from stable_baselines3.common.env_checker import check_env\n",
    "check_env(env)\n",
    "\n",
    "# env = gym.make('CartPole-v1')"
   ]
  },
  {
   "cell_type": "code",
   "execution_count": 11,
   "metadata": {},
   "outputs": [
    {
     "ename": "AssertionError",
     "evalue": "Error: the action space must be a vector",
     "output_type": "error",
     "traceback": [
      "\u001b[0;31m---------------------------------------------------------------------------\u001b[0m",
      "\u001b[0;31mAssertionError\u001b[0m                            Traceback (most recent call last)",
      "\u001b[1;32m/home/michelangelo/Documents/spin-lattice-RL/scripts/XYmodel SB3.ipynb Cell 4'\u001b[0m in \u001b[0;36m<module>\u001b[0;34m\u001b[0m\n\u001b[1;32m      <a href='vscode-notebook-cell://wsl%2Bubuntu/home/michelangelo/Documents/spin-lattice-RL/scripts/XYmodel%20SB3.ipynb#ch0000002vscode-remote?line=0'>1</a>\u001b[0m date \u001b[39m=\u001b[39m datetime\u001b[39m.\u001b[39mnow()\u001b[39m.\u001b[39mstrftime(\u001b[39m\"\u001b[39m\u001b[39m%\u001b[39m\u001b[39mY-\u001b[39m\u001b[39m%\u001b[39m\u001b[39mm-\u001b[39m\u001b[39m%d\u001b[39;00m\u001b[39m_\u001b[39m\u001b[39m%\u001b[39m\u001b[39mH-\u001b[39m\u001b[39m%\u001b[39m\u001b[39mM-\u001b[39m\u001b[39m%\u001b[39m\u001b[39mS\u001b[39m\u001b[39m\"\u001b[39m)\n\u001b[1;32m      <a href='vscode-notebook-cell://wsl%2Bubuntu/home/michelangelo/Documents/spin-lattice-RL/scripts/XYmodel%20SB3.ipynb#ch0000002vscode-remote?line=1'>2</a>\u001b[0m folder_path \u001b[39m=\u001b[39m \u001b[39mf\u001b[39m\u001b[39m\"\u001b[39m\u001b[39m../results/XY/\u001b[39m\u001b[39m{\u001b[39;00mdate\u001b[39m}\u001b[39;00m\u001b[39m_\u001b[39m\u001b[39m{\u001b[39;00mside_length\u001b[39m}\u001b[39;00m\u001b[39mx\u001b[39m\u001b[39m{\u001b[39;00mside_length\u001b[39m}\u001b[39;00m\u001b[39m\"\u001b[39m\n\u001b[0;32m----> <a href='vscode-notebook-cell://wsl%2Bubuntu/home/michelangelo/Documents/spin-lattice-RL/scripts/XYmodel%20SB3.ipynb#ch0000002vscode-remote?line=2'>3</a>\u001b[0m model \u001b[39m=\u001b[39m PPO(\u001b[39m\"\u001b[39;49m\u001b[39mMlpPolicy\u001b[39;49m\u001b[39m\"\u001b[39;49m, env, tensorboard_log\u001b[39m=\u001b[39;49mfolder_path)\n\u001b[1;32m      <a href='vscode-notebook-cell://wsl%2Bubuntu/home/michelangelo/Documents/spin-lattice-RL/scripts/XYmodel%20SB3.ipynb#ch0000002vscode-remote?line=3'>4</a>\u001b[0m model\u001b[39m.\u001b[39mlearn(total_timesteps\u001b[39m=\u001b[39m\u001b[39m10_000\u001b[39m)\n\u001b[1;32m      <a href='vscode-notebook-cell://wsl%2Bubuntu/home/michelangelo/Documents/spin-lattice-RL/scripts/XYmodel%20SB3.ipynb#ch0000002vscode-remote?line=4'>5</a>\u001b[0m model\u001b[39m.\u001b[39msave(\u001b[39mf\u001b[39m\u001b[39m\"\u001b[39m\u001b[39m{\u001b[39;00mfolder_path\u001b[39m}\u001b[39;00m\u001b[39m/model\u001b[39m\u001b[39m\"\u001b[39m)\n",
      "File \u001b[0;32m~/miniconda3/envs/spinlatrl/lib/python3.9/site-packages/stable_baselines3/ppo/ppo.py:152\u001b[0m, in \u001b[0;36mPPO.__init__\u001b[0;34m(self, policy, env, learning_rate, n_steps, batch_size, n_epochs, gamma, gae_lambda, clip_range, clip_range_vf, ent_coef, vf_coef, max_grad_norm, use_sde, sde_sample_freq, target_kl, tensorboard_log, create_eval_env, policy_kwargs, verbose, seed, device, _init_setup_model)\u001b[0m\n\u001b[1;32m    <a href='file:///home/michelangelo/miniconda3/envs/spinlatrl/lib/python3.9/site-packages/stable_baselines3/ppo/ppo.py?line=148'>149</a>\u001b[0m \u001b[39mself\u001b[39m\u001b[39m.\u001b[39mtarget_kl \u001b[39m=\u001b[39m target_kl\n\u001b[1;32m    <a href='file:///home/michelangelo/miniconda3/envs/spinlatrl/lib/python3.9/site-packages/stable_baselines3/ppo/ppo.py?line=150'>151</a>\u001b[0m \u001b[39mif\u001b[39;00m _init_setup_model:\n\u001b[0;32m--> <a href='file:///home/michelangelo/miniconda3/envs/spinlatrl/lib/python3.9/site-packages/stable_baselines3/ppo/ppo.py?line=151'>152</a>\u001b[0m     \u001b[39mself\u001b[39;49m\u001b[39m.\u001b[39;49m_setup_model()\n",
      "File \u001b[0;32m~/miniconda3/envs/spinlatrl/lib/python3.9/site-packages/stable_baselines3/ppo/ppo.py:155\u001b[0m, in \u001b[0;36mPPO._setup_model\u001b[0;34m(self)\u001b[0m\n\u001b[1;32m    <a href='file:///home/michelangelo/miniconda3/envs/spinlatrl/lib/python3.9/site-packages/stable_baselines3/ppo/ppo.py?line=153'>154</a>\u001b[0m \u001b[39mdef\u001b[39;00m \u001b[39m_setup_model\u001b[39m(\u001b[39mself\u001b[39m) \u001b[39m-\u001b[39m\u001b[39m>\u001b[39m \u001b[39mNone\u001b[39;00m:\n\u001b[0;32m--> <a href='file:///home/michelangelo/miniconda3/envs/spinlatrl/lib/python3.9/site-packages/stable_baselines3/ppo/ppo.py?line=154'>155</a>\u001b[0m     \u001b[39msuper\u001b[39;49m(PPO, \u001b[39mself\u001b[39;49m)\u001b[39m.\u001b[39;49m_setup_model()\n\u001b[1;32m    <a href='file:///home/michelangelo/miniconda3/envs/spinlatrl/lib/python3.9/site-packages/stable_baselines3/ppo/ppo.py?line=156'>157</a>\u001b[0m     \u001b[39m# Initialize schedules for policy/value clipping\u001b[39;00m\n\u001b[1;32m    <a href='file:///home/michelangelo/miniconda3/envs/spinlatrl/lib/python3.9/site-packages/stable_baselines3/ppo/ppo.py?line=157'>158</a>\u001b[0m     \u001b[39mself\u001b[39m\u001b[39m.\u001b[39mclip_range \u001b[39m=\u001b[39m get_schedule_fn(\u001b[39mself\u001b[39m\u001b[39m.\u001b[39mclip_range)\n",
      "File \u001b[0;32m~/miniconda3/envs/spinlatrl/lib/python3.9/site-packages/stable_baselines3/common/on_policy_algorithm.py:120\u001b[0m, in \u001b[0;36mOnPolicyAlgorithm._setup_model\u001b[0;34m(self)\u001b[0m\n\u001b[1;32m    <a href='file:///home/michelangelo/miniconda3/envs/spinlatrl/lib/python3.9/site-packages/stable_baselines3/common/on_policy_algorithm.py?line=108'>109</a>\u001b[0m buffer_cls \u001b[39m=\u001b[39m DictRolloutBuffer \u001b[39mif\u001b[39;00m \u001b[39misinstance\u001b[39m(\u001b[39mself\u001b[39m\u001b[39m.\u001b[39mobservation_space, gym\u001b[39m.\u001b[39mspaces\u001b[39m.\u001b[39mDict) \u001b[39melse\u001b[39;00m RolloutBuffer\n\u001b[1;32m    <a href='file:///home/michelangelo/miniconda3/envs/spinlatrl/lib/python3.9/site-packages/stable_baselines3/common/on_policy_algorithm.py?line=110'>111</a>\u001b[0m \u001b[39mself\u001b[39m\u001b[39m.\u001b[39mrollout_buffer \u001b[39m=\u001b[39m buffer_cls(\n\u001b[1;32m    <a href='file:///home/michelangelo/miniconda3/envs/spinlatrl/lib/python3.9/site-packages/stable_baselines3/common/on_policy_algorithm.py?line=111'>112</a>\u001b[0m     \u001b[39mself\u001b[39m\u001b[39m.\u001b[39mn_steps,\n\u001b[1;32m    <a href='file:///home/michelangelo/miniconda3/envs/spinlatrl/lib/python3.9/site-packages/stable_baselines3/common/on_policy_algorithm.py?line=112'>113</a>\u001b[0m     \u001b[39mself\u001b[39m\u001b[39m.\u001b[39mobservation_space,\n\u001b[0;32m   (...)\u001b[0m\n\u001b[1;32m    <a href='file:///home/michelangelo/miniconda3/envs/spinlatrl/lib/python3.9/site-packages/stable_baselines3/common/on_policy_algorithm.py?line=117'>118</a>\u001b[0m     n_envs\u001b[39m=\u001b[39m\u001b[39mself\u001b[39m\u001b[39m.\u001b[39mn_envs,\n\u001b[1;32m    <a href='file:///home/michelangelo/miniconda3/envs/spinlatrl/lib/python3.9/site-packages/stable_baselines3/common/on_policy_algorithm.py?line=118'>119</a>\u001b[0m )\n\u001b[0;32m--> <a href='file:///home/michelangelo/miniconda3/envs/spinlatrl/lib/python3.9/site-packages/stable_baselines3/common/on_policy_algorithm.py?line=119'>120</a>\u001b[0m \u001b[39mself\u001b[39m\u001b[39m.\u001b[39mpolicy \u001b[39m=\u001b[39m \u001b[39mself\u001b[39;49m\u001b[39m.\u001b[39;49mpolicy_class(  \u001b[39m# pytype:disable=not-instantiable\u001b[39;49;00m\n\u001b[1;32m    <a href='file:///home/michelangelo/miniconda3/envs/spinlatrl/lib/python3.9/site-packages/stable_baselines3/common/on_policy_algorithm.py?line=120'>121</a>\u001b[0m     \u001b[39mself\u001b[39;49m\u001b[39m.\u001b[39;49mobservation_space,\n\u001b[1;32m    <a href='file:///home/michelangelo/miniconda3/envs/spinlatrl/lib/python3.9/site-packages/stable_baselines3/common/on_policy_algorithm.py?line=121'>122</a>\u001b[0m     \u001b[39mself\u001b[39;49m\u001b[39m.\u001b[39;49maction_space,\n\u001b[1;32m    <a href='file:///home/michelangelo/miniconda3/envs/spinlatrl/lib/python3.9/site-packages/stable_baselines3/common/on_policy_algorithm.py?line=122'>123</a>\u001b[0m     \u001b[39mself\u001b[39;49m\u001b[39m.\u001b[39;49mlr_schedule,\n\u001b[1;32m    <a href='file:///home/michelangelo/miniconda3/envs/spinlatrl/lib/python3.9/site-packages/stable_baselines3/common/on_policy_algorithm.py?line=123'>124</a>\u001b[0m     use_sde\u001b[39m=\u001b[39;49m\u001b[39mself\u001b[39;49m\u001b[39m.\u001b[39;49muse_sde,\n\u001b[1;32m    <a href='file:///home/michelangelo/miniconda3/envs/spinlatrl/lib/python3.9/site-packages/stable_baselines3/common/on_policy_algorithm.py?line=124'>125</a>\u001b[0m     \u001b[39m*\u001b[39;49m\u001b[39m*\u001b[39;49m\u001b[39mself\u001b[39;49m\u001b[39m.\u001b[39;49mpolicy_kwargs  \u001b[39m# pytype:disable=not-instantiable\u001b[39;49;00m\n\u001b[1;32m    <a href='file:///home/michelangelo/miniconda3/envs/spinlatrl/lib/python3.9/site-packages/stable_baselines3/common/on_policy_algorithm.py?line=125'>126</a>\u001b[0m )\n\u001b[1;32m    <a href='file:///home/michelangelo/miniconda3/envs/spinlatrl/lib/python3.9/site-packages/stable_baselines3/common/on_policy_algorithm.py?line=126'>127</a>\u001b[0m \u001b[39mself\u001b[39m\u001b[39m.\u001b[39mpolicy \u001b[39m=\u001b[39m \u001b[39mself\u001b[39m\u001b[39m.\u001b[39mpolicy\u001b[39m.\u001b[39mto(\u001b[39mself\u001b[39m\u001b[39m.\u001b[39mdevice)\n",
      "File \u001b[0;32m~/miniconda3/envs/spinlatrl/lib/python3.9/site-packages/stable_baselines3/common/policies.py:483\u001b[0m, in \u001b[0;36mActorCriticPolicy.__init__\u001b[0;34m(self, observation_space, action_space, lr_schedule, net_arch, activation_fn, ortho_init, use_sde, log_std_init, full_std, sde_net_arch, use_expln, squash_output, features_extractor_class, features_extractor_kwargs, normalize_images, optimizer_class, optimizer_kwargs)\u001b[0m\n\u001b[1;32m    <a href='file:///home/michelangelo/miniconda3/envs/spinlatrl/lib/python3.9/site-packages/stable_baselines3/common/policies.py?line=479'>480</a>\u001b[0m \u001b[39mself\u001b[39m\u001b[39m.\u001b[39mdist_kwargs \u001b[39m=\u001b[39m dist_kwargs\n\u001b[1;32m    <a href='file:///home/michelangelo/miniconda3/envs/spinlatrl/lib/python3.9/site-packages/stable_baselines3/common/policies.py?line=481'>482</a>\u001b[0m \u001b[39m# Action distribution\u001b[39;00m\n\u001b[0;32m--> <a href='file:///home/michelangelo/miniconda3/envs/spinlatrl/lib/python3.9/site-packages/stable_baselines3/common/policies.py?line=482'>483</a>\u001b[0m \u001b[39mself\u001b[39m\u001b[39m.\u001b[39maction_dist \u001b[39m=\u001b[39m make_proba_distribution(action_space, use_sde\u001b[39m=\u001b[39;49muse_sde, dist_kwargs\u001b[39m=\u001b[39;49mdist_kwargs)\n\u001b[1;32m    <a href='file:///home/michelangelo/miniconda3/envs/spinlatrl/lib/python3.9/site-packages/stable_baselines3/common/policies.py?line=484'>485</a>\u001b[0m \u001b[39mself\u001b[39m\u001b[39m.\u001b[39m_build(lr_schedule)\n",
      "File \u001b[0;32m~/miniconda3/envs/spinlatrl/lib/python3.9/site-packages/stable_baselines3/common/distributions.py:660\u001b[0m, in \u001b[0;36mmake_proba_distribution\u001b[0;34m(action_space, use_sde, dist_kwargs)\u001b[0m\n\u001b[1;32m    <a href='file:///home/michelangelo/miniconda3/envs/spinlatrl/lib/python3.9/site-packages/stable_baselines3/common/distributions.py?line=656'>657</a>\u001b[0m     dist_kwargs \u001b[39m=\u001b[39m {}\n\u001b[1;32m    <a href='file:///home/michelangelo/miniconda3/envs/spinlatrl/lib/python3.9/site-packages/stable_baselines3/common/distributions.py?line=658'>659</a>\u001b[0m \u001b[39mif\u001b[39;00m \u001b[39misinstance\u001b[39m(action_space, spaces\u001b[39m.\u001b[39mBox):\n\u001b[0;32m--> <a href='file:///home/michelangelo/miniconda3/envs/spinlatrl/lib/python3.9/site-packages/stable_baselines3/common/distributions.py?line=659'>660</a>\u001b[0m     \u001b[39massert\u001b[39;00m \u001b[39mlen\u001b[39m(action_space\u001b[39m.\u001b[39mshape) \u001b[39m==\u001b[39m \u001b[39m1\u001b[39m, \u001b[39m\"\u001b[39m\u001b[39mError: the action space must be a vector\u001b[39m\u001b[39m\"\u001b[39m\n\u001b[1;32m    <a href='file:///home/michelangelo/miniconda3/envs/spinlatrl/lib/python3.9/site-packages/stable_baselines3/common/distributions.py?line=660'>661</a>\u001b[0m     \u001b[39mcls\u001b[39m \u001b[39m=\u001b[39m StateDependentNoiseDistribution \u001b[39mif\u001b[39;00m use_sde \u001b[39melse\u001b[39;00m DiagGaussianDistribution\n\u001b[1;32m    <a href='file:///home/michelangelo/miniconda3/envs/spinlatrl/lib/python3.9/site-packages/stable_baselines3/common/distributions.py?line=661'>662</a>\u001b[0m     \u001b[39mreturn\u001b[39;00m \u001b[39mcls\u001b[39m(get_action_dim(action_space), \u001b[39m*\u001b[39m\u001b[39m*\u001b[39mdist_kwargs)\n",
      "\u001b[0;31mAssertionError\u001b[0m: Error: the action space must be a vector"
     ]
    }
   ],
   "source": [
    "date = datetime.now().strftime(\"%Y-%m-%d_%H-%M-%S\")\n",
    "folder_path = f\"../results/XY/{date}_{side_length}x{side_length}\"\n",
    "model = PPO(\"MlpPolicy\", env, tensorboard_log=folder_path)\n",
    "model.learn(total_timesteps=10_000)\n",
    "model.save(f\"{folder_path}/model\")"
   ]
  },
  {
   "cell_type": "code",
   "execution_count": 3,
   "metadata": {},
   "outputs": [
    {
     "name": "stderr",
     "output_type": "stream",
     "text": [
      "/home/michelangelo/miniconda3/envs/spinlatrl/lib/python3.9/site-packages/stable_baselines3/common/env_checker.py:81: UserWarning: The action space is not based off a numpy array. Typically this means it's either a Dict or Tuple space. This type of action space is currently not supported by Stable Baselines 3. You should try to flatten the action using a wrapper.\n",
      "  warnings.warn(\n"
     ]
    }
   ],
   "source": [
    "from stable_baselines3.common.env_checker import check_env\n",
    "check_env(env)\n",
    "\n",
    "from gym import spaces\n",
    "\n",
    "# action = spaces.flatten_space(env.action_space).sample()\n",
    "# # env.action_space.sample()\n",
    "# action\n",
    "# spaces.unflatten(env.action_space, action)\n",
    "# action\n",
    "# check_env(env.env)"
   ]
  },
  {
   "cell_type": "code",
   "execution_count": 17,
   "metadata": {},
   "outputs": [
    {
     "data": {
      "text/plain": [
       "numpy.bool_"
      ]
     },
     "execution_count": 17,
     "metadata": {},
     "output_type": "execute_result"
    }
   ],
   "source": [
    "import numpy as np\n",
    "\n",
    "arr = np.linspace(1,20,20)\n",
    "np.all(np.abs(arr - arr[0] ) < 20)\n",
    "type(np.all(np.abs(arr - arr[0]) < 1e-6))"
   ]
  }
 ],
 "metadata": {
  "interpreter": {
   "hash": "f966a718a559d3b7d69daf8b0fd8acabc25ec12405d3d34fbd7cdd12cf867495"
  },
  "kernelspec": {
   "display_name": "Python 3.9.10 ('spinlatrl')",
   "language": "python",
   "name": "python3"
  },
  "language_info": {
   "codemirror_mode": {
    "name": "ipython",
    "version": 3
   },
   "file_extension": ".py",
   "mimetype": "text/x-python",
   "name": "python",
   "nbconvert_exporter": "python",
   "pygments_lexer": "ipython3",
   "version": "3.9.10"
  },
  "orig_nbformat": 4
 },
 "nbformat": 4,
 "nbformat_minor": 2
}
